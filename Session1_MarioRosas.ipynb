{
  "cells": [
    {
      "cell_type": "markdown",
      "metadata": {
        "id": "view-in-github",
        "colab_type": "text"
      },
      "source": [
        "<a href=\"https://colab.research.google.com/github/MarioROT/IHLT-MAI/blob/main/Session1_MarioRosas.ipynb\" target=\"_parent\"><img src=\"https://colab.research.google.com/assets/colab-badge.svg\" alt=\"Open In Colab\"/></a>"
      ]
    },
    {
      "cell_type": "markdown",
      "metadata": {
        "id": "mUSKNvtGzrmv"
      },
      "source": [
        "# Lab session 1 - IHLT\n",
        "**Student:** Mario Rosas Otero\n",
        "\n",
        "**Lab Professor:** Salvador Media Herrera"
      ]
    },
    {
      "cell_type": "code",
      "execution_count": null,
      "metadata": {
        "colab": {
          "base_uri": "https://localhost:8080/"
        },
        "id": "t3H-4vPY3di4",
        "outputId": "487bf3ff-e634-44e7-91f1-9230ee24b729"
      },
      "outputs": [
        {
          "name": "stderr",
          "output_type": "stream",
          "text": [
            "[nltk_data] Downloading package gutenberg to\n",
            "[nltk_data]     C:\\Users\\mario\\AppData\\Roaming\\nltk_data...\n",
            "[nltk_data]   Package gutenberg is already up-to-date!\n",
            "[nltk_data] Downloading package stopwords to\n",
            "[nltk_data]     C:\\Users\\mario\\AppData\\Roaming\\nltk_data...\n",
            "[nltk_data]   Package stopwords is already up-to-date!\n"
          ]
        },
        {
          "data": {
            "text/plain": [
              "True"
            ]
          },
          "execution_count": 1,
          "metadata": {},
          "output_type": "execute_result"
        }
      ],
      "source": [
        "import string\n",
        "import collections\n",
        "import pandas as pd\n",
        "import nltk\n",
        "from nltk.corpus import gutenberg\n",
        "from nltk.text import Text\n",
        "nltk.download('gutenberg')\n",
        "nltk.download('stopwords')"
      ]
    },
    {
      "cell_type": "code",
      "execution_count": null,
      "metadata": {
        "id": "Sthz93HfrS26"
      },
      "outputs": [],
      "source": [
        "def clean_corpus(corpus, stopwords, minwords_len, signs):\n",
        "   corpus = [word.lower() for word in corpus]\n",
        "   corpus = [word for word in corpus if word not in stopwords]\n",
        "   corpus = [word for word in corpus if len(word) > minwords_len]\n",
        "   corpus = [word for word in corpus if not any(caracter in signs for caracter in word)]\n",
        "   return corpus"
      ]
    },
    {
      "cell_type": "code",
      "execution_count": null,
      "metadata": {
        "id": "gFcAPgAI_LT7"
      },
      "outputs": [],
      "source": [
        "corpus = list(gutenberg.words('blake-poems.txt'))\n",
        "stopwords=set(nltk.corpus.stopwords.words('english'))\n",
        "signs = string.punctuation\n",
        "minwords_len = 2"
      ]
    },
    {
      "cell_type": "code",
      "execution_count": null,
      "metadata": {
        "id": "F2Xdw68Ep2OM"
      },
      "outputs": [],
      "source": [
        " corpus_cleaned = clean_corpus(corpus,stopwords,minwords_len, signs)"
      ]
    },
    {
      "cell_type": "code",
      "execution_count": null,
      "metadata": {
        "colab": {
          "base_uri": "https://localhost:8080/"
        },
        "id": "gE2Ey6eAqavJ",
        "outputId": "9a1815f9-316f-40f5-b2d1-a7e5f5f167a9"
      },
      "outputs": [
        {
          "name": "stdout",
          "output_type": "stream",
          "text": [
            "Top 25 words in Blake Poems: \n",
            "\n"
          ]
        },
        {
          "data": {
            "text/plain": [
              "little    45\n",
              "thee      42\n",
              "like      35\n",
              "thou      35\n",
              "thy       31\n",
              "love      29\n",
              "night     28\n",
              "sweet     28\n",
              "joy       25\n",
              "weep      24\n",
              "away      24\n",
              "father    22\n",
              "sleep     21\n",
              "day       19\n",
              "happy     19\n",
              "mother    19\n",
              "shall     19\n",
              "child     18\n",
              "every     17\n",
              "never     17\n",
              "infant    16\n",
              "voice     16\n",
              "green     16\n",
              "hear      16\n",
              "thel      16\n",
              "dtype: int64"
            ]
          },
          "execution_count": 5,
          "metadata": {},
          "output_type": "execute_result"
        }
      ],
      "source": [
        "frequency = collections.Counter(corpus_cleaned)\n",
        "print('Top 25 words in Blake Poems: \\n')\n",
        "pd.Series(frequency).sort_values(ascending=False)[:25]"
      ]
    },
    {
      "cell_type": "markdown",
      "metadata": {
        "id": "M6JI3KB1ekRe"
      },
      "source": [
        "# Conclusion\n",
        "\n",
        "* According to the objective of the practice, the characters that are not important for the general understanding of Blake's poem were eliminated. In particular, the text was cleaned by parsing to lower case, eliminating short words, stopwords and punctuation marks. With this cleaning it is possible to leave the words that most help to understand the meaning of the poem and facilitate further analysis.\n"
      ]
    }
  ],
  "metadata": {
    "colab": {
      "provenance": [],
      "include_colab_link": true
    },
    "kernelspec": {
      "display_name": "IHLT",
      "language": "python",
      "name": "ihlt"
    },
    "language_info": {
      "codemirror_mode": {
        "name": "ipython",
        "version": 3
      },
      "file_extension": ".py",
      "mimetype": "text/x-python",
      "name": "python",
      "nbconvert_exporter": "python",
      "pygments_lexer": "ipython3",
      "version": "3.9.13"
    },
    "vscode": {
      "interpreter": {
        "hash": "0795eca24a98e58b2dcbec80c9554a91f94c5c7d4e675f06c8c2f85c434623a5"
      }
    }
  },
  "nbformat": 4,
  "nbformat_minor": 0
}