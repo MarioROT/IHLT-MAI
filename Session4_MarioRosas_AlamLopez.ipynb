{
  "cells": [
    {
      "cell_type": "markdown",
      "metadata": {
        "id": "view-in-github",
        "colab_type": "text"
      },
      "source": [
        "<a href=\"https://colab.research.google.com/github/MarioROT/IHLT-MAI/blob/main/Session4_MarioRosas_AlamLopez.ipynb\" target=\"_parent\"><img src=\"https://colab.research.google.com/assets/colab-badge.svg\" alt=\"Open In Colab\"/></a>"
      ]
    },
    {
      "cell_type": "markdown",
      "metadata": {
        "id": "LpEp-jhafvsx"
      },
      "source": [
        "# Lab session 4 (Part of Speech Tagging) - IHLT\n",
        "\n",
        "**Students:**\n",
        "- Mario Rosas\n",
        "- Alam Lopez\n",
        "\n",
        "**Lab Professor:** Salvador Medina Herrera"
      ]
    },
    {
      "cell_type": "markdown",
      "metadata": {
        "id": "l0LXucmalIYk"
      },
      "source": [
        "## Paraphrases Template"
      ]
    },
    {
      "cell_type": "code",
      "execution_count": 1,
      "metadata": {
        "id": "yeQ11CQB4e3o",
        "outputId": "3be85539-ab1d-4728-91f6-17746d080624",
        "colab": {
          "base_uri": "https://localhost:8080/"
        }
      },
      "outputs": [
        {
          "output_type": "stream",
          "name": "stdout",
          "text": [
            "Cloning into 'IHLT-MAI'...\n",
            "remote: Enumerating objects: 174, done.\u001b[K\n",
            "remote: Counting objects: 100% (174/174), done.\u001b[K\n",
            "remote: Compressing objects: 100% (145/145), done.\u001b[K\n",
            "remote: Total 174 (delta 90), reused 83 (delta 28), pack-reused 0\u001b[K\n",
            "Receiving objects: 100% (174/174), 195.35 KiB | 1.04 MiB/s, done.\n",
            "Resolving deltas: 100% (90/90), done.\n",
            "Collecting python-crfsuite\n",
            "  Downloading python_crfsuite-0.9.9-cp310-cp310-manylinux_2_17_x86_64.manylinux2014_x86_64.whl (993 kB)\n",
            "\u001b[2K     \u001b[90m━━━━━━━━━━━━━━━━━━━━━━━━━━━━━━━━━━━━━━━\u001b[0m \u001b[32m993.5/993.5 kB\u001b[0m \u001b[31m6.3 MB/s\u001b[0m eta \u001b[36m0:00:00\u001b[0m\n",
            "\u001b[?25hInstalling collected packages: python-crfsuite\n",
            "Successfully installed python-crfsuite-0.9.9\n"
          ]
        },
        {
          "output_type": "execute_result",
          "data": {
            "text/plain": []
          },
          "metadata": {},
          "execution_count": 1
        }
      ],
      "source": [
        "%%shell\n",
        "git clone https://github.com/mariorot/IHLT-MAI.git\n",
        "cd 'IHLT-MAI'\n",
        "mv 'complementary_material' /content/\n",
        "mv scripts /content/\n",
        "\n",
        "pip install python-crfsuite"
      ]
    },
    {
      "cell_type": "code",
      "source": [
        "from scripts.models import StatisticalModels\n",
        "import numpy as np\n"
      ],
      "metadata": {
        "id": "s7bRstKeg0kV"
      },
      "execution_count": 8,
      "outputs": []
    },
    {
      "cell_type": "markdown",
      "metadata": {
        "id": "6HHcaJhckB_Q"
      },
      "source": [
        "## TODO\n",
        "1. Consider Treebank corpus.\n",
        "  - Train HMM, TnT, perceptron and CRF models using the first 500, 1000, 1500, 2000, 2500 and 3000 sentences.\n",
        "  - Evaluate the resulting 24 models using sentences from 3001.\n",
        "\n",
        "2. Provide a figure with four learning curves, each per model type (X=training set size; Y=accuracy).\n",
        "  - Which model would you select? Justify the answer."
      ]
    },
    {
      "cell_type": "markdown",
      "source": [
        "The code for the tokenization is at: https://github.com/MarioROT/IHLT-MAI/blob/main/scripts/text_preprocessing.py\n",
        "\n",
        "The code for jaccard distance computation is at: https://github.com/MarioROT/IHLT-MAI/blob/main/scripts/compute_metrics.py"
      ],
      "metadata": {
        "id": "1Zbp3bhp5gWC"
      }
    },
    {
      "cell_type": "code",
      "source": [
        "import nltk\n",
        "nltk.download('treebank')"
      ],
      "metadata": {
        "id": "UGlXpEkcqopY",
        "outputId": "103072d8-198b-415c-add3-38c123bfefd0",
        "colab": {
          "base_uri": "https://localhost:8080/"
        }
      },
      "execution_count": 3,
      "outputs": [
        {
          "output_type": "stream",
          "name": "stderr",
          "text": [
            "[nltk_data] Downloading package treebank to /root/nltk_data...\n",
            "[nltk_data]   Unzipping corpora/treebank.zip.\n"
          ]
        },
        {
          "output_type": "execute_result",
          "data": {
            "text/plain": [
              "True"
            ]
          },
          "metadata": {},
          "execution_count": 3
        }
      ]
    },
    {
      "cell_type": "code",
      "source": [
        "\n"
      ],
      "metadata": {
        "id": "hKHMNdU0P6qY",
        "outputId": "903f3250-4828-46b0-d888-0aa9c9d25683",
        "colab": {
          "base_uri": "https://localhost:8080/"
        }
      },
      "execution_count": 15,
      "outputs": [
        {
          "output_type": "execute_result",
          "data": {
            "text/plain": [
              "array([ 500, 1000, 1500, 2000, 2500, 3000])"
            ]
          },
          "metadata": {},
          "execution_count": 15
        }
      ]
    },
    {
      "cell_type": "code",
      "source": [
        "groups=np.linspace(500,3000,num=6,dtype=int)\n",
        "data = nltk.corpus.treebank.tagged_sents()\n",
        "test = nltk.corpus.treebank.tagged_sents()[3000:]\n",
        "for group in groups:\n",
        "  var_name=f\"train_{group}\"\n",
        "  value=nltk.corpus.treebank.tagged_sents()[:group]\n",
        "  globals()  [var_name]=value"
      ],
      "metadata": {
        "id": "CWRCpET5QrGo",
        "outputId": "55541556-be76-432c-a4e4-04a6e6904982",
        "colab": {
          "base_uri": "https://localhost:8080/"
        }
      },
      "execution_count": 30,
      "outputs": [
        {
          "output_type": "execute_result",
          "data": {
            "text/plain": [
              "[[('Pierre', 'NNP'), ('Vinken', 'NNP'), (',', ','), ('61', 'CD'), ('years', 'NNS'), ('old', 'JJ'), (',', ','), ('will', 'MD'), ('join', 'VB'), ('the', 'DT'), ('board', 'NN'), ('as', 'IN'), ('a', 'DT'), ('nonexecutive', 'JJ'), ('director', 'NN'), ('Nov.', 'NNP'), ('29', 'CD'), ('.', '.')], [('Mr.', 'NNP'), ('Vinken', 'NNP'), ('is', 'VBZ'), ('chairman', 'NN'), ('of', 'IN'), ('Elsevier', 'NNP'), ('N.V.', 'NNP'), (',', ','), ('the', 'DT'), ('Dutch', 'NNP'), ('publishing', 'VBG'), ('group', 'NN'), ('.', '.')], ...]"
            ]
          },
          "metadata": {},
          "execution_count": 30
        }
      ]
    },
    {
      "cell_type": "code",
      "source": [
        "\n",
        "\n",
        "data = nltk.corpus.treebank.tagged_sents()\n",
        "train = nltk.corpus.treebank.tagged_sents()[:3000]\n"
      ],
      "metadata": {
        "id": "agTgAI63q2yy"
      },
      "execution_count": 36,
      "outputs": []
    },
    {
      "cell_type": "code",
      "source": [
        "sm = StatisticalModels(data, [3000], 3000, ['HMM', 'TnT', 'PER', 'CRF'])\n",
        "sm_500=StatisticalModels(data, [3000], 500, ['HMM', 'TnT', 'PER', 'CRF'])\n"
      ],
      "metadata": {
        "id": "pLYa-qixlJkP"
      },
      "execution_count": 33,
      "outputs": []
    },
    {
      "cell_type": "code",
      "source": [
        "sm.do()\n",
        "sm_2.do()"
      ],
      "metadata": {
        "id": "WRp0pJTLmZLw",
        "outputId": "0f7fa92a-2d41-4031-d1bd-3178f0bab256",
        "colab": {
          "base_uri": "https://localhost:8080/"
        }
      },
      "execution_count": 34,
      "outputs": [
        {
          "output_type": "stream",
          "name": "stderr",
          "text": [
            "  0%|          | 0/100 [00:00<?, ?it/s]\n",
            "  0%|          | 0/1 [00:00<?, ?it/s]\u001b[A\n",
            "100%|██████████| 1/1 [02:44<00:00, 164.91s/it]\n",
            "  0%|          | 0/100 [02:45<?, ?it/s]\n"
          ]
        },
        {
          "output_type": "stream",
          "name": "stdout",
          "text": [
            "3000\n"
          ]
        },
        {
          "output_type": "stream",
          "name": "stderr",
          "text": [
            "  0%|          | 0/100 [00:00<?, ?it/s]\n",
            "  0%|          | 0/1 [00:00<?, ?it/s]\u001b[A\n",
            "100%|██████████| 1/1 [08:05<00:00, 485.22s/it]\n",
            "  0%|          | 0/100 [08:05<?, ?it/s]"
          ]
        },
        {
          "output_type": "stream",
          "name": "stdout",
          "text": [
            "3000\n"
          ]
        },
        {
          "output_type": "stream",
          "name": "stderr",
          "text": [
            "\n"
          ]
        },
        {
          "output_type": "execute_result",
          "data": {
            "text/plain": [
              "({'HMM': [26.779864072799683],\n",
              "  'TnT': [386.2489471435547],\n",
              "  'PER': [25.068055868148804],\n",
              "  'CRF': [47.11687898635864]},\n",
              " {'HMM': [0.821], 'TnT': [0.958], 'PER': [0.985], 'CRF': [0.956]})"
            ]
          },
          "metadata": {},
          "execution_count": 34
        }
      ]
    },
    {
      "cell_type": "code",
      "source": [
        "sm.results()"
      ],
      "metadata": {
        "id": "PEPt-iJevwuF",
        "outputId": "e7b98e0c-ed13-4873-aef4-e65fc428271d",
        "colab": {
          "base_uri": "https://localhost:8080/",
          "height": 912
        }
      },
      "execution_count": 35,
      "outputs": [
        {
          "output_type": "display_data",
          "data": {
            "text/plain": [
              "<Figure size 640x480 with 1 Axes>"
            ],
            "image/png": "[encoded data removed]"
          },
          "metadata": {}
        },
        {
          "output_type": "stream",
          "name": "stdout",
          "text": [
            "     HMM     TnT    PER     CRF  Sentences\n",
            "0  8.219  90.309  20.01  46.361       3000\n"
          ]
        },
        {
          "output_type": "display_data",
          "data": {
            "text/plain": [
              "<Figure size 640x480 with 1 Axes>"
            ],
            "image/png": "[encoded data removed]"
          },
          "metadata": {}
        },
        {
          "output_type": "stream",
          "name": "stdout",
          "text": [
            "     HMM      TnT     PER     CRF  Sentences\n",
            "0  26.78  386.249  25.068  47.117       3000\n"
          ]
        }
      ]
    },
    {
      "cell_type": "code",
      "source": [
        "trainer = nltk.tag.hmm.HiddenMarkovModelTrainer()\n",
        "HMM = trainer.train_supervised(train)\n",
        "HMM.accuracy(test)"
      ],
      "metadata": {
        "id": "0vDQavsYq4Og",
        "outputId": "826367e8-72a7-4702-c9bb-ffdc16fb15e3",
        "colab": {
          "base_uri": "https://localhost:8080/"
        }
      },
      "execution_count": null,
      "outputs": [
        {
          "output_type": "execute_result",
          "data": {
            "text/plain": [
              "0.36844377293330455"
            ]
          },
          "metadata": {},
          "execution_count": 9
        }
      ]
    },
    {
      "cell_type": "code",
      "source": [
        "len(set(test).difference(train))"
      ],
      "metadata": {
        "id": "tYsIMpSIq6qW",
        "outputId": "35a58daa-102f-4545-e22e-60ad6eacdf48",
        "colab": {
          "base_uri": "https://localhost:8080/",
          "height": 182
        }
      },
      "execution_count": null,
      "outputs": [
        {
          "output_type": "error",
          "ename": "TypeError",
          "evalue": "ignored",
          "traceback": [
            "\u001b[0;31m---------------------------------------------------------------------------\u001b[0m",
            "\u001b[0;31mTypeError\u001b[0m                                 Traceback (most recent call last)",
            "\u001b[0;32m<ipython-input-10-c61b55a8d0a8>\u001b[0m in \u001b[0;36m<cell line: 1>\u001b[0;34m()\u001b[0m\n\u001b[0;32m----> 1\u001b[0;31m \u001b[0mlen\u001b[0m\u001b[0;34m(\u001b[0m\u001b[0mset\u001b[0m\u001b[0;34m(\u001b[0m\u001b[0mtest\u001b[0m\u001b[0;34m)\u001b[0m\u001b[0;34m.\u001b[0m\u001b[0mdifference\u001b[0m\u001b[0;34m(\u001b[0m\u001b[0mtrain\u001b[0m\u001b[0;34m)\u001b[0m\u001b[0;34m)\u001b[0m\u001b[0;34m\u001b[0m\u001b[0;34m\u001b[0m\u001b[0m\n\u001b[0m",
            "\u001b[0;31mTypeError\u001b[0m: unhashable type: 'list'"
          ]
        }
      ]
    },
    {
      "cell_type": "code",
      "source": [
        "def LID(fd, bins):\n",
        "  return nltk.probability.LidstoneProbDist(fd, 0.1, bins)\n",
        "trainer = nltk.tag.hmm.HiddenMarkovModelTrainer()\n",
        "HMM = trainer.train_supervised(train, estimator=LID)\n",
        "HMM.accuracy(test)"
      ],
      "metadata": {
        "id": "4VZcKBNiq-CK",
        "outputId": "83d4f582-0b8a-4246-847e-75c7f06986b0",
        "colab": {
          "base_uri": "https://localhost:8080/"
        }
      },
      "execution_count": null,
      "outputs": [
        {
          "output_type": "execute_result",
          "data": {
            "text/plain": [
              "0.8984243470753291"
            ]
          },
          "metadata": {},
          "execution_count": 11
        }
      ]
    },
    {
      "cell_type": "code",
      "source": [
        "HMM = nltk.HiddenMarkovModelTagger.train(train)\n",
        "HMM.accuracy(test)"
      ],
      "metadata": {
        "id": "COiC0KKNrHBm",
        "outputId": "7b8f151b-a325-41e8-c8df-7ee68a75cbb9",
        "colab": {
          "base_uri": "https://localhost:8080/"
        }
      },
      "execution_count": null,
      "outputs": [
        {
          "output_type": "execute_result",
          "data": {
            "text/plain": [
              "0.8984243470753291"
            ]
          },
          "metadata": {},
          "execution_count": 6
        }
      ]
    },
    {
      "cell_type": "code",
      "source": [
        "import dill\n",
        "from google.colab import drive\n",
        "drive.mount('/content/drive')\n",
        "with open('/content/drive/My Drive/models/hmmTagger.dill', 'wb') as f:\n",
        "    dill.dump(HMM, f)"
      ],
      "metadata": {
        "id": "Rxgm5zRcrJ1D"
      },
      "execution_count": null,
      "outputs": []
    },
    {
      "cell_type": "code",
      "source": [
        "TnT = nltk.tag.tnt.TnT()\n",
        "TnT.train(train_data)\n",
        "TnT.accuracy(test_data)"
      ],
      "metadata": {
        "id": "sIZtWgzcrbuP"
      },
      "execution_count": null,
      "outputs": []
    },
    {
      "cell_type": "code",
      "source": [
        "TnT.tag(['the', 'men', 'attended', 'to', 'the', 'meetings'])"
      ],
      "metadata": {
        "id": "25RAnI5Yrf15"
      },
      "execution_count": null,
      "outputs": []
    },
    {
      "cell_type": "code",
      "source": [
        "PER = nltk.tag.perceptron.PerceptronTagger(load=False)\n",
        "PER.train(train_data)\n",
        "PER.accuracy(test_data)"
      ],
      "metadata": {
        "id": "4riG_VRGrg0F"
      },
      "execution_count": null,
      "outputs": []
    },
    {
      "cell_type": "code",
      "source": [
        "PER.tag(['the', 'men', 'attended', 'to', 'the', 'meetings'])"
      ],
      "metadata": {
        "id": "QNuIrOcHrkM9"
      },
      "execution_count": null,
      "outputs": []
    },
    {
      "cell_type": "code",
      "source": [
        "!pip install python-crfsuite\n",
        "CRF = nltk.tag.CRFTagger()\n",
        "CRF.train(train_data,'crf_tagger_model')\n",
        "CRF.accuracy(test_data)"
      ],
      "metadata": {
        "id": "A2rEvWrIrmia"
      },
      "execution_count": null,
      "outputs": []
    },
    {
      "cell_type": "code",
      "source": [
        "CRF.tag(['the', 'men', 'attended', 'to', 'the', 'meetings'])"
      ],
      "metadata": {
        "id": "bIFB4GURrqJD"
      },
      "execution_count": null,
      "outputs": []
    },
    {
      "cell_type": "markdown",
      "metadata": {
        "id": "MjCFQFyeeO28"
      },
      "source": [
        "# Conclusion\n",
        "\n",
        "In this lab session excercise, we compared sentence pairs using Jaccard distance with and without lemmatization and data cleaning.\n",
        "\n",
        "- **Which is better: words or lemmas?**\n",
        "  - It can be seen that on average the lemmas outperformed the words in 3 out of 4 scenarios by 2-5%.\n",
        "  \n",
        " -  The only case in which the words were better was with the raw/uncleaned pair of sentences with the NLTK tokenizer, but only by 0.2%.\n",
        "  \n",
        "  - Thus, in general, lemmas work better with either NLTK or spaCy lemmatization, and this makes sense because we have the root of the words, and the similarity will be higher, instead of possible variations where the similarity will be lower.\n",
        "\n",
        "\n",
        "- **Do you think that could perform better for any pair of texts?**\n",
        "\n",
        "  - Even when we are going to have exceptions with some sentences, in the majority of the cases the performance will be better because we increase the number of words in common between the compared sets.\n",
        "\n",
        "\n",
        "SpaCy's lemmatization generally outperformed NLTK, indicating that it might be more effective in capturing the semantic similarity between words, leading to improved sentence comparison results.\n",
        "\n",
        "Data cleaning including lowercase conversion, punctuation removal, and stopword removal, helped in all cases to improve performance. Both NLTK and spaCy lemmatization processes benefited from data cleaning, resulting in several cases in lower Jaccard distance values, indicating a better measure of similarity.\n",
        "\n"
      ]
    }
  ],
  "metadata": {
    "colab": {
      "provenance": [],
      "include_colab_link": true
    },
    "kernelspec": {
      "display_name": "IHLT",
      "language": "python",
      "name": "ihlt"
    },
    "language_info": {
      "codemirror_mode": {
        "name": "ipython",
        "version": 3
      },
      "file_extension": ".py",
      "mimetype": "text/x-python",
      "name": "python",
      "nbconvert_exporter": "python",
      "pygments_lexer": "ipython3",
      "version": "3.9.13"
    },
    "vscode": {
      "interpreter": {
        "hash": "0795eca24a98e58b2dcbec80c9554a91f94c5c7d4e675f06c8c2f85c434623a5"
      }
    }
  },
  "nbformat": 4,
  "nbformat_minor": 0
}