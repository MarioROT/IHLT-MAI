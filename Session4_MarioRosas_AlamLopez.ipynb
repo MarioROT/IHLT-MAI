{
  "cells": [
    {
      "cell_type": "markdown",
      "metadata": {
        "id": "view-in-github",
        "colab_type": "text"
      },
      "source": [
        "<a href=\"https://colab.research.google.com/github/MarioROT/IHLT-MAI/blob/main/Session4_MarioRosas_AlamLopez.ipynb\" target=\"_parent\"><img src=\"https://colab.research.google.com/assets/colab-badge.svg\" alt=\"Open In Colab\"/></a>"
      ]
    },
    {
      "cell_type": "markdown",
      "metadata": {
        "id": "LpEp-jhafvsx"
      },
      "source": [
        "# Lab session 4 (Part of Speech Tagging) - IHLT\n",
        "\n",
        "**Students:**\n",
        "- Mario Rosas\n",
        "- Alam Lopez\n",
        "\n",
        "**Lab Professor:** Salvador Medina Herrera"
      ]
    },
    {
      "cell_type": "markdown",
      "metadata": {
        "id": "l0LXucmalIYk"
      },
      "source": [
        "## Paraphrases Template"
      ]
    },
    {
      "cell_type": "code",
      "execution_count": 1,
      "metadata": {
        "id": "yeQ11CQB4e3o",
        "outputId": "2ffa9c13-cb95-439a-bef4-302a9c0b5561",
        "colab": {
          "base_uri": "https://localhost:8080/"
        }
      },
      "outputs": [
        {
          "output_type": "stream",
          "name": "stdout",
          "text": [
            "Cloning into 'IHLT-MAI'...\n",
            "remote: Enumerating objects: 209, done.\u001b[K\n",
            "remote: Counting objects: 100% (19/19), done.\u001b[K\n",
            "remote: Compressing objects: 100% (7/7), done.\u001b[K\n",
            "remote: Total 209 (delta 14), reused 12 (delta 12), pack-reused 190\u001b[K\n",
            "Receiving objects: 100% (209/209), 228.93 KiB | 3.14 MiB/s, done.\n",
            "Resolving deltas: 100% (104/104), done.\n",
            "Collecting python-crfsuite\n",
            "  Downloading python_crfsuite-0.9.9-cp310-cp310-manylinux_2_17_x86_64.manylinux2014_x86_64.whl (993 kB)\n",
            "\u001b[2K     \u001b[90m━━━━━━━━━━━━━━━━━━━━━━━━━━━━━━━━━━━━━━━\u001b[0m \u001b[32m993.5/993.5 kB\u001b[0m \u001b[31m9.9 MB/s\u001b[0m eta \u001b[36m0:00:00\u001b[0m\n",
            "\u001b[?25hInstalling collected packages: python-crfsuite\n",
            "Successfully installed python-crfsuite-0.9.9\n"
          ]
        },
        {
          "output_type": "execute_result",
          "data": {
            "text/plain": []
          },
          "metadata": {},
          "execution_count": 1
        }
      ],
      "source": [
        "%%shell\n",
        "git clone https://github.com/mariorot/IHLT-MAI.git\n",
        "cd 'IHLT-MAI'\n",
        "mv 'complementary_material' /content/\n",
        "mv scripts /content/\n",
        "\n",
        "pip install python-crfsuite"
      ]
    },
    {
      "cell_type": "code",
      "source": [
        "from scripts.models import StatisticalModels\n",
        "import numpy as np\n",
        "import nltk\n",
        "nltk.download('treebank')"
      ],
      "metadata": {
        "id": "s7bRstKeg0kV",
        "colab": {
          "base_uri": "https://localhost:8080/"
        },
        "outputId": "01ffddb6-8b8a-4d35-e9db-b70fe98c815e"
      },
      "execution_count": 2,
      "outputs": [
        {
          "output_type": "stream",
          "name": "stderr",
          "text": [
            "[nltk_data] Downloading package treebank to /root/nltk_data...\n",
            "[nltk_data]   Unzipping corpora/treebank.zip.\n"
          ]
        },
        {
          "output_type": "execute_result",
          "data": {
            "text/plain": [
              "True"
            ]
          },
          "metadata": {},
          "execution_count": 2
        }
      ]
    },
    {
      "cell_type": "markdown",
      "metadata": {
        "id": "6HHcaJhckB_Q"
      },
      "source": [
        "## TODO\n",
        "1. Consider Treebank corpus.\n",
        "  - Train HMM, TnT, perceptron and CRF models using the first 500, 1000, 1500, 2000, 2500 and 3000 sentences.\n",
        "  - Evaluate the resulting 24 models using sentences from 3001.\n",
        "\n",
        "2. Provide a figure with four learning curves, each per model type (X=training set size; Y=accuracy).\n",
        "  - Which model would you select? Justify the answer."
      ]
    },
    {
      "cell_type": "markdown",
      "source": [
        "The code for the models is at: https://github.com/MarioROT/IHLT-MAI/blob/main/scripts/models.py\n"
      ],
      "metadata": {
        "id": "1Zbp3bhp5gWC"
      }
    },
    {
      "cell_type": "code",
      "source": [
        "data = nltk.corpus.treebank.tagged_sents()\n",
        "train = nltk.corpus.treebank.tagged_sents()[:3000]\n"
      ],
      "metadata": {
        "id": "agTgAI63q2yy"
      },
      "execution_count": 3,
      "outputs": []
    },
    {
      "cell_type": "code",
      "source": [
        "\n",
        "sm = StatisticalModels(data, [500,1000,1500,2000,2500,3000], 3000, ['HMM', 'TnT', 'PER', 'CRF'])\n"
      ],
      "metadata": {
        "id": "pLYa-qixlJkP"
      },
      "execution_count": 4,
      "outputs": []
    },
    {
      "cell_type": "code",
      "source": [
        "var1=sm.do()"
      ],
      "metadata": {
        "id": "WRp0pJTLmZLw",
        "outputId": "10aaf9a6-cb33-45d6-d99c-690904f9d2e2",
        "colab": {
          "base_uri": "https://localhost:8080/"
        }
      },
      "execution_count": 5,
      "outputs": [
        {
          "metadata": {
            "tags": null
          },
          "name": "stderr",
          "output_type": "stream",
          "text": [
            "  0%|          | 0/100 [00:00<?, ?it/s]\n",
            "  0%|          | 0/6 [00:00<?, ?it/s]\u001b[A\n",
            " 17%|█▋        | 1/6 [00:35<02:57, 35.41s/it]\u001b[A"
          ]
        },
        {
          "metadata": {
            "tags": null
          },
          "name": "stdout",
          "output_type": "stream",
          "text": [
            "500\n"
          ]
        },
        {
          "metadata": {
            "tags": null
          },
          "name": "stderr",
          "output_type": "stream",
          "text": [
            "\n",
            " 33%|███▎      | 2/6 [01:43<03:38, 54.74s/it]\u001b[A"
          ]
        },
        {
          "metadata": {
            "tags": null
          },
          "name": "stdout",
          "output_type": "stream",
          "text": [
            "1000\n"
          ]
        },
        {
          "metadata": {
            "tags": null
          },
          "name": "stderr",
          "output_type": "stream",
          "text": [
            "\n",
            " 50%|█████     | 3/6 [03:27<03:51, 77.32s/it]\u001b[A"
          ]
        },
        {
          "metadata": {
            "tags": null
          },
          "name": "stdout",
          "output_type": "stream",
          "text": [
            "1500\n"
          ]
        },
        {
          "metadata": {
            "tags": null
          },
          "name": "stderr",
          "output_type": "stream",
          "text": [
            "\n",
            " 67%|██████▋   | 4/6 [05:43<03:20, 100.46s/it]\u001b[A"
          ]
        },
        {
          "metadata": {
            "tags": null
          },
          "name": "stdout",
          "output_type": "stream",
          "text": [
            "2000\n"
          ]
        },
        {
          "metadata": {
            "tags": null
          },
          "name": "stderr",
          "output_type": "stream",
          "text": [
            "\n",
            " 83%|████████▎ | 5/6 [08:22<02:01, 121.34s/it]\u001b[A"
          ]
        },
        {
          "metadata": {
            "tags": null
          },
          "name": "stdout",
          "output_type": "stream",
          "text": [
            "2500\n"
          ]
        },
        {
          "metadata": {
            "tags": null
          },
          "name": "stderr",
          "output_type": "stream",
          "text": [
            "\n",
            "100%|██████████| 6/6 [11:17<00:00, 112.95s/it]\n",
            "  0%|          | 0/100 [11:19<?, ?it/s]"
          ]
        },
        {
          "metadata": {
            "tags": null
          },
          "name": "stdout",
          "output_type": "stream",
          "text": [
            "3000\n"
          ]
        },
        {
          "metadata": {
            "tags": null
          },
          "name": "stderr",
          "output_type": "stream",
          "text": [
            "\n"
          ]
        }
      ]
    },
    {
      "cell_type": "code",
      "source": [
        "sm.results()"
      ],
      "metadata": {
        "id": "PEPt-iJevwuF",
        "outputId": "0f51c418-1cd2-48a4-c996-23de70c6b265",
        "colab": {
          "base_uri": "https://localhost:8080/",
          "height": 794
        }
      },
      "execution_count": 6,
      "outputs": [
        {
          "data": {
            "image/png": "[encoded data removed]",
            "text/plain": [
              "<Figure size 640x480 with 1 Axes>"
            ]
          },
          "metadata": {},
          "output_type": "display_data"
        },
        {
          "metadata": {
            "tags": null
          },
          "name": "stdout",
          "output_type": "stream",
          "text": [
            "     HMM    TnT     PER     CRF  Sentences\n",
            "0  0.265  0.198   6.505   3.632        500\n",
            "1  0.299  0.383   7.610  10.712       1000\n",
            "2  0.443  0.598  10.273  19.192       1500\n",
            "3  0.582  0.801  14.248  30.556       2000\n",
            "4  0.750  0.971  18.022  42.087       2500\n",
            "5  0.926  1.161  21.087  51.538       3000 \n",
            "      HMM     TnT    PER    CRF  Sentences\n",
            "0  5.995  15.935  2.213  0.671        500\n",
            "1  7.498  39.474  1.614  0.678       1000\n",
            "2  6.655  64.756  1.610  0.660       1500\n",
            "3  8.171  78.972  1.677  0.906       2000\n",
            "4  7.004  87.201  1.632  0.678       2500\n",
            "5  8.344  90.132  1.629  0.687       3000 \n",
            "      HMM     TnT     PER     CRF  Sentences\n",
            "0  6.260  16.132   8.718   4.302        500\n",
            "1  7.797  39.857   9.224  11.389       1000\n",
            "2  7.098  65.353  11.883  19.852       1500\n",
            "3  8.754  79.773  15.924  31.462       2000\n",
            "4  7.754  88.173  19.653  42.766       2500\n",
            "5  9.270  91.293  22.716  52.225       3000\n"
          ]
        }
      ]
    },
    {
      "cell_type": "markdown",
      "metadata": {
        "id": "MjCFQFyeeO28"
      },
      "source": [
        "# Conclusion\n",
        "\n",
        "**Which model would you select? Justify the answer.**\n",
        "\n",
        "1. From the previous graph and tables, we can get some insights:\n",
        "\n",
        "  - PER was the model with the best accuracy in all the cases, from 500 to 3000 sentences.\n",
        "\n",
        "  - HMM was the model with the shortest average time for training while the CRF model was the one with the longest.\n",
        "\n",
        "  - CRF was the model with the shortest average time for testing, followed by PER with the double of time than CRF.\n",
        "\n",
        "  - HMM was the model with the shortest average overall (training+testing).\n",
        "  \n",
        "  - TnT and HMM models are the most sensitive to the amount of data in the training. When we increased from 500 to 3000 sentences, they improved the accuracy by 10 pp, while the PER and the CRF improved only by 5 pp. So, the size of the training data is relevant.\n",
        "\n",
        "\n",
        "2. Since there is no model that outperfomed the others in all the parameters (accuracy, training time, testing time, overall time), the definition of the best model and therefore the model that we would select, depends on the specific needs of the problem to solve. We need to consider the amount of data for training and the time constraint.\n",
        "\n",
        "  - If we are focusing, specifically on accuracy, and the time of training or testing is not a constraint, then the PER would be the best option.\n",
        "\n",
        "  - If we are pursuing to get a near real time model to test some data, and the time for training is not a constraint then the CRF will be the best option.\n",
        "  - If our goal is to have a model that training time is the main objective because we are going to train it very often, the HMM is the optimal.\n",
        "  - Finally if the main focus is the overall time of the model due to some limited resources then again the HMM is the best option.\n"
      ]
    }
  ],
  "metadata": {
    "colab": {
      "provenance": [],
      "include_colab_link": true
    },
    "kernelspec": {
      "display_name": "IHLT",
      "language": "python",
      "name": "ihlt"
    },
    "language_info": {
      "codemirror_mode": {
        "name": "ipython",
        "version": 3
      },
      "file_extension": ".py",
      "mimetype": "text/x-python",
      "name": "python",
      "nbconvert_exporter": "python",
      "pygments_lexer": "ipython3",
      "version": "3.9.13"
    },
    "vscode": {
      "interpreter": {
        "hash": "0795eca24a98e58b2dcbec80c9554a91f94c5c7d4e675f06c8c2f85c434623a5"
      }
    }
  },
  "nbformat": 4,
  "nbformat_minor": 0
}