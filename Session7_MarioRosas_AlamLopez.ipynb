{
  "cells": [
    {
      "cell_type": "markdown",
      "metadata": {
        "id": "view-in-github",
        "colab_type": "text"
      },
      "source": [
        "<a href=\"https://colab.research.google.com/github/MarioROT/IHLT-MAI/blob/main/Session7_MarioRosas_AlamLopez.ipynb\" target=\"_parent\"><img src=\"https://colab.research.google.com/assets/colab-badge.svg\" alt=\"Open In Colab\"/></a>"
      ]
    },
    {
      "cell_type": "markdown",
      "metadata": {
        "id": "LpEp-jhafvsx"
      },
      "source": [
        "# Lab session 7 (Word Sequences) - IHLT\n",
        "\n",
        "**Students:**\n",
        "- Mario Rosas\n",
        "- Alam Lopez\n",
        "\n",
        "**Lab Professor:** Salvador Medina Herrera"
      ]
    },
    {
      "cell_type": "markdown",
      "metadata": {
        "id": "l0LXucmalIYk"
      },
      "source": [
        "## Paraphrases Template"
      ]
    },
    {
      "cell_type": "code",
      "execution_count": 1,
      "metadata": {
        "id": "yeQ11CQB4e3o",
        "outputId": "1c6d81c6-b12a-461c-b7fe-c924d28297fa",
        "colab": {
          "base_uri": "https://localhost:8080/"
        }
      },
      "outputs": [
        {
          "output_type": "stream",
          "name": "stdout",
          "text": [
            "Cloning into 'IHLT-MAI'...\n",
            "remote: Enumerating objects: 303, done.\u001b[K\n",
            "remote: Counting objects: 100% (113/113), done.\u001b[K\n",
            "remote: Compressing objects: 100% (86/86), done.\u001b[K\n",
            "remote: Total 303 (delta 76), reused 42 (delta 27), pack-reused 190\u001b[K\n",
            "Receiving objects: 100% (303/303), 293.96 KiB | 1.92 MiB/s, done.\n",
            "Resolving deltas: 100% (166/166), done.\n",
            "Collecting svgling\n",
            "  Downloading svgling-0.4.0-py3-none-any.whl (23 kB)\n",
            "Collecting svgwrite (from svgling)\n",
            "  Downloading svgwrite-1.4.3-py3-none-any.whl (67 kB)\n",
            "\u001b[2K     \u001b[90m━━━━━━━━━━━━━━━━━━━━━━━━━━━━━━━━━━━━━━━━\u001b[0m \u001b[32m67.1/67.1 kB\u001b[0m \u001b[31m2.5 MB/s\u001b[0m eta \u001b[36m0:00:00\u001b[0m\n",
            "\u001b[?25hInstalling collected packages: svgwrite, svgling\n",
            "Successfully installed svgling-0.4.0 svgwrite-1.4.3\n",
            "Collecting python-crfsuite\n",
            "  Downloading python_crfsuite-0.9.9-cp310-cp310-manylinux_2_17_x86_64.manylinux2014_x86_64.whl (993 kB)\n",
            "\u001b[2K     \u001b[90m━━━━━━━━━━━━━━━━━━━━━━━━━━━━━━━━━━━━━━━━\u001b[0m \u001b[32m993.5/993.5 kB\u001b[0m \u001b[31m6.6 MB/s\u001b[0m eta \u001b[36m0:00:00\u001b[0m\n",
            "\u001b[?25hInstalling collected packages: python-crfsuite\n",
            "Successfully installed python-crfsuite-0.9.9\n"
          ]
        },
        {
          "output_type": "execute_result",
          "data": {
            "text/plain": []
          },
          "metadata": {},
          "execution_count": 1
        }
      ],
      "source": [
        "%%shell\n",
        "git clone https://github.com/mariorot/IHLT-MAI.git\n",
        "cd 'IHLT-MAI'\n",
        "mv 'complementary_material' /content/\n",
        "mv scripts /content/\n",
        "pip install svgling\n",
        "pip install python-crfsuite"
      ]
    },
    {
      "cell_type": "code",
      "source": [
        "%load_ext autoreload\n",
        "%autoreload 2"
      ],
      "metadata": {
        "id": "6xL1WCD-EKut"
      },
      "execution_count": 1,
      "outputs": []
    },
    {
      "cell_type": "code",
      "execution_count": 2,
      "metadata": {
        "id": "Mi9UgnrHx1NN",
        "outputId": "dacd5d4f-7e31-4df0-8afd-1d2aeb778dcb",
        "colab": {
          "base_uri": "https://localhost:8080/"
        }
      },
      "outputs": [
        {
          "output_type": "stream",
          "name": "stderr",
          "text": [
            "[nltk_data] Downloading package stopwords to /root/nltk_data...\n",
            "[nltk_data]   Package stopwords is already up-to-date!\n",
            "[nltk_data] Downloading package punkt to /root/nltk_data...\n",
            "[nltk_data]   Package punkt is already up-to-date!\n",
            "[nltk_data] Downloading package averaged_perceptron_tagger to\n",
            "[nltk_data]     /root/nltk_data...\n",
            "[nltk_data]   Package averaged_perceptron_tagger is already up-to-\n",
            "[nltk_data]       date!\n",
            "[nltk_data] Downloading package wordnet to /root/nltk_data...\n",
            "[nltk_data]   Package wordnet is already up-to-date!\n",
            "[nltk_data] Downloading package omw-1.4 to /root/nltk_data...\n",
            "[nltk_data]   Package omw-1.4 is already up-to-date!\n"
          ]
        }
      ],
      "source": [
        "from scripts.compute_metrics import ComputeMetrics\n",
        "from scripts.text_preprocessing import TextPreprocessing\n",
        "from complementary_material.textserver import TextServer\n",
        "from scripts.utils import pretty_table\n",
        "from scipy.stats import pearsonr\n",
        "import pandas as pd\n",
        "pd.set_option(\"display.precision\", 4)"
      ]
    },
    {
      "cell_type": "code",
      "execution_count": 5,
      "metadata": {
        "id": "fx90zvqXx5eA"
      },
      "outputs": [],
      "source": [
        "dt = pd.read_csv('complementary_material/test-gold/STS.input.SMTeuroparl.txt',sep='\\t',header=None)\n",
        "dt['gs'] = pd.read_csv('complementary_material/test-gold/STS.gs.SMTeuroparl.txt',sep='\\t',header=None)"
      ]
    },
    {
      "cell_type": "markdown",
      "metadata": {
        "id": "6HHcaJhckB_Q"
      },
      "source": [
        "## TODO\n",
        "1. Read all pairs of sentences of the SMTeuroparl files of test set within the evaluation framework of the project. Compute their similarities by considering *lemmas* and *Jaccard distance*. <br>\n",
        "\n",
        "2. Compare the results with those in session 2 (document structure) in which words were considered. : <br>\n",
        "\n",
        "3. Compare the results with gold standard by giving the pearson correlation between them. <br>\n",
        "\n",
        "4. Questions (justify the answers): <br>\n",
        "\n",
        "      Which is better: words or lemmas?\n",
        "\n",
        "      Do you think that could perform better for any pair of texts?"
      ]
    },
    {
      "cell_type": "code",
      "source": [
        "import nltk\n",
        "import svgling\n",
        "nltk.download('punkt')\n",
        "nltk.download('averaged_perceptron_tagger')\n",
        "nltk.download('maxent_ne_chunker')\n",
        "nltk.download('words')"
      ],
      "metadata": {
        "id": "V_CvhRuRyLSE"
      },
      "execution_count": null,
      "outputs": []
    },
    {
      "cell_type": "code",
      "source": [
        "sentence = \"Mark Pedersen is working at Google since 1994.\"\n",
        "res = nltk.ne_chunk(\n",
        "        nltk.pos_tag(\n",
        "          nltk.word_tokenize(sentence)))\n",
        "type(res), res"
      ],
      "metadata": {
        "id": "KFDCXRkJCLQk"
      },
      "execution_count": null,
      "outputs": []
    },
    {
      "cell_type": "code",
      "source": [
        "res"
      ],
      "metadata": {
        "id": "w4MESOZtDLTZ"
      },
      "execution_count": null,
      "outputs": []
    },
    {
      "cell_type": "code",
      "source": [
        "import spacy\n",
        "nlp = spacy.load('en_core_web_sm')"
      ],
      "metadata": {
        "id": "zlLYo9G3DV20"
      },
      "execution_count": null,
      "outputs": []
    },
    {
      "cell_type": "code",
      "source": [
        "sentence = \"Mark Pedersen works at Google since 1994.\"\n",
        "doc = nlp(sentence)\n",
        "\n",
        "[(token.text, token.pos_, token.tag_, token.lemma_, token.is_stop,\n",
        "  token.ent_iob_, token.ent_type_) for token in doc]"
      ],
      "metadata": {
        "id": "QLZPbS4lDW1u"
      },
      "execution_count": null,
      "outputs": []
    },
    {
      "cell_type": "code",
      "source": [
        "[(ent.text, ent.label_) for ent in doc.ents]"
      ],
      "metadata": {
        "id": "StN-usOiDvPH"
      },
      "execution_count": null,
      "outputs": []
    },
    {
      "cell_type": "code",
      "source": [
        "spacy.displacy.render(doc, jupyter=True, style='ent')"
      ],
      "metadata": {
        "id": "uV8ymWupD3eH"
      },
      "execution_count": null,
      "outputs": []
    },
    {
      "cell_type": "code",
      "source": [
        "with doc.retokenize() as retokenizer:\n",
        "    tokens = [token for token in doc]\n",
        "    for ent in doc.ents:\n",
        "        retokenizer.merge(doc[ent.start:ent.end],\n",
        "            attrs={\"LEMMA\": \" \".join([tokens[i].text\n",
        "                                for i in range(ent.start, ent.end)])})\n",
        "\n",
        "[(token.text, token.pos_, token.tag_, token.lemma_, token.is_stop,\n",
        "  token.ent_iob_, token.ent_type_) for token in doc]"
      ],
      "metadata": {
        "id": "IxRH5_10ELx-"
      },
      "execution_count": null,
      "outputs": []
    },
    {
      "cell_type": "code",
      "source": [
        "ts = TextServer('MarioROT', 'IHLTMAI23*', 'entities')\n",
        "# ts.entities(\"Mark Pedersen works at Google since 1994.\")"
      ],
      "metadata": {
        "id": "XopHCKfbngKw"
      },
      "execution_count": null,
      "outputs": []
    },
    {
      "cell_type": "code",
      "source": [
        "ts = TextServer('MarioROT', 'IHLTMAI23*', 'tokenizer')"
      ],
      "metadata": {
        "id": "YcIuqQZHpnnR"
      },
      "execution_count": null,
      "outputs": []
    },
    {
      "cell_type": "code",
      "source": [
        "ts.tokenizer('Men want children. They get relaxed with kids.')"
      ],
      "metadata": {
        "id": "ktx-lTecpusM"
      },
      "execution_count": null,
      "outputs": []
    },
    {
      "cell_type": "code",
      "source": [
        "sentence = [(\"the\", \"DT\"), (\"little\", \"JJ\"), (\"yellow\", \"JJ\"),(\"dog\", \"NN\"),\\\n",
        "            (\"barked\", \"VBD\"), (\"at\", \"IN\"), (\"the\", \"DT\"), (\"cat\", \"NN\")]\n",
        "grammar = \"NP: {<DT>?<JJ>*<NN>}\"\n",
        "cp = nltk.RegexpParser(grammar)\n",
        "cp.parse(sentence)"
      ],
      "metadata": {
        "id": "VNlP0A5grRrA"
      },
      "execution_count": null,
      "outputs": []
    },
    {
      "cell_type": "code",
      "source": [
        "nltk.download('conll2000')\n",
        "from nltk.corpus import conll2000\n",
        "\n",
        "test_sents = conll2000.chunked_sents('test.txt', chunk_types=['NP'])\n",
        "sentence = conll2000.chunked_sents('train.txt', chunk_types=['NP'])[99]\n",
        "sentence"
      ],
      "metadata": {
        "id": "6bNNw5ybrVhz"
      },
      "execution_count": null,
      "outputs": []
    },
    {
      "cell_type": "code",
      "source": [
        "from nltk import tree2conlltags\n",
        "tree2conlltags(sentence)"
      ],
      "metadata": {
        "id": "B85iGC5rr5gC"
      },
      "execution_count": null,
      "outputs": []
    },
    {
      "cell_type": "code",
      "source": [
        "grammar = \"NP: {<DT>?<JJ>*<NN>}\"\n",
        "cp = nltk.RegexpParser(grammar)\n",
        "test_sents = conll2000.chunked_sents('test.txt', chunk_types=['NP'])\n",
        "print(cp.accuracy(test_sents))"
      ],
      "metadata": {
        "id": "01A5i7Wvsb9_"
      },
      "execution_count": null,
      "outputs": []
    },
    {
      "cell_type": "code",
      "source": [
        "nltk.download('treebank')\n",
        "train = nltk.corpus.treebank.tagged_sents()[:3000]\n",
        "test = nltk.corpus.treebank.tagged_sents()[3000:]\n",
        "model = nltk.tag.CRFTagger()\n",
        "model.train(train,'/content/crfTagger.mdl')\n",
        "model.accuracy(test)"
      ],
      "metadata": {
        "id": "Rtv48dDOs2JC"
      },
      "execution_count": null,
      "outputs": []
    },
    {
      "cell_type": "code",
      "source": [
        "tagger = nltk.tag.CRFTagger()\n",
        "tagger.set_model_file('crfTagger.mdl')\n",
        "tagger.tag(['the', 'men', 'attended', 'to', 'the', 'meetings'])"
      ],
      "metadata": {
        "id": "OL1GKi9wujqg"
      },
      "execution_count": null,
      "outputs": []
    },
    {
      "cell_type": "code",
      "source": [
        "train[0]"
      ],
      "metadata": {
        "id": "rlSTKPiyurI5"
      },
      "execution_count": null,
      "outputs": []
    },
    {
      "cell_type": "code",
      "source": [
        "tagger = nltk.tag.CRFTagger()\n",
        "tagger.set_model_file('/content/drive/My Drive/models/crfTagger.mdl')\n",
        "tagger.tag(['the', 'men', 'attended', 'to', 'the', 'meetings'])"
      ],
      "metadata": {
        "id": "QzyC3yHtuXEd"
      },
      "execution_count": null,
      "outputs": []
    },
    {
      "cell_type": "code",
      "source": [
        "tp = TextPreprocessing()\n",
        "\n",
        "# ----- Tokenization -----\n",
        "# NLTK\n",
        "dt[2] = tp.tokenize_data(list(dt[0]),'nltk')\n",
        "dt[3] = tp.tokenize_data(list(dt[1]),'nltk')\n",
        "# spaCy\n",
        "dt[4] = tp.tokenize_data(list(dt[0]),'spacy')\n",
        "dt[5] = tp.tokenize_data(list(dt[1]),'spacy')\n",
        "# Data cleaning\n",
        "dt[6]=tp.clean_data(list(dt[0]))\n",
        "dt[7]=tp.clean_data(list(dt[1]))\n",
        "\n",
        "\n",
        "# ----- Lemmatization -----\n",
        "# -- With Tokens\n",
        "# NLTK\n",
        "dt[8]=tp.lemmatize_data(list(dt[0]),'nltk',False)\n",
        "dt[9]=tp.lemmatize_data(list(dt[1]),'nltk',False)\n",
        "# spaCy\n",
        "dt[10]=tp.lemmatize_data(list(dt[0]),'spacy')\n",
        "dt[11]=tp.lemmatize_data(list(dt[1]),'spacy')\n",
        "\n",
        "# -- With Cleaned data\n",
        "# NLTK\n",
        "dt[12]=tp.lemmatize_data(list(dt[6]),'nltk')\n",
        "dt[13]=tp.lemmatize_data(list(dt[7]),'nltk')\n",
        "# spaCy\n",
        "dt[14]=tp.lemmatize_data(list(dt[6]),'spacy')\n",
        "dt[15]=tp.lemmatize_data(list(dt[7]),'spacy')\n",
        "\n",
        "\n",
        "# ----- Word Desambiguation -----\n",
        "# --- With Tokens\n",
        "# NLTK\n",
        "dt[16]= tp.wsd_lesk_data(list(dt[2]),'nltk', keep_failures=True, synset_word=True)\n",
        "dt[17]= tp.wsd_lesk_data(list(dt[3]),'nltk', keep_failures=True, synset_word=True)\n",
        "# Spacy\n",
        "dt[18]= tp.wsd_lesk_data(list(dt[4]),'nltk', keep_failures=True, synset_word=True)\n",
        "dt[19]= tp.wsd_lesk_data(list(dt[5]),'nltk', keep_failures=True, synset_word=True)\n",
        "# Cleaned data\n",
        "dt[20]= tp.wsd_lesk_data(list(dt[6]),'nltk', keep_failures=True, synset_word=True)\n",
        "dt[21]= tp.wsd_lesk_data(list(dt[7]),'nltk', keep_failures=True, synset_word=True)\n",
        "\n",
        "# --- With Lemmas\n",
        "# NLTK Lemmas\n",
        "dt[22]= tp.wsd_lesk_data(list(dt[8]),'nltk', keep_failures=True, synset_word=True)\n",
        "dt[23]= tp.wsd_lesk_data(list(dt[9]),'nltk', keep_failures=True, synset_word=True)\n",
        "# Spacy Lemmas\n",
        "dt[24]= tp.wsd_lesk_data(list(dt[10]),'nltk', keep_failures=True, synset_word=True)\n",
        "dt[25]= tp.wsd_lesk_data(list(dt[11]),'nltk', keep_failures=True, synset_word=True)\n",
        "# Cleaned NLTK Lemmas\n",
        "dt[26]= tp.wsd_lesk_data(list(dt[12]),'nltk', keep_failures=True, synset_word=True)\n",
        "dt[27]= tp.wsd_lesk_data(list(dt[13]),'nltk', keep_failures=True, synset_word=True)\n",
        "# Cleaned SpaCy Lemmas\n",
        "dt[28]= tp.wsd_lesk_data(list(dt[14]),'nltk', keep_failures=True, synset_word=True)\n",
        "dt[29]= tp.wsd_lesk_data(list(dt[15]),'nltk', keep_failures=True, synset_word=True)"
      ],
      "metadata": {
        "id": "4rtq6CjC_Kqp"
      },
      "execution_count": 6,
      "outputs": []
    },
    {
      "cell_type": "markdown",
      "source": [
        "The code for the tokenization is at: https://github.com/MarioROT/IHLT-MAI/blob/main/scripts/text_preprocessing.py\n",
        "\n",
        "The code for jaccard distance computation is at: https://github.com/MarioROT/IHLT-MAI/blob/main/scripts/compute_metrics.py"
      ],
      "metadata": {
        "id": "1Zbp3bhp5gWC"
      }
    },
    {
      "cell_type": "code",
      "execution_count": 15,
      "metadata": {
        "id": "M-brR3HYWunv",
        "outputId": "65831eb1-528f-406f-c5a9-d8f1699c85a9",
        "colab": {
          "base_uri": "https://localhost:8080/"
        }
      },
      "outputs": [
        {
          "output_type": "stream",
          "name": "stdout",
          "text": [
            "Computing jaccard...\n",
            "Computing jaccard...\n",
            "Computing jaccard...\n",
            "Computing jaccard...\n",
            "Computing jaccard...\n",
            "Computing jaccard...\n",
            "Computing jaccard...\n",
            "Computing jaccard...\n",
            "Computing jaccard...\n",
            "Computing jaccard...\n",
            "Computing jaccard...\n",
            "Computing jaccard...\n",
            "Computing jaccard...\n",
            "Computing jaccard...\n"
          ]
        }
      ],
      "source": [
        "# -- Jaccard computation\n",
        "jaccard_pairs = {'jaccard_nltk_token':[2,3], 'jaccard_spacy_token':[4,5], 'jaccard_clean_token':[6,7], # Tokens\n",
        "                 'jaccard_nltk_lemma':[8,9], 'jaccard_spacy_lemma':[10,11], 'jaccard_clean_nltk_lemma':[12,13], 'jaccard_clean_spacy_lemma':[14,15], # Lemmas\n",
        "                 'jaccard_nltk_token_wsd':[16,17], 'jaccard_spacy_token_wsd':[18,19], 'jaccard_clean_token_wsd':[20,21], # WSD\n",
        "                 'jaccard_nltk_lemma_wsd':[22,23], 'jaccard_spacy_lemma_wsd':[24,25], 'jaccard_clean_nltk_lemma_wsd':[26,27], 'jaccard_clean_spacy_lemma_wsd':[28,29] #WSD\n",
        "                 }\n",
        "\n",
        "for name, values in jaccard_pairs.items():\n",
        "  dt[name] = ComputeMetrics(dt[values].to_numpy(), ['jaccard'], 1).do()['jaccard']"
      ]
    },
    {
      "cell_type": "code",
      "source": [
        "dt[['gs',*[col for col in dt.columns.to_list() if 'jaccard' in str(col)]]]"
      ],
      "metadata": {
        "id": "D5Jgtc43sThH",
        "outputId": "1f273a63-a5a7-45d9-e517-f12895cef752",
        "colab": {
          "base_uri": "https://localhost:8080/",
          "height": 444
        }
      },
      "execution_count": 16,
      "outputs": [
        {
          "output_type": "execute_result",
          "data": {
            "text/plain": [
              "        gs  jaccard_nltk_token  jaccard_spacy_token  jaccard_clean_token  \\\n",
              "0    4.500              0.6538               0.6538               0.6923   \n",
              "1    5.000              0.2143               0.2143               0.2857   \n",
              "2    4.250              0.6087               0.6087               0.7273   \n",
              "3    4.500              0.4545               0.4000               0.2500   \n",
              "4    5.000              0.0000               0.0000               0.0000   \n",
              "..     ...                 ...                  ...                  ...   \n",
              "454  5.000              0.4500               0.4500               0.6364   \n",
              "455  4.750              0.6429               0.7143               0.2500   \n",
              "456  5.000              0.6000               0.6000               0.6667   \n",
              "457  4.000              0.6818               0.6818               0.8000   \n",
              "458  3.833              0.5000               0.5000               0.6250   \n",
              "\n",
              "     jaccard_nltk_lemma  jaccard_spacy_lemma  jaccard_clean_nltk_lemma  \\\n",
              "0                0.6538               0.6000                    0.6667   \n",
              "1                0.0769               0.0769                    0.0000   \n",
              "2                0.6087               0.5455                    0.7273   \n",
              "3                0.4545               0.4000                    0.2500   \n",
              "4                0.0000               0.0000                    0.0000   \n",
              "..                  ...                  ...                       ...   \n",
              "454              0.4500               0.4500                    0.6364   \n",
              "455              0.6429               0.6154                    0.2500   \n",
              "456              0.6000               0.5263                    0.6667   \n",
              "457              0.6818               0.6190                    0.8000   \n",
              "458              0.5000               0.5000                    0.6250   \n",
              "\n",
              "     jaccard_clean_spacy_lemma  jaccard_nltk_token_wsd  \\\n",
              "0                       0.6667                  0.7037   \n",
              "1                       0.0000                  0.0769   \n",
              "2                       0.7273                  0.6087   \n",
              "3                       0.2500                  0.4545   \n",
              "4                       0.0000                  0.0000   \n",
              "..                         ...                     ...   \n",
              "454                     0.6364                  0.5909   \n",
              "455                     0.2500                  0.5385   \n",
              "456                     0.6667                  0.6000   \n",
              "457                     0.8000                  0.6818   \n",
              "458                     0.6250                  0.5000   \n",
              "\n",
              "     jaccard_spacy_token_wsd  jaccard_clean_token_wsd  jaccard_nltk_lemma_wsd  \\\n",
              "0                     0.7037                   0.6923                  0.7500   \n",
              "1                     0.0769                   0.0000                  0.0769   \n",
              "2                     0.6087                   0.7273                  0.6087   \n",
              "3                     0.4000                   0.2500                  0.4545   \n",
              "4                     0.0000                   0.0000                  0.0000   \n",
              "..                       ...                      ...                     ...   \n",
              "454                   0.5909                   0.6364                  0.5909   \n",
              "455                   0.6154                   0.2500                  0.5385   \n",
              "456                   0.6000                   0.6667                  0.5263   \n",
              "457                   0.6818                   0.8000                  0.6818   \n",
              "458                   0.5000                   0.6250                  0.5000   \n",
              "\n",
              "     jaccard_spacy_lemma_wsd  jaccard_clean_nltk_lemma_wsd  \\\n",
              "0                     0.6538                        0.6923   \n",
              "1                     0.0769                        0.0000   \n",
              "2                     0.5455                        0.7273   \n",
              "3                     0.4000                        0.2500   \n",
              "4                     0.0000                        0.0000   \n",
              "..                       ...                           ...   \n",
              "454                   0.5909                        0.6364   \n",
              "455                   0.8000                        0.2500   \n",
              "456                   0.5263                        0.6667   \n",
              "457                   0.6190                        0.8000   \n",
              "458                   0.5000                        0.6250   \n",
              "\n",
              "     jaccard_clean_spacy_lemma_wsd  \n",
              "0                           0.6923  \n",
              "1                           0.0000  \n",
              "2                           0.7273  \n",
              "3                           0.2500  \n",
              "4                           0.0000  \n",
              "..                             ...  \n",
              "454                         0.6364  \n",
              "455                         0.2500  \n",
              "456                         0.6667  \n",
              "457                         0.8000  \n",
              "458                         0.6250  \n",
              "\n",
              "[459 rows x 15 columns]"
            ],
            "text/html": [
              "\n",
              "  <div id=\"df-3e5b274d-35aa-44be-9955-32667daaa617\" class=\"colab-df-container\">\n",
              "    <div>\n",
              "<style scoped>\n",
              "    .dataframe tbody tr th:only-of-type {\n",
              "        vertical-align: middle;\n",
              "    }\n",
              "\n",
              "    .dataframe tbody tr th {\n",
              "        vertical-align: top;\n",
              "    }\n",
              "\n",
              "    .dataframe thead th {\n",
              "        text-align: right;\n",
              "    }\n",
              "</style>\n",
              "<table border=\"1\" class=\"dataframe\">\n",
              "  <thead>\n",
              "    <tr style=\"text-align: right;\">\n",
              "      <th></th>\n",
              "      <th>gs</th>\n",
              "      <th>jaccard_nltk_token</th>\n",
              "      <th>jaccard_spacy_token</th>\n",
              "      <th>jaccard_clean_token</th>\n",
              "      <th>jaccard_nltk_lemma</th>\n",
              "      <th>jaccard_spacy_lemma</th>\n",
              "      <th>jaccard_clean_nltk_lemma</th>\n",
              "      <th>jaccard_clean_spacy_lemma</th>\n",
              "      <th>jaccard_nltk_token_wsd</th>\n",
              "      <th>jaccard_spacy_token_wsd</th>\n",
              "      <th>jaccard_clean_token_wsd</th>\n",
              "      <th>jaccard_nltk_lemma_wsd</th>\n",
              "      <th>jaccard_spacy_lemma_wsd</th>\n",
              "      <th>jaccard_clean_nltk_lemma_wsd</th>\n",
              "      <th>jaccard_clean_spacy_lemma_wsd</th>\n",
              "    </tr>\n",
              "  </thead>\n",
              "  <tbody>\n",
              "    <tr>\n",
              "      <th>0</th>\n",
              "      <td>4.500</td>\n",
              "      <td>0.6538</td>\n",
              "      <td>0.6538</td>\n",
              "      <td>0.6923</td>\n",
              "      <td>0.6538</td>\n",
              "      <td>0.6000</td>\n",
              "      <td>0.6667</td>\n",
              "      <td>0.6667</td>\n",
              "      <td>0.7037</td>\n",
              "      <td>0.7037</td>\n",
              "      <td>0.6923</td>\n",
              "      <td>0.7500</td>\n",
              "      <td>0.6538</td>\n",
              "      <td>0.6923</td>\n",
              "      <td>0.6923</td>\n",
              "    </tr>\n",
              "    <tr>\n",
              "      <th>1</th>\n",
              "      <td>5.000</td>\n",
              "      <td>0.2143</td>\n",
              "      <td>0.2143</td>\n",
              "      <td>0.2857</td>\n",
              "      <td>0.0769</td>\n",
              "      <td>0.0769</td>\n",
              "      <td>0.0000</td>\n",
              "      <td>0.0000</td>\n",
              "      <td>0.0769</td>\n",
              "      <td>0.0769</td>\n",
              "      <td>0.0000</td>\n",
              "      <td>0.0769</td>\n",
              "      <td>0.0769</td>\n",
              "      <td>0.0000</td>\n",
              "      <td>0.0000</td>\n",
              "    </tr>\n",
              "    <tr>\n",
              "      <th>2</th>\n",
              "      <td>4.250</td>\n",
              "      <td>0.6087</td>\n",
              "      <td>0.6087</td>\n",
              "      <td>0.7273</td>\n",
              "      <td>0.6087</td>\n",
              "      <td>0.5455</td>\n",
              "      <td>0.7273</td>\n",
              "      <td>0.7273</td>\n",
              "      <td>0.6087</td>\n",
              "      <td>0.6087</td>\n",
              "      <td>0.7273</td>\n",
              "      <td>0.6087</td>\n",
              "      <td>0.5455</td>\n",
              "      <td>0.7273</td>\n",
              "      <td>0.7273</td>\n",
              "    </tr>\n",
              "    <tr>\n",
              "      <th>3</th>\n",
              "      <td>4.500</td>\n",
              "      <td>0.4545</td>\n",
              "      <td>0.4000</td>\n",
              "      <td>0.2500</td>\n",
              "      <td>0.4545</td>\n",
              "      <td>0.4000</td>\n",
              "      <td>0.2500</td>\n",
              "      <td>0.2500</td>\n",
              "      <td>0.4545</td>\n",
              "      <td>0.4000</td>\n",
              "      <td>0.2500</td>\n",
              "      <td>0.4545</td>\n",
              "      <td>0.4000</td>\n",
              "      <td>0.2500</td>\n",
              "      <td>0.2500</td>\n",
              "    </tr>\n",
              "    <tr>\n",
              "      <th>4</th>\n",
              "      <td>5.000</td>\n",
              "      <td>0.0000</td>\n",
              "      <td>0.0000</td>\n",
              "      <td>0.0000</td>\n",
              "      <td>0.0000</td>\n",
              "      <td>0.0000</td>\n",
              "      <td>0.0000</td>\n",
              "      <td>0.0000</td>\n",
              "      <td>0.0000</td>\n",
              "      <td>0.0000</td>\n",
              "      <td>0.0000</td>\n",
              "      <td>0.0000</td>\n",
              "      <td>0.0000</td>\n",
              "      <td>0.0000</td>\n",
              "      <td>0.0000</td>\n",
              "    </tr>\n",
              "    <tr>\n",
              "      <th>...</th>\n",
              "      <td>...</td>\n",
              "      <td>...</td>\n",
              "      <td>...</td>\n",
              "      <td>...</td>\n",
              "      <td>...</td>\n",
              "      <td>...</td>\n",
              "      <td>...</td>\n",
              "      <td>...</td>\n",
              "      <td>...</td>\n",
              "      <td>...</td>\n",
              "      <td>...</td>\n",
              "      <td>...</td>\n",
              "      <td>...</td>\n",
              "      <td>...</td>\n",
              "      <td>...</td>\n",
              "    </tr>\n",
              "    <tr>\n",
              "      <th>454</th>\n",
              "      <td>5.000</td>\n",
              "      <td>0.4500</td>\n",
              "      <td>0.4500</td>\n",
              "      <td>0.6364</td>\n",
              "      <td>0.4500</td>\n",
              "      <td>0.4500</td>\n",
              "      <td>0.6364</td>\n",
              "      <td>0.6364</td>\n",
              "      <td>0.5909</td>\n",
              "      <td>0.5909</td>\n",
              "      <td>0.6364</td>\n",
              "      <td>0.5909</td>\n",
              "      <td>0.5909</td>\n",
              "      <td>0.6364</td>\n",
              "      <td>0.6364</td>\n",
              "    </tr>\n",
              "    <tr>\n",
              "      <th>455</th>\n",
              "      <td>4.750</td>\n",
              "      <td>0.6429</td>\n",
              "      <td>0.7143</td>\n",
              "      <td>0.2500</td>\n",
              "      <td>0.6429</td>\n",
              "      <td>0.6154</td>\n",
              "      <td>0.2500</td>\n",
              "      <td>0.2500</td>\n",
              "      <td>0.5385</td>\n",
              "      <td>0.6154</td>\n",
              "      <td>0.2500</td>\n",
              "      <td>0.5385</td>\n",
              "      <td>0.8000</td>\n",
              "      <td>0.2500</td>\n",
              "      <td>0.2500</td>\n",
              "    </tr>\n",
              "    <tr>\n",
              "      <th>456</th>\n",
              "      <td>5.000</td>\n",
              "      <td>0.6000</td>\n",
              "      <td>0.6000</td>\n",
              "      <td>0.6667</td>\n",
              "      <td>0.6000</td>\n",
              "      <td>0.5263</td>\n",
              "      <td>0.6667</td>\n",
              "      <td>0.6667</td>\n",
              "      <td>0.6000</td>\n",
              "      <td>0.6000</td>\n",
              "      <td>0.6667</td>\n",
              "      <td>0.5263</td>\n",
              "      <td>0.5263</td>\n",
              "      <td>0.6667</td>\n",
              "      <td>0.6667</td>\n",
              "    </tr>\n",
              "    <tr>\n",
              "      <th>457</th>\n",
              "      <td>4.000</td>\n",
              "      <td>0.6818</td>\n",
              "      <td>0.6818</td>\n",
              "      <td>0.8000</td>\n",
              "      <td>0.6818</td>\n",
              "      <td>0.6190</td>\n",
              "      <td>0.8000</td>\n",
              "      <td>0.8000</td>\n",
              "      <td>0.6818</td>\n",
              "      <td>0.6818</td>\n",
              "      <td>0.8000</td>\n",
              "      <td>0.6818</td>\n",
              "      <td>0.6190</td>\n",
              "      <td>0.8000</td>\n",
              "      <td>0.8000</td>\n",
              "    </tr>\n",
              "    <tr>\n",
              "      <th>458</th>\n",
              "      <td>3.833</td>\n",
              "      <td>0.5000</td>\n",
              "      <td>0.5000</td>\n",
              "      <td>0.6250</td>\n",
              "      <td>0.5000</td>\n",
              "      <td>0.5000</td>\n",
              "      <td>0.6250</td>\n",
              "      <td>0.6250</td>\n",
              "      <td>0.5000</td>\n",
              "      <td>0.5000</td>\n",
              "      <td>0.6250</td>\n",
              "      <td>0.5000</td>\n",
              "      <td>0.5000</td>\n",
              "      <td>0.6250</td>\n",
              "      <td>0.6250</td>\n",
              "    </tr>\n",
              "  </tbody>\n",
              "</table>\n",
              "<p>459 rows × 15 columns</p>\n",
              "</div>\n",
              "    <div class=\"colab-df-buttons\">\n",
              "\n",
              "  <div class=\"colab-df-container\">\n",
              "    <button class=\"colab-df-convert\" onclick=\"convertToInteractive('df-3e5b274d-35aa-44be-9955-32667daaa617')\"\n",
              "            title=\"Convert this dataframe to an interactive table.\"\n",
              "            style=\"display:none;\">\n",
              "\n",
              "  <svg xmlns=\"http://www.w3.org/2000/svg\" height=\"24px\" viewBox=\"0 -960 960 960\">\n",
              "    <path d=\"M120-120v-720h720v720H120Zm60-500h600v-160H180v160Zm220 220h160v-160H400v160Zm0 220h160v-160H400v160ZM180-400h160v-160H180v160Zm440 0h160v-160H620v160ZM180-180h160v-160H180v160Zm440 0h160v-160H620v160Z\"/>\n",
              "  </svg>\n",
              "    </button>\n",
              "\n",
              "  <style>\n",
              "    .colab-df-container {\n",
              "      display:flex;\n",
              "      gap: 12px;\n",
              "    }\n",
              "\n",
              "    .colab-df-convert {\n",
              "      background-color: #E8F0FE;\n",
              "      border: none;\n",
              "      border-radius: 50%;\n",
              "      cursor: pointer;\n",
              "      display: none;\n",
              "      fill: #1967D2;\n",
              "      height: 32px;\n",
              "      padding: 0 0 0 0;\n",
              "      width: 32px;\n",
              "    }\n",
              "\n",
              "    .colab-df-convert:hover {\n",
              "      background-color: #E2EBFA;\n",
              "      box-shadow: 0px 1px 2px rgba(60, 64, 67, 0.3), 0px 1px 3px 1px rgba(60, 64, 67, 0.15);\n",
              "      fill: #174EA6;\n",
              "    }\n",
              "\n",
              "    .colab-df-buttons div {\n",
              "      margin-bottom: 4px;\n",
              "    }\n",
              "\n",
              "    [theme=dark] .colab-df-convert {\n",
              "      background-color: #3B4455;\n",
              "      fill: #D2E3FC;\n",
              "    }\n",
              "\n",
              "    [theme=dark] .colab-df-convert:hover {\n",
              "      background-color: #434B5C;\n",
              "      box-shadow: 0px 1px 3px 1px rgba(0, 0, 0, 0.15);\n",
              "      filter: drop-shadow(0px 1px 2px rgba(0, 0, 0, 0.3));\n",
              "      fill: #FFFFFF;\n",
              "    }\n",
              "  </style>\n",
              "\n",
              "    <script>\n",
              "      const buttonEl =\n",
              "        document.querySelector('#df-3e5b274d-35aa-44be-9955-32667daaa617 button.colab-df-convert');\n",
              "      buttonEl.style.display =\n",
              "        google.colab.kernel.accessAllowed ? 'block' : 'none';\n",
              "\n",
              "      async function convertToInteractive(key) {\n",
              "        const element = document.querySelector('#df-3e5b274d-35aa-44be-9955-32667daaa617');\n",
              "        const dataTable =\n",
              "          await google.colab.kernel.invokeFunction('convertToInteractive',\n",
              "                                                    [key], {});\n",
              "        if (!dataTable) return;\n",
              "\n",
              "        const docLinkHtml = 'Like what you see? Visit the ' +\n",
              "          '<a target=\"_blank\" href=https://colab.research.google.com/notebooks/data_table.ipynb>data table notebook</a>'\n",
              "          + ' to learn more about interactive tables.';\n",
              "        element.innerHTML = '';\n",
              "        dataTable['output_type'] = 'display_data';\n",
              "        await google.colab.output.renderOutput(dataTable, element);\n",
              "        const docLink = document.createElement('div');\n",
              "        docLink.innerHTML = docLinkHtml;\n",
              "        element.appendChild(docLink);\n",
              "      }\n",
              "    </script>\n",
              "  </div>\n",
              "\n",
              "\n",
              "<div id=\"df-a595865f-f7d1-4439-9a10-3dc29b46e5cd\">\n",
              "  <button class=\"colab-df-quickchart\" onclick=\"quickchart('df-a595865f-f7d1-4439-9a10-3dc29b46e5cd')\"\n",
              "            title=\"Suggest charts.\"\n",
              "            style=\"display:none;\">\n",
              "\n",
              "<svg xmlns=\"http://www.w3.org/2000/svg\" height=\"24px\"viewBox=\"0 0 24 24\"\n",
              "     width=\"24px\">\n",
              "    <g>\n",
              "        <path d=\"M19 3H5c-1.1 0-2 .9-2 2v14c0 1.1.9 2 2 2h14c1.1 0 2-.9 2-2V5c0-1.1-.9-2-2-2zM9 17H7v-7h2v7zm4 0h-2V7h2v10zm4 0h-2v-4h2v4z\"/>\n",
              "    </g>\n",
              "</svg>\n",
              "  </button>\n",
              "\n",
              "<style>\n",
              "  .colab-df-quickchart {\n",
              "      --bg-color: #E8F0FE;\n",
              "      --fill-color: #1967D2;\n",
              "      --hover-bg-color: #E2EBFA;\n",
              "      --hover-fill-color: #174EA6;\n",
              "      --disabled-fill-color: #AAA;\n",
              "      --disabled-bg-color: #DDD;\n",
              "  }\n",
              "\n",
              "  [theme=dark] .colab-df-quickchart {\n",
              "      --bg-color: #3B4455;\n",
              "      --fill-color: #D2E3FC;\n",
              "      --hover-bg-color: #434B5C;\n",
              "      --hover-fill-color: #FFFFFF;\n",
              "      --disabled-bg-color: #3B4455;\n",
              "      --disabled-fill-color: #666;\n",
              "  }\n",
              "\n",
              "  .colab-df-quickchart {\n",
              "    background-color: var(--bg-color);\n",
              "    border: none;\n",
              "    border-radius: 50%;\n",
              "    cursor: pointer;\n",
              "    display: none;\n",
              "    fill: var(--fill-color);\n",
              "    height: 32px;\n",
              "    padding: 0;\n",
              "    width: 32px;\n",
              "  }\n",
              "\n",
              "  .colab-df-quickchart:hover {\n",
              "    background-color: var(--hover-bg-color);\n",
              "    box-shadow: 0 1px 2px rgba(60, 64, 67, 0.3), 0 1px 3px 1px rgba(60, 64, 67, 0.15);\n",
              "    fill: var(--button-hover-fill-color);\n",
              "  }\n",
              "\n",
              "  .colab-df-quickchart-complete:disabled,\n",
              "  .colab-df-quickchart-complete:disabled:hover {\n",
              "    background-color: var(--disabled-bg-color);\n",
              "    fill: var(--disabled-fill-color);\n",
              "    box-shadow: none;\n",
              "  }\n",
              "\n",
              "  .colab-df-spinner {\n",
              "    border: 2px solid var(--fill-color);\n",
              "    border-color: transparent;\n",
              "    border-bottom-color: var(--fill-color);\n",
              "    animation:\n",
              "      spin 1s steps(1) infinite;\n",
              "  }\n",
              "\n",
              "  @keyframes spin {\n",
              "    0% {\n",
              "      border-color: transparent;\n",
              "      border-bottom-color: var(--fill-color);\n",
              "      border-left-color: var(--fill-color);\n",
              "    }\n",
              "    20% {\n",
              "      border-color: transparent;\n",
              "      border-left-color: var(--fill-color);\n",
              "      border-top-color: var(--fill-color);\n",
              "    }\n",
              "    30% {\n",
              "      border-color: transparent;\n",
              "      border-left-color: var(--fill-color);\n",
              "      border-top-color: var(--fill-color);\n",
              "      border-right-color: var(--fill-color);\n",
              "    }\n",
              "    40% {\n",
              "      border-color: transparent;\n",
              "      border-right-color: var(--fill-color);\n",
              "      border-top-color: var(--fill-color);\n",
              "    }\n",
              "    60% {\n",
              "      border-color: transparent;\n",
              "      border-right-color: var(--fill-color);\n",
              "    }\n",
              "    80% {\n",
              "      border-color: transparent;\n",
              "      border-right-color: var(--fill-color);\n",
              "      border-bottom-color: var(--fill-color);\n",
              "    }\n",
              "    90% {\n",
              "      border-color: transparent;\n",
              "      border-bottom-color: var(--fill-color);\n",
              "    }\n",
              "  }\n",
              "</style>\n",
              "\n",
              "  <script>\n",
              "    async function quickchart(key) {\n",
              "      const quickchartButtonEl =\n",
              "        document.querySelector('#' + key + ' button');\n",
              "      quickchartButtonEl.disabled = true;  // To prevent multiple clicks.\n",
              "      quickchartButtonEl.classList.add('colab-df-spinner');\n",
              "      try {\n",
              "        const charts = await google.colab.kernel.invokeFunction(\n",
              "            'suggestCharts', [key], {});\n",
              "      } catch (error) {\n",
              "        console.error('Error during call to suggestCharts:', error);\n",
              "      }\n",
              "      quickchartButtonEl.classList.remove('colab-df-spinner');\n",
              "      quickchartButtonEl.classList.add('colab-df-quickchart-complete');\n",
              "    }\n",
              "    (() => {\n",
              "      let quickchartButtonEl =\n",
              "        document.querySelector('#df-a595865f-f7d1-4439-9a10-3dc29b46e5cd button');\n",
              "      quickchartButtonEl.style.display =\n",
              "        google.colab.kernel.accessAllowed ? 'block' : 'none';\n",
              "    })();\n",
              "  </script>\n",
              "</div>\n",
              "    </div>\n",
              "  </div>\n"
            ]
          },
          "metadata": {},
          "execution_count": 16
        }
      ]
    },
    {
      "cell_type": "code",
      "execution_count": 17,
      "metadata": {
        "colab": {
          "base_uri": "https://localhost:8080/"
        },
        "id": "d0LVZunA82f2",
        "outputId": "12944746-c299-494b-f0ed-661edc924828"
      },
      "outputs": [
        {
          "output_type": "stream",
          "name": "stdout",
          "text": [
            "\n",
            "--- Results for Tokenization\n",
            "+----------+--------+\n",
            "| Category | Values |\n",
            "+----------+--------+\n",
            "|   NLTK   |  0.45  |\n",
            "|  SPACY   | 0.461  |\n",
            "|  CLEAN   | 0.468  |\n",
            "+----------+--------+\n",
            "\n",
            "--- Results for Lemmatization\n",
            "+-------------+--------+\n",
            "|   Category  | Values |\n",
            "+-------------+--------+\n",
            "|     NLTK    | 0.449  |\n",
            "|    SPACY    | 0.477  |\n",
            "|  CLEAN NLTK | 0.481  |\n",
            "| CLEAN SPACY | 0.491  |\n",
            "+-------------+--------+\n",
            "\n",
            "--- Results for Word Sense Disambiguation\n",
            "+-------------------+--------+\n",
            "|      Category     | Values |\n",
            "+-------------------+--------+\n",
            "|     NLTK TOKEN    |  0.42  |\n",
            "|    SPACY TOKEN    | 0.429  |\n",
            "|    CLEAN TOKEN    |  0.48  |\n",
            "|     NLTK LEMMA    | 0.417  |\n",
            "|    SPACY LEMMA    | 0.422  |\n",
            "|  CLEAN NLTK LEMMA | 0.482  |\n",
            "| CLEAN SPACY LEMMA | 0.493  |\n",
            "+-------------------+--------+\n"
          ]
        }
      ],
      "source": [
        "pearson_group = lambda group: [round(pearsonr(dt['gs'], 1-dt[column])[0], 3) for column in dt.columns if group == str(column).split('_')[-1]]\n",
        "names_group = lambda group: [' '.join(column.split('_')[1:-1]).upper() for column in dt.columns if group == str(column).split('_')[-1]]\n",
        "\n",
        "results = {'Tokenization': {'Category':names_group('token'),'Values':pearson_group('token')},\n",
        "           'Lemmatization': {'Category':names_group('lemma'), 'Values':pearson_group('lemma')},\n",
        "           'Word Sense Disambiguation': {'Category':names_group('wsd'), 'Values':pearson_group('wsd')}}\n",
        "\n",
        "for name, dic in results.items():\n",
        "  pretty_table(dic, name)"
      ]
    },
    {
      "cell_type": "markdown",
      "metadata": {
        "id": "MjCFQFyeeO28"
      },
      "source": [
        "# Conclusion\n",
        "\n",
        "In this lab session excercise, we compared previous sentence pairs using Jaccard distance with and without lemmatization and data cleaning. And now with the Word Sense Desambiguation process, using both the \"raw\" lemmas and the lemmas with a previous data cleaning.\n",
        "\n",
        "We can see in the table above that even if it is counter-intuitive the results of the pearson correlation between the previous lab (lemmas and words) outperformed the ones with the WSD both with words and lemmas, and with and without the data cleaning process.\n",
        "\n",
        "\n"
      ]
    }
  ],
  "metadata": {
    "colab": {
      "provenance": [],
      "include_colab_link": true
    },
    "kernelspec": {
      "display_name": "IHLT",
      "language": "python",
      "name": "ihlt"
    },
    "language_info": {
      "codemirror_mode": {
        "name": "ipython",
        "version": 3
      },
      "file_extension": ".py",
      "mimetype": "text/x-python",
      "name": "python",
      "nbconvert_exporter": "python",
      "pygments_lexer": "ipython3",
      "version": "3.9.13"
    },
    "vscode": {
      "interpreter": {
        "hash": "0795eca24a98e58b2dcbec80c9554a91f94c5c7d4e675f06c8c2f85c434623a5"
      }
    }
  },
  "nbformat": 4,
  "nbformat_minor": 0
}