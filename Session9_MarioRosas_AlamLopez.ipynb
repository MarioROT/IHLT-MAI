{
  "cells": [
    {
      "cell_type": "markdown",
      "metadata": {
        "id": "view-in-github",
        "colab_type": "text"
      },
      "source": [
        "<a href=\"https://colab.research.google.com/github/MarioROT/IHLT-MAI/blob/main/Session9_MarioRosas_AlamLopez.ipynb\" target=\"_parent\"><img src=\"https://colab.research.google.com/assets/colab-badge.svg\" alt=\"Open In Colab\"/></a>"
      ]
    },
    {
      "cell_type": "markdown",
      "metadata": {
        "id": "LpEp-jhafvsx"
      },
      "source": [
        "# Lab session 9 (Coreference) - IHLT\n",
        "\n",
        "**Students:**\n",
        "- Mario Rosas\n",
        "- Alam Lopez\n",
        "\n",
        "**Lab Professor:** Salvador Medina Herrera"
      ]
    },
    {
      "cell_type": "markdown",
      "metadata": {
        "id": "l0LXucmalIYk"
      },
      "source": [
        "## Paraphrases Template"
      ]
    },
    {
      "cell_type": "code",
      "source": [
        "%%shell\n",
        "pip install -U spacy-experimental\n",
        "pip install https://github.com/explosion/spacy-experimental/releases/download/v0.6.1/en_coreference_web_trf-3.4.0a2-py3-none-any.whl\n",
        "wget 'http://www.gutenberg.org/files/11/11-0.txt'"
      ],
      "metadata": {
        "id": "Glnj4tzcrkGJ"
      },
      "execution_count": null,
      "outputs": []
    },
    {
      "cell_type": "code",
      "source": [
        "import spacy\n",
        "nlp = spacy.load(\"en_coreference_web_trf\")\n",
        "\n",
        "doc = nlp(\"The cats were startled by the dog as it growled at them.\")\n",
        "doc.spans"
      ],
      "metadata": {
        "id": "ksOJzJLYXjM5",
        "outputId": "19e57983-8998-4d0d-c8f2-cb47ecee899b",
        "colab": {
          "base_uri": "https://localhost:8080/"
        }
      },
      "execution_count": 2,
      "outputs": [
        {
          "output_type": "execute_result",
          "data": {
            "text/plain": [
              "{'coref_clusters_1': [the dog, it], 'coref_clusters_2': [The cats, them]}"
            ]
          },
          "metadata": {},
          "execution_count": 2
        }
      ]
    },
    {
      "cell_type": "code",
      "source": [
        "doc = nlp(u'My sister has a dog. She loves him.')\n",
        "doc.spans"
      ],
      "metadata": {
        "id": "ZUbLSXbZWrbD",
        "outputId": "98535f9a-57da-4035-e62b-eaf9c1052ca5",
        "colab": {
          "base_uri": "https://localhost:8080/"
        }
      },
      "execution_count": 3,
      "outputs": [
        {
          "output_type": "execute_result",
          "data": {
            "text/plain": [
              "{'coref_clusters_1': [My sister, She], 'coref_clusters_2': [a dog, him]}"
            ]
          },
          "metadata": {},
          "execution_count": 3
        }
      ]
    },
    {
      "cell_type": "markdown",
      "source": [
        "## TODO\n",
        "\n",
        "- Consider the first paragraph in Alice’s Adventures in Wonderland, by Lewis Carroll:\n",
        "```\n",
        "Alice was beginning to get very tired of sitting by her sister on the bank,\n",
        "and of having nothing to do: once or twice she had peeped into the book her\n",
        "sister was reading, but it had no pictures or conversations in it, ‘and what\n",
        "is the use of a book,’ thought Alice ‘without pictures or conversations?’\n",
        "```\n",
        "\n",
        "- It can be downloaded from: http://www.gutenberg.org/files/11/11-0.txt\n",
        "- Apply the spaCy coreference solver to the previous paragraph.\n",
        "- Show the coreference chains.\n",
        "- What do you think about them? Justify your answer.\n",
        "\n",
        "Note: [Spacy Correference usage](https://github.com/explosion/spaCy/discussions/11585)"
      ],
      "metadata": {
        "id": "xAYq3TUOVrIa"
      }
    },
    {
      "cell_type": "code",
      "source": [
        "with open('11-0.txt') as f:\n",
        "  lines = f.read().replace('\\n', ' ').replace('“','‘').replace('”','’')\n",
        "text = lines[1469:1771]\n",
        "\n",
        "doc = nlp(text)\n",
        "\n",
        "print(f\"Text: \\n{text}\\n\\n\")\n",
        "\n",
        "print(f\"Coreferences: \\n{doc.spans}\")"
      ],
      "metadata": {
        "id": "_f7OUc7WiJfy",
        "outputId": "ff571575-2579-4120-ffde-b258ad1555e6",
        "colab": {
          "base_uri": "https://localhost:8080/"
        }
      },
      "execution_count": 7,
      "outputs": [
        {
          "output_type": "stream",
          "name": "stdout",
          "text": [
            "Text: \n",
            "Alice was beginning to get very tired of sitting by her sister on the bank, and of having nothing to do: once or twice she had peeped into the book her sister was reading, but it had no pictures or conversations in it, ‘and what is the use of a book,’ thought Alice ‘without pictures or conversations?’\n",
            "\n",
            "\n",
            "Coreferences: \n",
            "{'coref_clusters_1': [Alice, her, she, her, Alice], 'coref_clusters_2': [her sister, her sister], 'coref_clusters_3': [the book her sister was reading, it, it]}\n"
          ]
        }
      ]
    },
    {
      "cell_type": "markdown",
      "source": [
        "**Conclusions:**\n",
        "The SpaCy coreference solver, when applied to this paragraph, functions well in some situations but not in others. For example, it successfully finds all of the correct coreferences for both \"Alice\" and \"her sister\" -- however, it does not find coreferences for the other nouns / noun phrases in the paragraph that have coreferences. For example, \"book\" should have \"it\" twice as a coreference. Additionally, the solver identifies \"it\" as its own entity with coreferences, even though this is an anaphora, with the antecedent of \"book\". One possible reason for this error could potentially be how the sentence is parsed under the hood, resulting in misidentification of noun phrases or pairs of entities and mentions, though given simply the output of the coreference solver, it is impossible to say the true reason for the poor performance.\n"
      ],
      "metadata": {
        "id": "minTGvLFoOxz"
      }
    }
  ],
  "metadata": {
    "colab": {
      "provenance": [],
      "include_colab_link": true
    },
    "kernelspec": {
      "display_name": "IHLT",
      "language": "python",
      "name": "ihlt"
    },
    "language_info": {
      "codemirror_mode": {
        "name": "ipython",
        "version": 3
      },
      "file_extension": ".py",
      "mimetype": "text/x-python",
      "name": "python",
      "nbconvert_exporter": "python",
      "pygments_lexer": "ipython3",
      "version": "3.9.13"
    },
    "vscode": {
      "interpreter": {
        "hash": "0795eca24a98e58b2dcbec80c9554a91f94c5c7d4e675f06c8c2f85c434623a5"
      }
    }
  },
  "nbformat": 4,
  "nbformat_minor": 0
}