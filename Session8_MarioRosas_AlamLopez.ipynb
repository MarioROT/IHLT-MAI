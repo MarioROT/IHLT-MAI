{
  "cells": [
    {
      "cell_type": "markdown",
      "metadata": {
        "id": "view-in-github",
        "colab_type": "text"
      },
      "source": [
        "<a href=\"https://colab.research.google.com/github/MarioROT/IHLT-MAI/blob/main/Session8_MarioRosas_AlamLopez.ipynb\" target=\"_parent\"><img src=\"https://colab.research.google.com/assets/colab-badge.svg\" alt=\"Open In Colab\"/></a>"
      ]
    },
    {
      "cell_type": "markdown",
      "metadata": {
        "id": "LpEp-jhafvsx"
      },
      "source": [
        "# Lab session 8 (Syntactic Parser) - IHLT\n",
        "\n",
        "**Students:**\n",
        "- Mario Rosas\n",
        "- Alam Lopez\n",
        "\n",
        "**Lab Professor:** Salvador Medina Herrera"
      ]
    },
    {
      "cell_type": "markdown",
      "metadata": {
        "id": "l0LXucmalIYk"
      },
      "source": [
        "## Paraphrases Template"
      ]
    },
    {
      "cell_type": "code",
      "source": [
        "%%shell\n",
        "git clone https://github.com/mariorot/IHLT-MAI.git\n",
        "cd 'IHLT-MAI'\n",
        "mv 'complementary_material' /content/\n",
        "mv scripts /content/\n",
        "pip install svgling\n",
        "pip install python-crfsuite"
      ],
      "metadata": {
        "colab": {
          "base_uri": "https://localhost:8080/"
        },
        "id": "Glnj4tzcrkGJ",
        "outputId": "bade454f-072d-400f-8104-43694f5525fd"
      },
      "execution_count": 12,
      "outputs": [
        {
          "output_type": "stream",
          "name": "stdout",
          "text": [
            "fatal: destination path 'IHLT-MAI' already exists and is not an empty directory.\n",
            "mv: cannot stat 'complementary_material': No such file or directory\n",
            "mv: cannot stat 'scripts': No such file or directory\n",
            "Requirement already satisfied: svgling in /usr/local/lib/python3.10/dist-packages (0.4.0)\n",
            "Requirement already satisfied: svgwrite in /usr/local/lib/python3.10/dist-packages (from svgling) (1.4.3)\n",
            "Collecting python-crfsuite\n",
            "  Downloading python_crfsuite-0.9.9-cp310-cp310-manylinux_2_17_x86_64.manylinux2014_x86_64.whl (993 kB)\n",
            "\u001b[2K     \u001b[90m━━━━━━━━━━━━━━━━━━━━━━━━━━━━━━━━━━━━━━━━\u001b[0m \u001b[32m993.5/993.5 kB\u001b[0m \u001b[31m13.6 MB/s\u001b[0m eta \u001b[36m0:00:00\u001b[0m\n",
            "\u001b[?25hInstalling collected packages: python-crfsuite\n",
            "Successfully installed python-crfsuite-0.9.9\n"
          ]
        },
        {
          "output_type": "execute_result",
          "data": {
            "text/plain": []
          },
          "metadata": {},
          "execution_count": 12
        }
      ]
    },
    {
      "cell_type": "code",
      "source": [
        "import nltk\n",
        "from nltk import CFG, ChartParser, BottomUpChartParser, BottomUpLeftCornerChartParser, LeftCornerChartParser\n",
        "import svgling\n",
        "from scripts.text_preprocessing import TextPreprocessing\n",
        "import string\n",
        "import numpy as np"
      ],
      "metadata": {
        "id": "ZUbLSXbZWrbD"
      },
      "execution_count": 13,
      "outputs": []
    },
    {
      "cell_type": "markdown",
      "source": [
        "## TODO\n",
        "\n",
        "- Consider the following sentence: **Lazy cats play with mice.**\n",
        "\n",
        "- Expand the grammar of the example related to non-probabilistic chart parsers in order to subsume this new sentence.\n",
        "\n",
        "- Perform the constituency parsing using a BottomUpChartParser, a BottomUpLeftCornerChartParser and a LeftCornerChartParser.\n",
        "\n",
        "- For each one of them, provide the resulting tree, the number of edges and the list of explored edges.\n",
        "\n",
        "- Which parser is the most efficient for parsing the sentence?\n",
        "\n",
        "- Which edges are filtered out by each parser and why?"
      ],
      "metadata": {
        "id": "xAYq3TUOVrIa"
      }
    },
    {
      "cell_type": "markdown",
      "source": [
        "#### Failed attempt to generate grammar automatically"
      ],
      "metadata": {
        "id": "xnIH_NH2Iubw"
      }
    },
    {
      "cell_type": "code",
      "source": [
        "def sentence_to_cfg(sentence):\n",
        "    words = TextPreprocessing().clean_sentence(sentence, signs=string.punctuation)\n",
        "    pos_tags = nltk.pos_tag(words)\n",
        "\n",
        "    productions = []\n",
        "\n",
        "    for i in range(len(pos_tags)):\n",
        "        productions.append(f\"Word_{i} -> '{words[i]}'\")\n",
        "        productions.append(f\"POS_{i} -> '{pos_tags[i][1]}'\")\n",
        "\n",
        "    for i in range(len(pos_tags) - 1):\n",
        "        productions.append(f\"Phrase_{i} -> Word_{i} | POS_{i}\")\n",
        "        productions.append(f\"Sentence -> Phrase_{i} Phrase_{i+1}\")\n",
        "\n",
        "    cfg_string = \"\\n\".join(productions)\n",
        "\n",
        "    return CFG.fromstring(cfg_string)\n",
        "\n",
        "# Example sentence\n",
        "sentence = \"The cat chased the mouse\"\n",
        "\n",
        "# Convert sentence to CFG\n",
        "cfg = sentence_to_cfg(sentence)\n",
        "\n",
        "# Print the CFG\n",
        "print(cfg)"
      ],
      "metadata": {
        "id": "Ka9SKA7NRHEf",
        "colab": {
          "base_uri": "https://localhost:8080/"
        },
        "outputId": "b1a51644-7615-41f2-f90e-ea981945cd76"
      },
      "execution_count": 27,
      "outputs": [
        {
          "output_type": "stream",
          "name": "stdout",
          "text": [
            "Grammar with 22 productions (start state = Word_0)\n",
            "    Word_0 -> 'the'\n",
            "    POS_0 -> 'DT'\n",
            "    Word_1 -> 'cat'\n",
            "    POS_1 -> 'NN'\n",
            "    Word_2 -> 'chased'\n",
            "    POS_2 -> 'VBD'\n",
            "    Word_3 -> 'the'\n",
            "    POS_3 -> 'DT'\n",
            "    Word_4 -> 'mouse'\n",
            "    POS_4 -> 'NN'\n",
            "    Phrase_0 -> Word_0\n",
            "    Phrase_0 -> POS_0\n",
            "    Sentence -> Phrase_0 Phrase_1\n",
            "    Phrase_1 -> Word_1\n",
            "    Phrase_1 -> POS_1\n",
            "    Sentence -> Phrase_1 Phrase_2\n",
            "    Phrase_2 -> Word_2\n",
            "    Phrase_2 -> POS_2\n",
            "    Sentence -> Phrase_2 Phrase_3\n",
            "    Phrase_3 -> Word_3\n",
            "    Phrase_3 -> POS_3\n",
            "    Sentence -> Phrase_3 Phrase_4\n"
          ]
        }
      ]
    },
    {
      "cell_type": "markdown",
      "source": [
        "#### Introducing grammar manually"
      ],
      "metadata": {
        "id": "Iy4hc2KTI1ls"
      }
    },
    {
      "cell_type": "code",
      "source": [
        "class sentence_to_cfg_parsing():\n",
        "    def __init__(self, grammar):\n",
        "      self.grammar = grammar\n",
        "      self.pMethods = {'chart':ChartParser,\n",
        "                       'bottomUp':BottomUpChartParser,\n",
        "                       'bottomUpLeft':BottomUpLeftCornerChartParser,\n",
        "                       'left': LeftCornerChartParser}\n",
        "\n",
        "    def parse(self, sentence, method, rTree=0, verbose = False):\n",
        "      print(f\"---------- Using {method}\")\n",
        "      words = TextPreprocessing().clean_sentence(sentence, signs=string.punctuation)\n",
        "      pos_tags = nltk.pos_tag(words)\n",
        "\n",
        "      if verbose:\n",
        "        print(\"\\nPart of Speech of the sentence: \", pos_tags)\n",
        "\n",
        "      parser = self.pMethods[method](self.grammar, trace=1)\n",
        "      print('\\n-- Char Parse')\n",
        "      cparse = parser.chart_parse(words)\n",
        "      print('\\n-- Parse')\n",
        "      parse = parser.parse(words)\n",
        "      print(f'\\n--Number of edges: {cparse.num_edges()}')\n",
        "      print(f'\\n-- Explored edges:\\n {np.array(cparse.edges())}')\n",
        "      trees = list(parse)\n",
        "      print(f'\\n--Number of trees:\\n {len(trees)}')\n",
        "      print(\"\\n--Trees:\")\n",
        "      for i, tree in enumerate(trees):\n",
        "        print(f'---Tree {i}: ', tree)\n",
        "\n",
        "      if len(trees) != 0:\n",
        "        print(\"\\n\")\n",
        "        return trees[rTree]\n",
        "      else:\n",
        "        return \"No Trees Found!\""
      ],
      "metadata": {
        "id": "QZnFM-rKI9Tb"
      },
      "execution_count": 28,
      "outputs": []
    },
    {
      "cell_type": "code",
      "source": [
        "grammar = CFG.fromstring('''\n",
        "  S   -> NP VB IN NP\n",
        "  NP  -> NNS | JJ NNS | NP CC NP\n",
        "  NNS -> \"cats\" | \"dogs\" | \"mice\" | NNS CC NNS\n",
        "  JJ  -> \"big\" | \"small\" | \"lazy\"\n",
        "  CC  -> \"and\" | \"or\"\n",
        "  VB -> \"play\"\n",
        "  IN  -> \"with\"\n",
        "  ''')\n",
        "\n",
        "grammar2 = CFG.fromstring('''\n",
        "  S   -> NP VB IN NP\n",
        "  NP  -> NNS | JJ NNS | NP CC NP\n",
        "  NNS -> \"cats\" | \"dogs\" | \"mice\" | NNS CC NNS\n",
        "  JJ  -> \"big\" | \"small\" | \"lazy\"\n",
        "  CC  -> \"and\" | \"or\"\n",
        "  VB -> \"play\"\n",
        "  IN  -> \"with\"\n",
        "  ''')\n",
        "\n",
        "s1=\"Lazy cats play with mice\"\n",
        "s2=\"Lazy cats and mice\"\n",
        "s3=\"small cats and mice\""
      ],
      "metadata": {
        "id": "7XEqFOpYOKA5"
      },
      "execution_count": 32,
      "outputs": []
    },
    {
      "cell_type": "markdown",
      "source": [
        "##### Testing with grammar 1"
      ],
      "metadata": {
        "id": "HJ8gutFdVLoA"
      }
    },
    {
      "cell_type": "code",
      "source": [
        "CFGParse = sentence_to_cfg_parsing(grammar)"
      ],
      "metadata": {
        "id": "ffahvIIOVXdK"
      },
      "execution_count": 30,
      "outputs": []
    },
    {
      "cell_type": "code",
      "source": [
        "CFGParse.parse(s1, 'chart', 1, True)"
      ],
      "metadata": {
        "id": "OtvlEWQ4VFt8",
        "outputId": "1344388f-7dd0-46ae-cd0a-777ac9f7dfd9",
        "colab": {
          "base_uri": "https://localhost:8080/",
          "height": 1000
        }
      },
      "execution_count": 33,
      "outputs": [
        {
          "output_type": "stream",
          "name": "stdout",
          "text": [
            "---------- Using chart\n",
            "\n",
            "Part of Speech of the sentence:  [('lazy', 'NN'), ('cats', 'NNS'), ('play', 'VBP'), ('with', 'IN'), ('mice', 'NNS')]\n",
            "\n",
            "-- Char Parse\n",
            "|.  lazy .  cats .  play .  with .  mice .|\n",
            "|[-------]       .       .       .       .| [0:1] 'lazy'\n",
            "|.       [-------]       .       .       .| [1:2] 'cats'\n",
            "|.       .       [-------]       .       .| [2:3] 'play'\n",
            "|.       .       .       [-------]       .| [3:4] 'with'\n",
            "|.       .       .       .       [-------]| [4:5] 'mice'\n",
            "|[-------]       .       .       .       .| [0:1] JJ -> 'lazy' *\n",
            "|[------->       .       .       .       .| [0:1] NP -> JJ * NNS\n",
            "|.       [-------]       .       .       .| [1:2] NNS -> 'cats' *\n",
            "|.       [-------]       .       .       .| [1:2] NP -> NNS *\n",
            "|.       [------->       .       .       .| [1:2] NNS -> NNS * CC NNS\n",
            "|[---------------]       .       .       .| [0:2] NP -> JJ NNS *\n",
            "|[--------------->       .       .       .| [0:2] NP -> NP * CC NP\n",
            "|.       [------->       .       .       .| [1:2] NP -> NP * CC NP\n",
            "|.       .       [-------]       .       .| [2:3] VB -> 'play' *\n",
            "|.       .       .       [-------]       .| [3:4] IN -> 'with' *\n",
            "|.       .       .       .       [-------]| [4:5] NNS -> 'mice' *\n",
            "|.       .       .       .       [-------]| [4:5] NP -> NNS *\n",
            "|.       .       .       .       [------->| [4:5] NNS -> NNS * CC NNS\n",
            "|.       .       .       .       [------->| [4:5] NP -> NP * CC NP\n",
            "\n",
            "-- Parse\n",
            "|.  lazy .  cats .  play .  with .  mice .|\n",
            "|[-------]       .       .       .       .| [0:1] 'lazy'\n",
            "|.       [-------]       .       .       .| [1:2] 'cats'\n",
            "|.       .       [-------]       .       .| [2:3] 'play'\n",
            "|.       .       .       [-------]       .| [3:4] 'with'\n",
            "|.       .       .       .       [-------]| [4:5] 'mice'\n",
            "|[-------]       .       .       .       .| [0:1] JJ -> 'lazy' *\n",
            "|[------->       .       .       .       .| [0:1] NP -> JJ * NNS\n",
            "|.       [-------]       .       .       .| [1:2] NNS -> 'cats' *\n",
            "|.       [-------]       .       .       .| [1:2] NP -> NNS *\n",
            "|.       [------->       .       .       .| [1:2] NNS -> NNS * CC NNS\n",
            "|[---------------]       .       .       .| [0:2] NP -> JJ NNS *\n",
            "|[--------------->       .       .       .| [0:2] NP -> NP * CC NP\n",
            "|.       [------->       .       .       .| [1:2] NP -> NP * CC NP\n",
            "|.       .       [-------]       .       .| [2:3] VB -> 'play' *\n",
            "|.       .       .       [-------]       .| [3:4] IN -> 'with' *\n",
            "|.       .       .       .       [-------]| [4:5] NNS -> 'mice' *\n",
            "|.       .       .       .       [-------]| [4:5] NP -> NNS *\n",
            "|.       .       .       .       [------->| [4:5] NNS -> NNS * CC NNS\n",
            "|.       .       .       .       [------->| [4:5] NP -> NP * CC NP\n",
            "\n",
            "--Number of edges: 19\n",
            "\n",
            "-- Explored edges:\n",
            " [[Edge: [0:1] 'lazy'] [Edge: [1:2] 'cats'] [Edge: [2:3] 'play']\n",
            " [Edge: [3:4] 'with'] [Edge: [4:5] 'mice'] [Edge: [0:1] JJ -> 'lazy' *]\n",
            " [Edge: [0:1] NP -> JJ * NNS] [Edge: [1:2] NNS -> 'cats' *]\n",
            " [Edge: [1:2] NP -> NNS *] [Edge: [1:2] NNS -> NNS * CC NNS]\n",
            " [Edge: [0:2] NP -> JJ NNS *] [Edge: [0:2] NP -> NP * CC NP]\n",
            " [Edge: [1:2] NP -> NP * CC NP] [Edge: [2:3] VB -> 'play' *]\n",
            " [Edge: [3:4] IN -> 'with' *] [Edge: [4:5] NNS -> 'mice' *]\n",
            " [Edge: [4:5] NP -> NNS *] [Edge: [4:5] NNS -> NNS * CC NNS]\n",
            " [Edge: [4:5] NP -> NP * CC NP]]\n",
            "\n",
            "--Number of trees:\n",
            " 0\n",
            "\n",
            "--Trees:\n"
          ]
        },
        {
          "output_type": "execute_result",
          "data": {
            "text/plain": [
              "'No Trees Found!'"
            ],
            "application/vnd.google.colaboratory.intrinsic+json": {
              "type": "string"
            }
          },
          "metadata": {},
          "execution_count": 33
        }
      ]
    },
    {
      "cell_type": "code",
      "source": [
        "CFGParse.parse(s3, 'left', 1, True)"
      ],
      "metadata": {
        "id": "AMW_yPTuWL-h",
        "outputId": "92b31973-f912-47fc-9223-a5dc31c426b0",
        "colab": {
          "base_uri": "https://localhost:8080/",
          "height": 1000
        }
      },
      "execution_count": 19,
      "outputs": [
        {
          "output_type": "stream",
          "name": "stdout",
          "text": [
            "---------- Using left\n",
            "\n",
            "Part of Speech of the sentence:  [('small', 'JJ'), ('cats', 'NNS'), ('and', 'CC'), ('mice', 'NN')]\n",
            "\n",
            "-- Char Parse\n",
            "|.  small  .   cats  .   and   .   mice  .|\n",
            "|[---------]         .         .         .| [0:1] 'small'\n",
            "|.         [---------]         .         .| [1:2] 'cats'\n",
            "|.         .         [---------]         .| [2:3] 'and'\n",
            "|.         .         .         [---------]| [3:4] 'mice'\n",
            "|[---------]         .         .         .| [0:1] JJ -> 'small' *\n",
            "|[--------->         .         .         .| [0:1] NP -> JJ * NNS\n",
            "|.         [---------]         .         .| [1:2] NNS -> 'cats' *\n",
            "|.         [---------]         .         .| [1:2] NP -> NNS *\n",
            "|.         [--------->         .         .| [1:2] NNS -> NNS * CC NNS\n",
            "|[-------------------]         .         .| [0:2] NP -> JJ NNS *\n",
            "|[------------------->         .         .| [0:2] NP -> NP * CC NP\n",
            "|.         [--------->         .         .| [1:2] NP -> NP * CC NP\n",
            "|.         .         [---------]         .| [2:3] CC -> 'and' *\n",
            "|.         [------------------->         .| [1:3] NNS -> NNS CC * NNS\n",
            "|[----------------------------->         .| [0:3] NP -> NP CC * NP\n",
            "|.         [------------------->         .| [1:3] NP -> NP CC * NP\n",
            "|.         .         .         [---------]| [3:4] NNS -> 'mice' *\n",
            "|.         .         .         [---------]| [3:4] NP -> NNS *\n",
            "|.         [-----------------------------]| [1:4] NNS -> NNS CC NNS *\n",
            "|.         [-----------------------------]| [1:4] NP -> NNS *\n",
            "|[=======================================]| [0:4] NP -> JJ NNS *\n",
            "|[=======================================]| [0:4] NP -> NP CC NP *\n",
            "|.         [-----------------------------]| [1:4] NP -> NP CC NP *\n",
            "\n",
            "-- Parse\n",
            "|.  small  .   cats  .   and   .   mice  .|\n",
            "|[---------]         .         .         .| [0:1] 'small'\n",
            "|.         [---------]         .         .| [1:2] 'cats'\n",
            "|.         .         [---------]         .| [2:3] 'and'\n",
            "|.         .         .         [---------]| [3:4] 'mice'\n",
            "|[---------]         .         .         .| [0:1] JJ -> 'small' *\n",
            "|[--------->         .         .         .| [0:1] NP -> JJ * NNS\n",
            "|.         [---------]         .         .| [1:2] NNS -> 'cats' *\n",
            "|.         [---------]         .         .| [1:2] NP -> NNS *\n",
            "|.         [--------->         .         .| [1:2] NNS -> NNS * CC NNS\n",
            "|[-------------------]         .         .| [0:2] NP -> JJ NNS *\n",
            "|[------------------->         .         .| [0:2] NP -> NP * CC NP\n",
            "|.         [--------->         .         .| [1:2] NP -> NP * CC NP\n",
            "|.         .         [---------]         .| [2:3] CC -> 'and' *\n",
            "|.         [------------------->         .| [1:3] NNS -> NNS CC * NNS\n",
            "|[----------------------------->         .| [0:3] NP -> NP CC * NP\n",
            "|.         [------------------->         .| [1:3] NP -> NP CC * NP\n",
            "|.         .         .         [---------]| [3:4] NNS -> 'mice' *\n",
            "|.         .         .         [---------]| [3:4] NP -> NNS *\n",
            "|.         [-----------------------------]| [1:4] NNS -> NNS CC NNS *\n",
            "|.         [-----------------------------]| [1:4] NP -> NNS *\n",
            "|[=======================================]| [0:4] NP -> JJ NNS *\n",
            "|[=======================================]| [0:4] NP -> NP CC NP *\n",
            "|.         [-----------------------------]| [1:4] NP -> NP CC NP *\n",
            "\n",
            "--Number of edges: 23\n",
            "\n",
            "-- Explored edges:\n",
            " [[Edge: [0:1] 'small'] [Edge: [1:2] 'cats'] [Edge: [2:3] 'and']\n",
            " [Edge: [3:4] 'mice'] [Edge: [0:1] JJ -> 'small' *]\n",
            " [Edge: [0:1] NP -> JJ * NNS] [Edge: [1:2] NNS -> 'cats' *]\n",
            " [Edge: [1:2] NP -> NNS *] [Edge: [1:2] NNS -> NNS * CC NNS]\n",
            " [Edge: [0:2] NP -> JJ NNS *] [Edge: [0:2] NP -> NP * CC NP]\n",
            " [Edge: [1:2] NP -> NP * CC NP] [Edge: [2:3] CC -> 'and' *]\n",
            " [Edge: [1:3] NNS -> NNS CC * NNS] [Edge: [0:3] NP -> NP CC * NP]\n",
            " [Edge: [1:3] NP -> NP CC * NP] [Edge: [3:4] NNS -> 'mice' *]\n",
            " [Edge: [3:4] NP -> NNS *] [Edge: [1:4] NNS -> NNS CC NNS *]\n",
            " [Edge: [1:4] NP -> NNS *] [Edge: [0:4] NP -> JJ NNS *]\n",
            " [Edge: [0:4] NP -> NP CC NP *] [Edge: [1:4] NP -> NP CC NP *]]\n",
            "\n",
            "--Number of trees:\n",
            " 2\n",
            "\n",
            "--Trees:\n",
            "---Tree 0:  (NP (JJ small) (NNS (NNS cats) (CC and) (NNS mice)))\n",
            "---Tree 1:  (NP (NP (JJ small) (NNS cats)) (CC and) (NP (NNS mice)))\n",
            "\n",
            "\n"
          ]
        },
        {
          "output_type": "execute_result",
          "data": {
            "text/plain": [
              "Tree('NP', [Tree('NP', [Tree('JJ', ['small']), Tree('NNS', ['cats'])]), Tree('CC', ['and']), Tree('NP', [Tree('NNS', ['mice'])])])"
            ],
            "image/svg+xml": "<svg baseProfile=\"full\" height=\"168px\" preserveAspectRatio=\"xMidYMid meet\" style=\"font-family: times, serif; font-weight: normal; font-style: normal; font-size: 16px;\" version=\"1.1\" viewBox=\"0,0,192.0,168.0\" width=\"192px\" xmlns=\"http://www.w3.org/2000/svg\" xmlns:ev=\"http://www.w3.org/2001/xml-events\" xmlns:xlink=\"http://www.w3.org/1999/xlink\"><defs /><svg width=\"100%\" x=\"0\" y=\"0px\"><defs /><text text-anchor=\"middle\" x=\"50%\" y=\"16px\">NP</text></svg><svg width=\"54.1667%\" x=\"0%\" y=\"48px\"><defs /><svg width=\"100%\" x=\"0\" y=\"0px\"><defs /><text text-anchor=\"middle\" x=\"50%\" y=\"16px\">NP</text></svg><svg width=\"53.8462%\" x=\"0%\" y=\"48px\"><defs /><svg width=\"100%\" x=\"0\" y=\"0px\"><defs /><text text-anchor=\"middle\" x=\"50%\" y=\"16px\">JJ</text></svg><svg width=\"100%\" x=\"0%\" y=\"48px\"><defs /><svg width=\"100%\" x=\"0\" y=\"0px\"><defs /><text text-anchor=\"middle\" x=\"50%\" y=\"16px\">small</text></svg></svg><line stroke=\"black\" x1=\"50%\" x2=\"50%\" y1=\"19.2px\" y2=\"48px\" /></svg><line stroke=\"black\" x1=\"50%\" x2=\"26.9231%\" y1=\"19.2px\" y2=\"48px\" /><svg width=\"46.1538%\" x=\"53.8462%\" y=\"48px\"><defs /><svg width=\"100%\" x=\"0\" y=\"0px\"><defs /><text text-anchor=\"middle\" x=\"50%\" y=\"16px\">NNS</text></svg><svg width=\"100%\" x=\"0%\" y=\"48px\"><defs /><svg width=\"100%\" x=\"0\" y=\"0px\"><defs /><text text-anchor=\"middle\" x=\"50%\" y=\"16px\">cats</text></svg></svg><line stroke=\"black\" x1=\"50%\" x2=\"50%\" y1=\"19.2px\" y2=\"48px\" /></svg><line stroke=\"black\" x1=\"50%\" x2=\"76.9231%\" y1=\"19.2px\" y2=\"48px\" /></svg><line stroke=\"black\" x1=\"50%\" x2=\"27.0833%\" y1=\"19.2px\" y2=\"48px\" /><svg width=\"20.8333%\" x=\"54.1667%\" y=\"48px\"><defs /><svg width=\"100%\" x=\"0\" y=\"0px\"><defs /><text text-anchor=\"middle\" x=\"50%\" y=\"16px\">CC</text></svg><svg width=\"100%\" x=\"0%\" y=\"48px\"><defs /><svg width=\"100%\" x=\"0\" y=\"0px\"><defs /><text text-anchor=\"middle\" x=\"50%\" y=\"16px\">and</text></svg></svg><line stroke=\"black\" x1=\"50%\" x2=\"50%\" y1=\"19.2px\" y2=\"48px\" /></svg><line stroke=\"black\" x1=\"50%\" x2=\"64.5833%\" y1=\"19.2px\" y2=\"48px\" /><svg width=\"25%\" x=\"75%\" y=\"48px\"><defs /><svg width=\"100%\" x=\"0\" y=\"0px\"><defs /><text text-anchor=\"middle\" x=\"50%\" y=\"16px\">NP</text></svg><svg width=\"100%\" x=\"0%\" y=\"48px\"><defs /><svg width=\"100%\" x=\"0\" y=\"0px\"><defs /><text text-anchor=\"middle\" x=\"50%\" y=\"16px\">NNS</text></svg><svg width=\"100%\" x=\"0%\" y=\"48px\"><defs /><svg width=\"100%\" x=\"0\" y=\"0px\"><defs /><text text-anchor=\"middle\" x=\"50%\" y=\"16px\">mice</text></svg></svg><line stroke=\"black\" x1=\"50%\" x2=\"50%\" y1=\"19.2px\" y2=\"48px\" /></svg><line stroke=\"black\" x1=\"50%\" x2=\"50%\" y1=\"19.2px\" y2=\"48px\" /></svg><line stroke=\"black\" x1=\"50%\" x2=\"87.5%\" y1=\"19.2px\" y2=\"48px\" /></svg>"
          },
          "metadata": {},
          "execution_count": 19
        }
      ]
    },
    {
      "cell_type": "code",
      "source": [
        "CFGParse.parse(s3, 'bottomUp', 1, True)"
      ],
      "metadata": {
        "id": "qWBLYV3_WUuM",
        "outputId": "91987b7b-1d17-4614-8762-c373f3896aaa",
        "colab": {
          "base_uri": "https://localhost:8080/",
          "height": 1000
        }
      },
      "execution_count": null,
      "outputs": [
        {
          "output_type": "stream",
          "name": "stdout",
          "text": [
            "---------- Using bottomUp\n",
            "\n",
            "Part of Speech of the sentence:  [('small', 'JJ'), ('cats', 'NNS'), ('and', 'CC'), ('mice', 'NN')]\n",
            "\n",
            "-- Char Parse\n",
            "|.  small  .   cats  .   and   .   mice  .|\n",
            "|[---------]         .         .         .| [0:1] 'small'\n",
            "|.         [---------]         .         .| [1:2] 'cats'\n",
            "|.         .         [---------]         .| [2:3] 'and'\n",
            "|.         .         .         [---------]| [3:4] 'mice'\n",
            "|>         .         .         .         .| [0:0] JJ -> * 'small'\n",
            "|[---------]         .         .         .| [0:1] JJ -> 'small' *\n",
            "|>         .         .         .         .| [0:0] NP -> * JJ NNS\n",
            "|[--------->         .         .         .| [0:1] NP -> JJ * NNS\n",
            "|.         >         .         .         .| [1:1] NNS -> * 'cats'\n",
            "|.         [---------]         .         .| [1:2] NNS -> 'cats' *\n",
            "|.         >         .         .         .| [1:1] NP -> * NNS\n",
            "|.         >         .         .         .| [1:1] NNS -> * NNS CC NNS\n",
            "|[-------------------]         .         .| [0:2] NP -> JJ NNS *\n",
            "|.         [---------]         .         .| [1:2] NP -> NNS *\n",
            "|.         [--------->         .         .| [1:2] NNS -> NNS * CC NNS\n",
            "|.         >         .         .         .| [1:1] NP -> * NP CC NP\n",
            "|.         [--------->         .         .| [1:2] NP -> NP * CC NP\n",
            "|>         .         .         .         .| [0:0] NP -> * NP CC NP\n",
            "|[------------------->         .         .| [0:2] NP -> NP * CC NP\n",
            "|.         .         >         .         .| [2:2] CC -> * 'and'\n",
            "|.         .         [---------]         .| [2:3] CC -> 'and' *\n",
            "|.         [------------------->         .| [1:3] NNS -> NNS CC * NNS\n",
            "|.         [------------------->         .| [1:3] NP -> NP CC * NP\n",
            "|[----------------------------->         .| [0:3] NP -> NP CC * NP\n",
            "|.         .         .         >         .| [3:3] NNS -> * 'mice'\n",
            "|.         .         .         [---------]| [3:4] NNS -> 'mice' *\n",
            "|.         .         .         >         .| [3:3] NP -> * NNS\n",
            "|.         .         .         >         .| [3:3] NNS -> * NNS CC NNS\n",
            "|.         [-----------------------------]| [1:4] NNS -> NNS CC NNS *\n",
            "|.         .         .         [---------]| [3:4] NP -> NNS *\n",
            "|.         .         .         [--------->| [3:4] NNS -> NNS * CC NNS\n",
            "|.         .         .         >         .| [3:3] NP -> * NP CC NP\n",
            "|.         [-----------------------------]| [1:4] NP -> NP CC NP *\n",
            "|[=======================================]| [0:4] NP -> NP CC NP *\n",
            "|.         .         .         [--------->| [3:4] NP -> NP * CC NP\n",
            "|[--------------------------------------->| [0:4] NP -> NP * CC NP\n",
            "|.         [----------------------------->| [1:4] NP -> NP * CC NP\n",
            "|[=======================================]| [0:4] NP -> JJ NNS *\n",
            "|.         [-----------------------------]| [1:4] NP -> NNS *\n",
            "|.         [----------------------------->| [1:4] NNS -> NNS * CC NNS\n",
            "|.         [----------------------------->| [1:4] NP -> NP * CC NP\n",
            "|[--------------------------------------->| [0:4] NP -> NP * CC NP\n",
            "\n",
            "-- Parse\n",
            "|.  small  .   cats  .   and   .   mice  .|\n",
            "|[---------]         .         .         .| [0:1] 'small'\n",
            "|.         [---------]         .         .| [1:2] 'cats'\n",
            "|.         .         [---------]         .| [2:3] 'and'\n",
            "|.         .         .         [---------]| [3:4] 'mice'\n",
            "|>         .         .         .         .| [0:0] JJ -> * 'small'\n",
            "|[---------]         .         .         .| [0:1] JJ -> 'small' *\n",
            "|>         .         .         .         .| [0:0] NP -> * JJ NNS\n",
            "|[--------->         .         .         .| [0:1] NP -> JJ * NNS\n",
            "|.         >         .         .         .| [1:1] NNS -> * 'cats'\n",
            "|.         [---------]         .         .| [1:2] NNS -> 'cats' *\n",
            "|.         >         .         .         .| [1:1] NP -> * NNS\n",
            "|.         >         .         .         .| [1:1] NNS -> * NNS CC NNS\n",
            "|[-------------------]         .         .| [0:2] NP -> JJ NNS *\n",
            "|.         [---------]         .         .| [1:2] NP -> NNS *\n",
            "|.         [--------->         .         .| [1:2] NNS -> NNS * CC NNS\n",
            "|.         >         .         .         .| [1:1] NP -> * NP CC NP\n",
            "|.         [--------->         .         .| [1:2] NP -> NP * CC NP\n",
            "|>         .         .         .         .| [0:0] NP -> * NP CC NP\n",
            "|[------------------->         .         .| [0:2] NP -> NP * CC NP\n",
            "|.         .         >         .         .| [2:2] CC -> * 'and'\n",
            "|.         .         [---------]         .| [2:3] CC -> 'and' *\n",
            "|.         [------------------->         .| [1:3] NNS -> NNS CC * NNS\n",
            "|.         [------------------->         .| [1:3] NP -> NP CC * NP\n",
            "|[----------------------------->         .| [0:3] NP -> NP CC * NP\n",
            "|.         .         .         >         .| [3:3] NNS -> * 'mice'\n",
            "|.         .         .         [---------]| [3:4] NNS -> 'mice' *\n",
            "|.         .         .         >         .| [3:3] NP -> * NNS\n",
            "|.         .         .         >         .| [3:3] NNS -> * NNS CC NNS\n",
            "|.         [-----------------------------]| [1:4] NNS -> NNS CC NNS *\n",
            "|.         .         .         [---------]| [3:4] NP -> NNS *\n",
            "|.         .         .         [--------->| [3:4] NNS -> NNS * CC NNS\n",
            "|.         .         .         >         .| [3:3] NP -> * NP CC NP\n",
            "|.         [-----------------------------]| [1:4] NP -> NP CC NP *\n",
            "|[=======================================]| [0:4] NP -> NP CC NP *\n",
            "|.         .         .         [--------->| [3:4] NP -> NP * CC NP\n",
            "|[--------------------------------------->| [0:4] NP -> NP * CC NP\n",
            "|.         [----------------------------->| [1:4] NP -> NP * CC NP\n",
            "|[=======================================]| [0:4] NP -> JJ NNS *\n",
            "|.         [-----------------------------]| [1:4] NP -> NNS *\n",
            "|.         [----------------------------->| [1:4] NNS -> NNS * CC NNS\n",
            "|.         [----------------------------->| [1:4] NP -> NP * CC NP\n",
            "|[--------------------------------------->| [0:4] NP -> NP * CC NP\n",
            "\n",
            "--Number of edges: 40\n",
            "\n",
            "-- Explored edges:\n",
            " [[Edge: [0:1] 'small'] [Edge: [1:2] 'cats'] [Edge: [2:3] 'and']\n",
            " [Edge: [3:4] 'mice'] [Edge: [0:0] JJ -> * 'small']\n",
            " [Edge: [0:1] JJ -> 'small' *] [Edge: [0:0] NP -> * JJ NNS]\n",
            " [Edge: [0:1] NP -> JJ * NNS] [Edge: [1:1] NNS -> * 'cats']\n",
            " [Edge: [1:2] NNS -> 'cats' *] [Edge: [1:1] NP -> * NNS]\n",
            " [Edge: [1:1] NNS -> * NNS CC NNS] [Edge: [0:2] NP -> JJ NNS *]\n",
            " [Edge: [1:2] NP -> NNS *] [Edge: [1:2] NNS -> NNS * CC NNS]\n",
            " [Edge: [1:1] NP -> * NP CC NP] [Edge: [1:2] NP -> NP * CC NP]\n",
            " [Edge: [0:0] NP -> * NP CC NP] [Edge: [0:2] NP -> NP * CC NP]\n",
            " [Edge: [2:2] CC -> * 'and'] [Edge: [2:3] CC -> 'and' *]\n",
            " [Edge: [1:3] NNS -> NNS CC * NNS] [Edge: [1:3] NP -> NP CC * NP]\n",
            " [Edge: [0:3] NP -> NP CC * NP] [Edge: [3:3] NNS -> * 'mice']\n",
            " [Edge: [3:4] NNS -> 'mice' *] [Edge: [3:3] NP -> * NNS]\n",
            " [Edge: [3:3] NNS -> * NNS CC NNS] [Edge: [1:4] NNS -> NNS CC NNS *]\n",
            " [Edge: [3:4] NP -> NNS *] [Edge: [3:4] NNS -> NNS * CC NNS]\n",
            " [Edge: [3:3] NP -> * NP CC NP] [Edge: [1:4] NP -> NP CC NP *]\n",
            " [Edge: [0:4] NP -> NP CC NP *] [Edge: [3:4] NP -> NP * CC NP]\n",
            " [Edge: [0:4] NP -> NP * CC NP] [Edge: [1:4] NP -> NP * CC NP]\n",
            " [Edge: [0:4] NP -> JJ NNS *] [Edge: [1:4] NP -> NNS *]\n",
            " [Edge: [1:4] NNS -> NNS * CC NNS]]\n",
            "\n",
            "--Number of trees:\n",
            " 2\n",
            "\n",
            "--Trees:\n",
            "---Tree 0:  (NP (NP (JJ small) (NNS cats)) (CC and) (NP (NNS mice)))\n",
            "---Tree 1:  (NP (JJ small) (NNS (NNS cats) (CC and) (NNS mice)))\n",
            "\n",
            "\n"
          ]
        },
        {
          "output_type": "execute_result",
          "data": {
            "text/plain": [
              "Tree('NP', [Tree('JJ', ['small']), Tree('NNS', [Tree('NNS', ['cats']), Tree('CC', ['and']), Tree('NNS', ['mice'])])])"
            ],
            "image/svg+xml": "<svg baseProfile=\"full\" height=\"168px\" preserveAspectRatio=\"xMidYMid meet\" style=\"font-family: times, serif; font-weight: normal; font-style: normal; font-size: 16px;\" version=\"1.1\" viewBox=\"0,0,192.0,168.0\" width=\"192px\" xmlns=\"http://www.w3.org/2000/svg\" xmlns:ev=\"http://www.w3.org/2001/xml-events\" xmlns:xlink=\"http://www.w3.org/1999/xlink\"><defs /><svg width=\"100%\" x=\"0\" y=\"0px\"><defs /><text text-anchor=\"middle\" x=\"50%\" y=\"16px\">NP</text></svg><svg width=\"29.1667%\" x=\"0%\" y=\"48px\"><defs /><svg width=\"100%\" x=\"0\" y=\"0px\"><defs /><text text-anchor=\"middle\" x=\"50%\" y=\"16px\">JJ</text></svg><svg width=\"100%\" x=\"0%\" y=\"48px\"><defs /><svg width=\"100%\" x=\"0\" y=\"0px\"><defs /><text text-anchor=\"middle\" x=\"50%\" y=\"16px\">small</text></svg></svg><line stroke=\"black\" x1=\"50%\" x2=\"50%\" y1=\"19.2px\" y2=\"48px\" /></svg><line stroke=\"black\" x1=\"50%\" x2=\"14.5833%\" y1=\"19.2px\" y2=\"48px\" /><svg width=\"70.8333%\" x=\"29.1667%\" y=\"48px\"><defs /><svg width=\"100%\" x=\"0\" y=\"0px\"><defs /><text text-anchor=\"middle\" x=\"50%\" y=\"16px\">NNS</text></svg><svg width=\"35.2941%\" x=\"0%\" y=\"48px\"><defs /><svg width=\"100%\" x=\"0\" y=\"0px\"><defs /><text text-anchor=\"middle\" x=\"50%\" y=\"16px\">NNS</text></svg><svg width=\"100%\" x=\"0%\" y=\"48px\"><defs /><svg width=\"100%\" x=\"0\" y=\"0px\"><defs /><text text-anchor=\"middle\" x=\"50%\" y=\"16px\">cats</text></svg></svg><line stroke=\"black\" x1=\"50%\" x2=\"50%\" y1=\"19.2px\" y2=\"48px\" /></svg><line stroke=\"black\" x1=\"50%\" x2=\"17.6471%\" y1=\"19.2px\" y2=\"48px\" /><svg width=\"29.4118%\" x=\"35.2941%\" y=\"48px\"><defs /><svg width=\"100%\" x=\"0\" y=\"0px\"><defs /><text text-anchor=\"middle\" x=\"50%\" y=\"16px\">CC</text></svg><svg width=\"100%\" x=\"0%\" y=\"48px\"><defs /><svg width=\"100%\" x=\"0\" y=\"0px\"><defs /><text text-anchor=\"middle\" x=\"50%\" y=\"16px\">and</text></svg></svg><line stroke=\"black\" x1=\"50%\" x2=\"50%\" y1=\"19.2px\" y2=\"48px\" /></svg><line stroke=\"black\" x1=\"50%\" x2=\"50%\" y1=\"19.2px\" y2=\"48px\" /><svg width=\"35.2941%\" x=\"64.7059%\" y=\"48px\"><defs /><svg width=\"100%\" x=\"0\" y=\"0px\"><defs /><text text-anchor=\"middle\" x=\"50%\" y=\"16px\">NNS</text></svg><svg width=\"100%\" x=\"0%\" y=\"48px\"><defs /><svg width=\"100%\" x=\"0\" y=\"0px\"><defs /><text text-anchor=\"middle\" x=\"50%\" y=\"16px\">mice</text></svg></svg><line stroke=\"black\" x1=\"50%\" x2=\"50%\" y1=\"19.2px\" y2=\"48px\" /></svg><line stroke=\"black\" x1=\"50%\" x2=\"82.3529%\" y1=\"19.2px\" y2=\"48px\" /></svg><line stroke=\"black\" x1=\"50%\" x2=\"64.5833%\" y1=\"19.2px\" y2=\"48px\" /></svg>"
          },
          "metadata": {},
          "execution_count": 141
        }
      ]
    },
    {
      "cell_type": "code",
      "source": [
        "CFGParse.parse(s3, 'bottomUpLeft', 1, True)"
      ],
      "metadata": {
        "id": "eZ7IMUgZWhWq",
        "outputId": "45615bb7-c1c0-4125-a02b-33a3f4647d1b",
        "colab": {
          "base_uri": "https://localhost:8080/",
          "height": 1000
        }
      },
      "execution_count": null,
      "outputs": [
        {
          "output_type": "stream",
          "name": "stdout",
          "text": [
            "---------- Using bottomUpLeft\n",
            "\n",
            "Part of Speech of the sentence:  [('small', 'JJ'), ('cats', 'NNS'), ('and', 'CC'), ('mice', 'NN')]\n",
            "\n",
            "-- Char Parse\n",
            "|.  small  .   cats  .   and   .   mice  .|\n",
            "|[---------]         .         .         .| [0:1] 'small'\n",
            "|.         [---------]         .         .| [1:2] 'cats'\n",
            "|.         .         [---------]         .| [2:3] 'and'\n",
            "|.         .         .         [---------]| [3:4] 'mice'\n",
            "|[---------]         .         .         .| [0:1] JJ -> 'small' *\n",
            "|[--------->         .         .         .| [0:1] NP -> JJ * NNS\n",
            "|.         [---------]         .         .| [1:2] NNS -> 'cats' *\n",
            "|.         [---------]         .         .| [1:2] NP -> NNS *\n",
            "|.         [--------->         .         .| [1:2] NNS -> NNS * CC NNS\n",
            "|[-------------------]         .         .| [0:2] NP -> JJ NNS *\n",
            "|[------------------->         .         .| [0:2] NP -> NP * CC NP\n",
            "|.         [--------->         .         .| [1:2] NP -> NP * CC NP\n",
            "|.         .         [---------]         .| [2:3] CC -> 'and' *\n",
            "|.         [------------------->         .| [1:3] NNS -> NNS CC * NNS\n",
            "|[----------------------------->         .| [0:3] NP -> NP CC * NP\n",
            "|.         [------------------->         .| [1:3] NP -> NP CC * NP\n",
            "|.         .         .         [---------]| [3:4] NNS -> 'mice' *\n",
            "|.         .         .         [---------]| [3:4] NP -> NNS *\n",
            "|.         .         .         [--------->| [3:4] NNS -> NNS * CC NNS\n",
            "|.         [-----------------------------]| [1:4] NNS -> NNS CC NNS *\n",
            "|.         [-----------------------------]| [1:4] NP -> NNS *\n",
            "|.         [----------------------------->| [1:4] NNS -> NNS * CC NNS\n",
            "|[=======================================]| [0:4] NP -> JJ NNS *\n",
            "|[--------------------------------------->| [0:4] NP -> NP * CC NP\n",
            "|.         [----------------------------->| [1:4] NP -> NP * CC NP\n",
            "|.         .         .         [--------->| [3:4] NP -> NP * CC NP\n",
            "|[=======================================]| [0:4] NP -> NP CC NP *\n",
            "|.         [-----------------------------]| [1:4] NP -> NP CC NP *\n",
            "|.         [----------------------------->| [1:4] NP -> NP * CC NP\n",
            "|[--------------------------------------->| [0:4] NP -> NP * CC NP\n",
            "\n",
            "-- Parse\n",
            "|.  small  .   cats  .   and   .   mice  .|\n",
            "|[---------]         .         .         .| [0:1] 'small'\n",
            "|.         [---------]         .         .| [1:2] 'cats'\n",
            "|.         .         [---------]         .| [2:3] 'and'\n",
            "|.         .         .         [---------]| [3:4] 'mice'\n",
            "|[---------]         .         .         .| [0:1] JJ -> 'small' *\n",
            "|[--------->         .         .         .| [0:1] NP -> JJ * NNS\n",
            "|.         [---------]         .         .| [1:2] NNS -> 'cats' *\n",
            "|.         [---------]         .         .| [1:2] NP -> NNS *\n",
            "|.         [--------->         .         .| [1:2] NNS -> NNS * CC NNS\n",
            "|[-------------------]         .         .| [0:2] NP -> JJ NNS *\n",
            "|[------------------->         .         .| [0:2] NP -> NP * CC NP\n",
            "|.         [--------->         .         .| [1:2] NP -> NP * CC NP\n",
            "|.         .         [---------]         .| [2:3] CC -> 'and' *\n",
            "|.         [------------------->         .| [1:3] NNS -> NNS CC * NNS\n",
            "|[----------------------------->         .| [0:3] NP -> NP CC * NP\n",
            "|.         [------------------->         .| [1:3] NP -> NP CC * NP\n",
            "|.         .         .         [---------]| [3:4] NNS -> 'mice' *\n",
            "|.         .         .         [---------]| [3:4] NP -> NNS *\n",
            "|.         .         .         [--------->| [3:4] NNS -> NNS * CC NNS\n",
            "|.         [-----------------------------]| [1:4] NNS -> NNS CC NNS *\n",
            "|.         [-----------------------------]| [1:4] NP -> NNS *\n",
            "|.         [----------------------------->| [1:4] NNS -> NNS * CC NNS\n",
            "|[=======================================]| [0:4] NP -> JJ NNS *\n",
            "|[--------------------------------------->| [0:4] NP -> NP * CC NP\n",
            "|.         [----------------------------->| [1:4] NP -> NP * CC NP\n",
            "|.         .         .         [--------->| [3:4] NP -> NP * CC NP\n",
            "|[=======================================]| [0:4] NP -> NP CC NP *\n",
            "|.         [-----------------------------]| [1:4] NP -> NP CC NP *\n",
            "|.         [----------------------------->| [1:4] NP -> NP * CC NP\n",
            "|[--------------------------------------->| [0:4] NP -> NP * CC NP\n",
            "\n",
            "--Number of edges: 28\n",
            "\n",
            "-- Explored edges:\n",
            " [[Edge: [0:1] 'small'] [Edge: [1:2] 'cats'] [Edge: [2:3] 'and']\n",
            " [Edge: [3:4] 'mice'] [Edge: [0:1] JJ -> 'small' *]\n",
            " [Edge: [0:1] NP -> JJ * NNS] [Edge: [1:2] NNS -> 'cats' *]\n",
            " [Edge: [1:2] NP -> NNS *] [Edge: [1:2] NNS -> NNS * CC NNS]\n",
            " [Edge: [0:2] NP -> JJ NNS *] [Edge: [0:2] NP -> NP * CC NP]\n",
            " [Edge: [1:2] NP -> NP * CC NP] [Edge: [2:3] CC -> 'and' *]\n",
            " [Edge: [1:3] NNS -> NNS CC * NNS] [Edge: [0:3] NP -> NP CC * NP]\n",
            " [Edge: [1:3] NP -> NP CC * NP] [Edge: [3:4] NNS -> 'mice' *]\n",
            " [Edge: [3:4] NP -> NNS *] [Edge: [3:4] NNS -> NNS * CC NNS]\n",
            " [Edge: [1:4] NNS -> NNS CC NNS *] [Edge: [1:4] NP -> NNS *]\n",
            " [Edge: [1:4] NNS -> NNS * CC NNS] [Edge: [0:4] NP -> JJ NNS *]\n",
            " [Edge: [0:4] NP -> NP * CC NP] [Edge: [1:4] NP -> NP * CC NP]\n",
            " [Edge: [3:4] NP -> NP * CC NP] [Edge: [0:4] NP -> NP CC NP *]\n",
            " [Edge: [1:4] NP -> NP CC NP *]]\n",
            "\n",
            "--Number of trees:\n",
            " 2\n",
            "\n",
            "--Trees:\n",
            "---Tree 0:  (NP (JJ small) (NNS (NNS cats) (CC and) (NNS mice)))\n",
            "---Tree 1:  (NP (NP (JJ small) (NNS cats)) (CC and) (NP (NNS mice)))\n",
            "\n",
            "\n"
          ]
        },
        {
          "output_type": "execute_result",
          "data": {
            "text/plain": [
              "Tree('NP', [Tree('NP', [Tree('JJ', ['small']), Tree('NNS', ['cats'])]), Tree('CC', ['and']), Tree('NP', [Tree('NNS', ['mice'])])])"
            ],
            "image/svg+xml": "<svg baseProfile=\"full\" height=\"168px\" preserveAspectRatio=\"xMidYMid meet\" style=\"font-family: times, serif; font-weight: normal; font-style: normal; font-size: 16px;\" version=\"1.1\" viewBox=\"0,0,192.0,168.0\" width=\"192px\" xmlns=\"http://www.w3.org/2000/svg\" xmlns:ev=\"http://www.w3.org/2001/xml-events\" xmlns:xlink=\"http://www.w3.org/1999/xlink\"><defs /><svg width=\"100%\" x=\"0\" y=\"0px\"><defs /><text text-anchor=\"middle\" x=\"50%\" y=\"16px\">NP</text></svg><svg width=\"54.1667%\" x=\"0%\" y=\"48px\"><defs /><svg width=\"100%\" x=\"0\" y=\"0px\"><defs /><text text-anchor=\"middle\" x=\"50%\" y=\"16px\">NP</text></svg><svg width=\"53.8462%\" x=\"0%\" y=\"48px\"><defs /><svg width=\"100%\" x=\"0\" y=\"0px\"><defs /><text text-anchor=\"middle\" x=\"50%\" y=\"16px\">JJ</text></svg><svg width=\"100%\" x=\"0%\" y=\"48px\"><defs /><svg width=\"100%\" x=\"0\" y=\"0px\"><defs /><text text-anchor=\"middle\" x=\"50%\" y=\"16px\">small</text></svg></svg><line stroke=\"black\" x1=\"50%\" x2=\"50%\" y1=\"19.2px\" y2=\"48px\" /></svg><line stroke=\"black\" x1=\"50%\" x2=\"26.9231%\" y1=\"19.2px\" y2=\"48px\" /><svg width=\"46.1538%\" x=\"53.8462%\" y=\"48px\"><defs /><svg width=\"100%\" x=\"0\" y=\"0px\"><defs /><text text-anchor=\"middle\" x=\"50%\" y=\"16px\">NNS</text></svg><svg width=\"100%\" x=\"0%\" y=\"48px\"><defs /><svg width=\"100%\" x=\"0\" y=\"0px\"><defs /><text text-anchor=\"middle\" x=\"50%\" y=\"16px\">cats</text></svg></svg><line stroke=\"black\" x1=\"50%\" x2=\"50%\" y1=\"19.2px\" y2=\"48px\" /></svg><line stroke=\"black\" x1=\"50%\" x2=\"76.9231%\" y1=\"19.2px\" y2=\"48px\" /></svg><line stroke=\"black\" x1=\"50%\" x2=\"27.0833%\" y1=\"19.2px\" y2=\"48px\" /><svg width=\"20.8333%\" x=\"54.1667%\" y=\"48px\"><defs /><svg width=\"100%\" x=\"0\" y=\"0px\"><defs /><text text-anchor=\"middle\" x=\"50%\" y=\"16px\">CC</text></svg><svg width=\"100%\" x=\"0%\" y=\"48px\"><defs /><svg width=\"100%\" x=\"0\" y=\"0px\"><defs /><text text-anchor=\"middle\" x=\"50%\" y=\"16px\">and</text></svg></svg><line stroke=\"black\" x1=\"50%\" x2=\"50%\" y1=\"19.2px\" y2=\"48px\" /></svg><line stroke=\"black\" x1=\"50%\" x2=\"64.5833%\" y1=\"19.2px\" y2=\"48px\" /><svg width=\"25%\" x=\"75%\" y=\"48px\"><defs /><svg width=\"100%\" x=\"0\" y=\"0px\"><defs /><text text-anchor=\"middle\" x=\"50%\" y=\"16px\">NP</text></svg><svg width=\"100%\" x=\"0%\" y=\"48px\"><defs /><svg width=\"100%\" x=\"0\" y=\"0px\"><defs /><text text-anchor=\"middle\" x=\"50%\" y=\"16px\">NNS</text></svg><svg width=\"100%\" x=\"0%\" y=\"48px\"><defs /><svg width=\"100%\" x=\"0\" y=\"0px\"><defs /><text text-anchor=\"middle\" x=\"50%\" y=\"16px\">mice</text></svg></svg><line stroke=\"black\" x1=\"50%\" x2=\"50%\" y1=\"19.2px\" y2=\"48px\" /></svg><line stroke=\"black\" x1=\"50%\" x2=\"50%\" y1=\"19.2px\" y2=\"48px\" /></svg><line stroke=\"black\" x1=\"50%\" x2=\"87.5%\" y1=\"19.2px\" y2=\"48px\" /></svg>"
          },
          "metadata": {},
          "execution_count": 142
        }
      ]
    },
    {
      "cell_type": "markdown",
      "source": [
        "##### Testing with grammar 2"
      ],
      "metadata": {
        "id": "PQjjSV4TVP50"
      }
    },
    {
      "cell_type": "code",
      "source": [
        "CFGParse = sentence_to_cfg_parsing(grammar2)"
      ],
      "metadata": {
        "id": "-SuM3JKeVJAv"
      },
      "execution_count": null,
      "outputs": []
    },
    {
      "cell_type": "code",
      "source": [
        "CFGParse.parse(s3, 'chart', 0, True)"
      ],
      "metadata": {
        "id": "COKIcX6lQiUA",
        "outputId": "3d4e115a-22e2-44c0-a1b7-941593b913a9",
        "colab": {
          "base_uri": "https://localhost:8080/",
          "height": 1000
        }
      },
      "execution_count": null,
      "outputs": [
        {
          "output_type": "stream",
          "name": "stdout",
          "text": [
            "---------- Using chart\n",
            "\n",
            "Part of Speech of the sentence:  [('small', 'JJ'), ('cats', 'NNS'), ('and', 'CC'), ('mice', 'NN')]\n",
            "\n",
            "-- Char Parse\n",
            "|.  small  .   cats  .   and   .   mice  .|\n",
            "|[---------]         .         .         .| [0:1] 'small'\n",
            "|.         [---------]         .         .| [1:2] 'cats'\n",
            "|.         .         [---------]         .| [2:3] 'and'\n",
            "|.         .         .         [---------]| [3:4] 'mice'\n",
            "|[---------]         .         .         .| [0:1] JJ -> 'small' *\n",
            "|[--------->         .         .         .| [0:1] NP -> JJ * NNS\n",
            "|.         [---------]         .         .| [1:2] NNS -> 'cats' *\n",
            "|.         [---------]         .         .| [1:2] NP -> NNS *\n",
            "|.         [--------->         .         .| [1:2] NNS -> NNS * CC NNS\n",
            "|[-------------------]         .         .| [0:2] NP -> JJ NNS *\n",
            "|[------------------->         .         .| [0:2] S  -> NP * VB IN NP\n",
            "|[------------------->         .         .| [0:2] NP -> NP * CC NP\n",
            "|.         [--------->         .         .| [1:2] S  -> NP * VB IN NP\n",
            "|.         [--------->         .         .| [1:2] NP -> NP * CC NP\n",
            "|.         .         [---------]         .| [2:3] CC -> 'and' *\n",
            "|.         [------------------->         .| [1:3] NNS -> NNS CC * NNS\n",
            "|[----------------------------->         .| [0:3] NP -> NP CC * NP\n",
            "|.         [------------------->         .| [1:3] NP -> NP CC * NP\n",
            "|.         .         .         [---------]| [3:4] NNS -> 'mice' *\n",
            "|.         .         .         [---------]| [3:4] NP -> NNS *\n",
            "|.         .         .         [--------->| [3:4] NNS -> NNS * CC NNS\n",
            "|.         [-----------------------------]| [1:4] NNS -> NNS CC NNS *\n",
            "|.         [-----------------------------]| [1:4] NP -> NNS *\n",
            "|.         [----------------------------->| [1:4] NNS -> NNS * CC NNS\n",
            "|[=======================================]| [0:4] NP -> JJ NNS *\n",
            "|[--------------------------------------->| [0:4] S  -> NP * VB IN NP\n",
            "|[--------------------------------------->| [0:4] NP -> NP * CC NP\n",
            "|.         [----------------------------->| [1:4] S  -> NP * VB IN NP\n",
            "|.         [----------------------------->| [1:4] NP -> NP * CC NP\n",
            "|.         .         .         [--------->| [3:4] S  -> NP * VB IN NP\n",
            "|.         .         .         [--------->| [3:4] NP -> NP * CC NP\n",
            "|[=======================================]| [0:4] NP -> NP CC NP *\n",
            "|.         [-----------------------------]| [1:4] NP -> NP CC NP *\n",
            "|.         [----------------------------->| [1:4] S  -> NP * VB IN NP\n",
            "|.         [----------------------------->| [1:4] NP -> NP * CC NP\n",
            "|[--------------------------------------->| [0:4] S  -> NP * VB IN NP\n",
            "|[--------------------------------------->| [0:4] NP -> NP * CC NP\n",
            "\n",
            "-- Parse\n",
            "|.  small  .   cats  .   and   .   mice  .|\n",
            "|[---------]         .         .         .| [0:1] 'small'\n",
            "|.         [---------]         .         .| [1:2] 'cats'\n",
            "|.         .         [---------]         .| [2:3] 'and'\n",
            "|.         .         .         [---------]| [3:4] 'mice'\n",
            "|[---------]         .         .         .| [0:1] JJ -> 'small' *\n",
            "|[--------->         .         .         .| [0:1] NP -> JJ * NNS\n",
            "|.         [---------]         .         .| [1:2] NNS -> 'cats' *\n",
            "|.         [---------]         .         .| [1:2] NP -> NNS *\n",
            "|.         [--------->         .         .| [1:2] NNS -> NNS * CC NNS\n",
            "|[-------------------]         .         .| [0:2] NP -> JJ NNS *\n",
            "|[------------------->         .         .| [0:2] S  -> NP * VB IN NP\n",
            "|[------------------->         .         .| [0:2] NP -> NP * CC NP\n",
            "|.         [--------->         .         .| [1:2] S  -> NP * VB IN NP\n",
            "|.         [--------->         .         .| [1:2] NP -> NP * CC NP\n",
            "|.         .         [---------]         .| [2:3] CC -> 'and' *\n",
            "|.         [------------------->         .| [1:3] NNS -> NNS CC * NNS\n",
            "|[----------------------------->         .| [0:3] NP -> NP CC * NP\n",
            "|.         [------------------->         .| [1:3] NP -> NP CC * NP\n",
            "|.         .         .         [---------]| [3:4] NNS -> 'mice' *\n",
            "|.         .         .         [---------]| [3:4] NP -> NNS *\n",
            "|.         .         .         [--------->| [3:4] NNS -> NNS * CC NNS\n",
            "|.         [-----------------------------]| [1:4] NNS -> NNS CC NNS *\n",
            "|.         [-----------------------------]| [1:4] NP -> NNS *\n",
            "|.         [----------------------------->| [1:4] NNS -> NNS * CC NNS\n",
            "|[=======================================]| [0:4] NP -> JJ NNS *\n",
            "|[--------------------------------------->| [0:4] S  -> NP * VB IN NP\n",
            "|[--------------------------------------->| [0:4] NP -> NP * CC NP\n",
            "|.         [----------------------------->| [1:4] S  -> NP * VB IN NP\n",
            "|.         [----------------------------->| [1:4] NP -> NP * CC NP\n",
            "|.         .         .         [--------->| [3:4] S  -> NP * VB IN NP\n",
            "|.         .         .         [--------->| [3:4] NP -> NP * CC NP\n",
            "|[=======================================]| [0:4] NP -> NP CC NP *\n",
            "|.         [-----------------------------]| [1:4] NP -> NP CC NP *\n",
            "|.         [----------------------------->| [1:4] S  -> NP * VB IN NP\n",
            "|.         [----------------------------->| [1:4] NP -> NP * CC NP\n",
            "|[--------------------------------------->| [0:4] S  -> NP * VB IN NP\n",
            "|[--------------------------------------->| [0:4] NP -> NP * CC NP\n",
            "\n",
            "--Number of edges: 33\n",
            "\n",
            "-- Explored edges:\n",
            " [[Edge: [0:1] 'small'] [Edge: [1:2] 'cats'] [Edge: [2:3] 'and']\n",
            " [Edge: [3:4] 'mice'] [Edge: [0:1] JJ -> 'small' *]\n",
            " [Edge: [0:1] NP -> JJ * NNS] [Edge: [1:2] NNS -> 'cats' *]\n",
            " [Edge: [1:2] NP -> NNS *] [Edge: [1:2] NNS -> NNS * CC NNS]\n",
            " [Edge: [0:2] NP -> JJ NNS *] [Edge: [0:2] S  -> NP * VB IN NP]\n",
            " [Edge: [0:2] NP -> NP * CC NP] [Edge: [1:2] S  -> NP * VB IN NP]\n",
            " [Edge: [1:2] NP -> NP * CC NP] [Edge: [2:3] CC -> 'and' *]\n",
            " [Edge: [1:3] NNS -> NNS CC * NNS] [Edge: [0:3] NP -> NP CC * NP]\n",
            " [Edge: [1:3] NP -> NP CC * NP] [Edge: [3:4] NNS -> 'mice' *]\n",
            " [Edge: [3:4] NP -> NNS *] [Edge: [3:4] NNS -> NNS * CC NNS]\n",
            " [Edge: [1:4] NNS -> NNS CC NNS *] [Edge: [1:4] NP -> NNS *]\n",
            " [Edge: [1:4] NNS -> NNS * CC NNS] [Edge: [0:4] NP -> JJ NNS *]\n",
            " [Edge: [0:4] S  -> NP * VB IN NP] [Edge: [0:4] NP -> NP * CC NP]\n",
            " [Edge: [1:4] S  -> NP * VB IN NP] [Edge: [1:4] NP -> NP * CC NP]\n",
            " [Edge: [3:4] S  -> NP * VB IN NP] [Edge: [3:4] NP -> NP * CC NP]\n",
            " [Edge: [0:4] NP -> NP CC NP *] [Edge: [1:4] NP -> NP CC NP *]]\n",
            "\n",
            "--Number of trees:\n",
            " 0\n",
            "\n",
            "--Trees:\n"
          ]
        },
        {
          "output_type": "execute_result",
          "data": {
            "text/plain": [
              "'No Trees Found!'"
            ],
            "application/vnd.google.colaboratory.intrinsic+json": {
              "type": "string"
            }
          },
          "metadata": {},
          "execution_count": 144
        }
      ]
    },
    {
      "cell_type": "code",
      "source": [
        "CFGParse.parse(s3, 'left', 0, True)"
      ],
      "metadata": {
        "id": "T8koXaqwXBmz",
        "outputId": "5839aa08-ed8f-4f0b-ff8a-56c6bc746b28",
        "colab": {
          "base_uri": "https://localhost:8080/",
          "height": 1000
        }
      },
      "execution_count": null,
      "outputs": [
        {
          "output_type": "stream",
          "name": "stdout",
          "text": [
            "---------- Using left\n",
            "\n",
            "Part of Speech of the sentence:  [('small', 'JJ'), ('cats', 'NNS'), ('and', 'CC'), ('mice', 'NN')]\n",
            "\n",
            "-- Char Parse\n",
            "|.  small  .   cats  .   and   .   mice  .|\n",
            "|[---------]         .         .         .| [0:1] 'small'\n",
            "|.         [---------]         .         .| [1:2] 'cats'\n",
            "|.         .         [---------]         .| [2:3] 'and'\n",
            "|.         .         .         [---------]| [3:4] 'mice'\n",
            "|[---------]         .         .         .| [0:1] JJ -> 'small' *\n",
            "|[--------->         .         .         .| [0:1] NP -> JJ * NNS\n",
            "|.         [---------]         .         .| [1:2] NNS -> 'cats' *\n",
            "|.         [---------]         .         .| [1:2] NP -> NNS *\n",
            "|.         [--------->         .         .| [1:2] NNS -> NNS * CC NNS\n",
            "|[-------------------]         .         .| [0:2] NP -> JJ NNS *\n",
            "|[------------------->         .         .| [0:2] NP -> NP * CC NP\n",
            "|.         [--------->         .         .| [1:2] NP -> NP * CC NP\n",
            "|.         .         [---------]         .| [2:3] CC -> 'and' *\n",
            "|.         [------------------->         .| [1:3] NNS -> NNS CC * NNS\n",
            "|[----------------------------->         .| [0:3] NP -> NP CC * NP\n",
            "|.         [------------------->         .| [1:3] NP -> NP CC * NP\n",
            "|.         .         .         [---------]| [3:4] NNS -> 'mice' *\n",
            "|.         .         .         [---------]| [3:4] NP -> NNS *\n",
            "|.         [-----------------------------]| [1:4] NNS -> NNS CC NNS *\n",
            "|.         [-----------------------------]| [1:4] NP -> NNS *\n",
            "|[=======================================]| [0:4] NP -> JJ NNS *\n",
            "|[=======================================]| [0:4] NP -> NP CC NP *\n",
            "|.         [-----------------------------]| [1:4] NP -> NP CC NP *\n",
            "\n",
            "-- Parse\n",
            "|.  small  .   cats  .   and   .   mice  .|\n",
            "|[---------]         .         .         .| [0:1] 'small'\n",
            "|.         [---------]         .         .| [1:2] 'cats'\n",
            "|.         .         [---------]         .| [2:3] 'and'\n",
            "|.         .         .         [---------]| [3:4] 'mice'\n",
            "|[---------]         .         .         .| [0:1] JJ -> 'small' *\n",
            "|[--------->         .         .         .| [0:1] NP -> JJ * NNS\n",
            "|.         [---------]         .         .| [1:2] NNS -> 'cats' *\n",
            "|.         [---------]         .         .| [1:2] NP -> NNS *\n",
            "|.         [--------->         .         .| [1:2] NNS -> NNS * CC NNS\n",
            "|[-------------------]         .         .| [0:2] NP -> JJ NNS *\n",
            "|[------------------->         .         .| [0:2] NP -> NP * CC NP\n",
            "|.         [--------->         .         .| [1:2] NP -> NP * CC NP\n",
            "|.         .         [---------]         .| [2:3] CC -> 'and' *\n",
            "|.         [------------------->         .| [1:3] NNS -> NNS CC * NNS\n",
            "|[----------------------------->         .| [0:3] NP -> NP CC * NP\n",
            "|.         [------------------->         .| [1:3] NP -> NP CC * NP\n",
            "|.         .         .         [---------]| [3:4] NNS -> 'mice' *\n",
            "|.         .         .         [---------]| [3:4] NP -> NNS *\n",
            "|.         [-----------------------------]| [1:4] NNS -> NNS CC NNS *\n",
            "|.         [-----------------------------]| [1:4] NP -> NNS *\n",
            "|[=======================================]| [0:4] NP -> JJ NNS *\n",
            "|[=======================================]| [0:4] NP -> NP CC NP *\n",
            "|.         [-----------------------------]| [1:4] NP -> NP CC NP *\n",
            "\n",
            "--Number of edges: 23\n",
            "\n",
            "-- Explored edges:\n",
            " [[Edge: [0:1] 'small'] [Edge: [1:2] 'cats'] [Edge: [2:3] 'and']\n",
            " [Edge: [3:4] 'mice'] [Edge: [0:1] JJ -> 'small' *]\n",
            " [Edge: [0:1] NP -> JJ * NNS] [Edge: [1:2] NNS -> 'cats' *]\n",
            " [Edge: [1:2] NP -> NNS *] [Edge: [1:2] NNS -> NNS * CC NNS]\n",
            " [Edge: [0:2] NP -> JJ NNS *] [Edge: [0:2] NP -> NP * CC NP]\n",
            " [Edge: [1:2] NP -> NP * CC NP] [Edge: [2:3] CC -> 'and' *]\n",
            " [Edge: [1:3] NNS -> NNS CC * NNS] [Edge: [0:3] NP -> NP CC * NP]\n",
            " [Edge: [1:3] NP -> NP CC * NP] [Edge: [3:4] NNS -> 'mice' *]\n",
            " [Edge: [3:4] NP -> NNS *] [Edge: [1:4] NNS -> NNS CC NNS *]\n",
            " [Edge: [1:4] NP -> NNS *] [Edge: [0:4] NP -> JJ NNS *]\n",
            " [Edge: [0:4] NP -> NP CC NP *] [Edge: [1:4] NP -> NP CC NP *]]\n",
            "\n",
            "--Number of trees:\n",
            " 0\n",
            "\n",
            "--Trees:\n"
          ]
        },
        {
          "output_type": "execute_result",
          "data": {
            "text/plain": [
              "'No Trees Found!'"
            ],
            "application/vnd.google.colaboratory.intrinsic+json": {
              "type": "string"
            }
          },
          "metadata": {},
          "execution_count": 145
        }
      ]
    },
    {
      "cell_type": "code",
      "source": [
        "CFGParse.parse(s3, 'bottomUp', 0, True)"
      ],
      "metadata": {
        "id": "axdXADQDXFwZ",
        "outputId": "05240c68-1940-4469-bdb6-5fb525a3c254",
        "colab": {
          "base_uri": "https://localhost:8080/",
          "height": 1000
        }
      },
      "execution_count": null,
      "outputs": [
        {
          "output_type": "stream",
          "name": "stdout",
          "text": [
            "---------- Using bottomUp\n",
            "\n",
            "Part of Speech of the sentence:  [('small', 'JJ'), ('cats', 'NNS'), ('and', 'CC'), ('mice', 'NN')]\n",
            "\n",
            "-- Char Parse\n",
            "|.  small  .   cats  .   and   .   mice  .|\n",
            "|[---------]         .         .         .| [0:1] 'small'\n",
            "|.         [---------]         .         .| [1:2] 'cats'\n",
            "|.         .         [---------]         .| [2:3] 'and'\n",
            "|.         .         .         [---------]| [3:4] 'mice'\n",
            "|>         .         .         .         .| [0:0] JJ -> * 'small'\n",
            "|[---------]         .         .         .| [0:1] JJ -> 'small' *\n",
            "|>         .         .         .         .| [0:0] NP -> * JJ NNS\n",
            "|[--------->         .         .         .| [0:1] NP -> JJ * NNS\n",
            "|.         >         .         .         .| [1:1] NNS -> * 'cats'\n",
            "|.         [---------]         .         .| [1:2] NNS -> 'cats' *\n",
            "|.         >         .         .         .| [1:1] NP -> * NNS\n",
            "|.         >         .         .         .| [1:1] NNS -> * NNS CC NNS\n",
            "|[-------------------]         .         .| [0:2] NP -> JJ NNS *\n",
            "|.         [---------]         .         .| [1:2] NP -> NNS *\n",
            "|.         [--------->         .         .| [1:2] NNS -> NNS * CC NNS\n",
            "|.         >         .         .         .| [1:1] S  -> * NP VB IN NP\n",
            "|.         >         .         .         .| [1:1] NP -> * NP CC NP\n",
            "|.         [--------->         .         .| [1:2] S  -> NP * VB IN NP\n",
            "|.         [--------->         .         .| [1:2] NP -> NP * CC NP\n",
            "|>         .         .         .         .| [0:0] S  -> * NP VB IN NP\n",
            "|>         .         .         .         .| [0:0] NP -> * NP CC NP\n",
            "|[------------------->         .         .| [0:2] S  -> NP * VB IN NP\n",
            "|[------------------->         .         .| [0:2] NP -> NP * CC NP\n",
            "|.         .         >         .         .| [2:2] CC -> * 'and'\n",
            "|.         .         [---------]         .| [2:3] CC -> 'and' *\n",
            "|.         [------------------->         .| [1:3] NNS -> NNS CC * NNS\n",
            "|.         [------------------->         .| [1:3] NP -> NP CC * NP\n",
            "|[----------------------------->         .| [0:3] NP -> NP CC * NP\n",
            "|.         .         .         >         .| [3:3] NNS -> * 'mice'\n",
            "|.         .         .         [---------]| [3:4] NNS -> 'mice' *\n",
            "|.         .         .         >         .| [3:3] NP -> * NNS\n",
            "|.         .         .         >         .| [3:3] NNS -> * NNS CC NNS\n",
            "|.         [-----------------------------]| [1:4] NNS -> NNS CC NNS *\n",
            "|.         .         .         [---------]| [3:4] NP -> NNS *\n",
            "|.         .         .         [--------->| [3:4] NNS -> NNS * CC NNS\n",
            "|.         .         .         >         .| [3:3] S  -> * NP VB IN NP\n",
            "|.         .         .         >         .| [3:3] NP -> * NP CC NP\n",
            "|.         [-----------------------------]| [1:4] NP -> NP CC NP *\n",
            "|[=======================================]| [0:4] NP -> NP CC NP *\n",
            "|.         .         .         [--------->| [3:4] S  -> NP * VB IN NP\n",
            "|.         .         .         [--------->| [3:4] NP -> NP * CC NP\n",
            "|[--------------------------------------->| [0:4] S  -> NP * VB IN NP\n",
            "|[--------------------------------------->| [0:4] NP -> NP * CC NP\n",
            "|.         [----------------------------->| [1:4] S  -> NP * VB IN NP\n",
            "|.         [----------------------------->| [1:4] NP -> NP * CC NP\n",
            "|[=======================================]| [0:4] NP -> JJ NNS *\n",
            "|.         [-----------------------------]| [1:4] NP -> NNS *\n",
            "|.         [----------------------------->| [1:4] NNS -> NNS * CC NNS\n",
            "|.         [----------------------------->| [1:4] S  -> NP * VB IN NP\n",
            "|.         [----------------------------->| [1:4] NP -> NP * CC NP\n",
            "|[--------------------------------------->| [0:4] S  -> NP * VB IN NP\n",
            "|[--------------------------------------->| [0:4] NP -> NP * CC NP\n",
            "\n",
            "-- Parse\n",
            "|.  small  .   cats  .   and   .   mice  .|\n",
            "|[---------]         .         .         .| [0:1] 'small'\n",
            "|.         [---------]         .         .| [1:2] 'cats'\n",
            "|.         .         [---------]         .| [2:3] 'and'\n",
            "|.         .         .         [---------]| [3:4] 'mice'\n",
            "|>         .         .         .         .| [0:0] JJ -> * 'small'\n",
            "|[---------]         .         .         .| [0:1] JJ -> 'small' *\n",
            "|>         .         .         .         .| [0:0] NP -> * JJ NNS\n",
            "|[--------->         .         .         .| [0:1] NP -> JJ * NNS\n",
            "|.         >         .         .         .| [1:1] NNS -> * 'cats'\n",
            "|.         [---------]         .         .| [1:2] NNS -> 'cats' *\n",
            "|.         >         .         .         .| [1:1] NP -> * NNS\n",
            "|.         >         .         .         .| [1:1] NNS -> * NNS CC NNS\n",
            "|[-------------------]         .         .| [0:2] NP -> JJ NNS *\n",
            "|.         [---------]         .         .| [1:2] NP -> NNS *\n",
            "|.         [--------->         .         .| [1:2] NNS -> NNS * CC NNS\n",
            "|.         >         .         .         .| [1:1] S  -> * NP VB IN NP\n",
            "|.         >         .         .         .| [1:1] NP -> * NP CC NP\n",
            "|.         [--------->         .         .| [1:2] S  -> NP * VB IN NP\n",
            "|.         [--------->         .         .| [1:2] NP -> NP * CC NP\n",
            "|>         .         .         .         .| [0:0] S  -> * NP VB IN NP\n",
            "|>         .         .         .         .| [0:0] NP -> * NP CC NP\n",
            "|[------------------->         .         .| [0:2] S  -> NP * VB IN NP\n",
            "|[------------------->         .         .| [0:2] NP -> NP * CC NP\n",
            "|.         .         >         .         .| [2:2] CC -> * 'and'\n",
            "|.         .         [---------]         .| [2:3] CC -> 'and' *\n",
            "|.         [------------------->         .| [1:3] NNS -> NNS CC * NNS\n",
            "|.         [------------------->         .| [1:3] NP -> NP CC * NP\n",
            "|[----------------------------->         .| [0:3] NP -> NP CC * NP\n",
            "|.         .         .         >         .| [3:3] NNS -> * 'mice'\n",
            "|.         .         .         [---------]| [3:4] NNS -> 'mice' *\n",
            "|.         .         .         >         .| [3:3] NP -> * NNS\n",
            "|.         .         .         >         .| [3:3] NNS -> * NNS CC NNS\n",
            "|.         [-----------------------------]| [1:4] NNS -> NNS CC NNS *\n",
            "|.         .         .         [---------]| [3:4] NP -> NNS *\n",
            "|.         .         .         [--------->| [3:4] NNS -> NNS * CC NNS\n",
            "|.         .         .         >         .| [3:3] S  -> * NP VB IN NP\n",
            "|.         .         .         >         .| [3:3] NP -> * NP CC NP\n",
            "|.         [-----------------------------]| [1:4] NP -> NP CC NP *\n",
            "|[=======================================]| [0:4] NP -> NP CC NP *\n",
            "|.         .         .         [--------->| [3:4] S  -> NP * VB IN NP\n",
            "|.         .         .         [--------->| [3:4] NP -> NP * CC NP\n",
            "|[--------------------------------------->| [0:4] S  -> NP * VB IN NP\n",
            "|[--------------------------------------->| [0:4] NP -> NP * CC NP\n",
            "|.         [----------------------------->| [1:4] S  -> NP * VB IN NP\n",
            "|.         [----------------------------->| [1:4] NP -> NP * CC NP\n",
            "|[=======================================]| [0:4] NP -> JJ NNS *\n",
            "|.         [-----------------------------]| [1:4] NP -> NNS *\n",
            "|.         [----------------------------->| [1:4] NNS -> NNS * CC NNS\n",
            "|.         [----------------------------->| [1:4] S  -> NP * VB IN NP\n",
            "|.         [----------------------------->| [1:4] NP -> NP * CC NP\n",
            "|[--------------------------------------->| [0:4] S  -> NP * VB IN NP\n",
            "|[--------------------------------------->| [0:4] NP -> NP * CC NP\n",
            "\n",
            "--Number of edges: 48\n",
            "\n",
            "-- Explored edges:\n",
            " [[Edge: [0:1] 'small'] [Edge: [1:2] 'cats'] [Edge: [2:3] 'and']\n",
            " [Edge: [3:4] 'mice'] [Edge: [0:0] JJ -> * 'small']\n",
            " [Edge: [0:1] JJ -> 'small' *] [Edge: [0:0] NP -> * JJ NNS]\n",
            " [Edge: [0:1] NP -> JJ * NNS] [Edge: [1:1] NNS -> * 'cats']\n",
            " [Edge: [1:2] NNS -> 'cats' *] [Edge: [1:1] NP -> * NNS]\n",
            " [Edge: [1:1] NNS -> * NNS CC NNS] [Edge: [0:2] NP -> JJ NNS *]\n",
            " [Edge: [1:2] NP -> NNS *] [Edge: [1:2] NNS -> NNS * CC NNS]\n",
            " [Edge: [1:1] S  -> * NP VB IN NP] [Edge: [1:1] NP -> * NP CC NP]\n",
            " [Edge: [1:2] S  -> NP * VB IN NP] [Edge: [1:2] NP -> NP * CC NP]\n",
            " [Edge: [0:0] S  -> * NP VB IN NP] [Edge: [0:0] NP -> * NP CC NP]\n",
            " [Edge: [0:2] S  -> NP * VB IN NP] [Edge: [0:2] NP -> NP * CC NP]\n",
            " [Edge: [2:2] CC -> * 'and'] [Edge: [2:3] CC -> 'and' *]\n",
            " [Edge: [1:3] NNS -> NNS CC * NNS] [Edge: [1:3] NP -> NP CC * NP]\n",
            " [Edge: [0:3] NP -> NP CC * NP] [Edge: [3:3] NNS -> * 'mice']\n",
            " [Edge: [3:4] NNS -> 'mice' *] [Edge: [3:3] NP -> * NNS]\n",
            " [Edge: [3:3] NNS -> * NNS CC NNS] [Edge: [1:4] NNS -> NNS CC NNS *]\n",
            " [Edge: [3:4] NP -> NNS *] [Edge: [3:4] NNS -> NNS * CC NNS]\n",
            " [Edge: [3:3] S  -> * NP VB IN NP] [Edge: [3:3] NP -> * NP CC NP]\n",
            " [Edge: [1:4] NP -> NP CC NP *] [Edge: [0:4] NP -> NP CC NP *]\n",
            " [Edge: [3:4] S  -> NP * VB IN NP] [Edge: [3:4] NP -> NP * CC NP]\n",
            " [Edge: [0:4] S  -> NP * VB IN NP] [Edge: [0:4] NP -> NP * CC NP]\n",
            " [Edge: [1:4] S  -> NP * VB IN NP] [Edge: [1:4] NP -> NP * CC NP]\n",
            " [Edge: [0:4] NP -> JJ NNS *] [Edge: [1:4] NP -> NNS *]\n",
            " [Edge: [1:4] NNS -> NNS * CC NNS]]\n",
            "\n",
            "--Number of trees:\n",
            " 0\n",
            "\n",
            "--Trees:\n"
          ]
        },
        {
          "output_type": "execute_result",
          "data": {
            "text/plain": [
              "'No Trees Found!'"
            ],
            "application/vnd.google.colaboratory.intrinsic+json": {
              "type": "string"
            }
          },
          "metadata": {},
          "execution_count": 146
        }
      ]
    },
    {
      "cell_type": "code",
      "source": [
        "CFGParse.parse(s3, 'bottomUpLeft', 0, True)"
      ],
      "metadata": {
        "id": "15shl1u9XFlc",
        "outputId": "7246bb8d-7268-42c4-e8bb-436b3e3133db",
        "colab": {
          "base_uri": "https://localhost:8080/",
          "height": 1000
        }
      },
      "execution_count": null,
      "outputs": [
        {
          "output_type": "stream",
          "name": "stdout",
          "text": [
            "---------- Using bottomUpLeft\n",
            "\n",
            "Part of Speech of the sentence:  [('small', 'JJ'), ('cats', 'NNS'), ('and', 'CC'), ('mice', 'NN')]\n",
            "\n",
            "-- Char Parse\n",
            "|.  small  .   cats  .   and   .   mice  .|\n",
            "|[---------]         .         .         .| [0:1] 'small'\n",
            "|.         [---------]         .         .| [1:2] 'cats'\n",
            "|.         .         [---------]         .| [2:3] 'and'\n",
            "|.         .         .         [---------]| [3:4] 'mice'\n",
            "|[---------]         .         .         .| [0:1] JJ -> 'small' *\n",
            "|[--------->         .         .         .| [0:1] NP -> JJ * NNS\n",
            "|.         [---------]         .         .| [1:2] NNS -> 'cats' *\n",
            "|.         [---------]         .         .| [1:2] NP -> NNS *\n",
            "|.         [--------->         .         .| [1:2] NNS -> NNS * CC NNS\n",
            "|[-------------------]         .         .| [0:2] NP -> JJ NNS *\n",
            "|[------------------->         .         .| [0:2] S  -> NP * VB IN NP\n",
            "|[------------------->         .         .| [0:2] NP -> NP * CC NP\n",
            "|.         [--------->         .         .| [1:2] S  -> NP * VB IN NP\n",
            "|.         [--------->         .         .| [1:2] NP -> NP * CC NP\n",
            "|.         .         [---------]         .| [2:3] CC -> 'and' *\n",
            "|.         [------------------->         .| [1:3] NNS -> NNS CC * NNS\n",
            "|[----------------------------->         .| [0:3] NP -> NP CC * NP\n",
            "|.         [------------------->         .| [1:3] NP -> NP CC * NP\n",
            "|.         .         .         [---------]| [3:4] NNS -> 'mice' *\n",
            "|.         .         .         [---------]| [3:4] NP -> NNS *\n",
            "|.         .         .         [--------->| [3:4] NNS -> NNS * CC NNS\n",
            "|.         [-----------------------------]| [1:4] NNS -> NNS CC NNS *\n",
            "|.         [-----------------------------]| [1:4] NP -> NNS *\n",
            "|.         [----------------------------->| [1:4] NNS -> NNS * CC NNS\n",
            "|[=======================================]| [0:4] NP -> JJ NNS *\n",
            "|[--------------------------------------->| [0:4] S  -> NP * VB IN NP\n",
            "|[--------------------------------------->| [0:4] NP -> NP * CC NP\n",
            "|.         [----------------------------->| [1:4] S  -> NP * VB IN NP\n",
            "|.         [----------------------------->| [1:4] NP -> NP * CC NP\n",
            "|.         .         .         [--------->| [3:4] S  -> NP * VB IN NP\n",
            "|.         .         .         [--------->| [3:4] NP -> NP * CC NP\n",
            "|[=======================================]| [0:4] NP -> NP CC NP *\n",
            "|.         [-----------------------------]| [1:4] NP -> NP CC NP *\n",
            "|.         [----------------------------->| [1:4] S  -> NP * VB IN NP\n",
            "|.         [----------------------------->| [1:4] NP -> NP * CC NP\n",
            "|[--------------------------------------->| [0:4] S  -> NP * VB IN NP\n",
            "|[--------------------------------------->| [0:4] NP -> NP * CC NP\n",
            "\n",
            "-- Parse\n",
            "|.  small  .   cats  .   and   .   mice  .|\n",
            "|[---------]         .         .         .| [0:1] 'small'\n",
            "|.         [---------]         .         .| [1:2] 'cats'\n",
            "|.         .         [---------]         .| [2:3] 'and'\n",
            "|.         .         .         [---------]| [3:4] 'mice'\n",
            "|[---------]         .         .         .| [0:1] JJ -> 'small' *\n",
            "|[--------->         .         .         .| [0:1] NP -> JJ * NNS\n",
            "|.         [---------]         .         .| [1:2] NNS -> 'cats' *\n",
            "|.         [---------]         .         .| [1:2] NP -> NNS *\n",
            "|.         [--------->         .         .| [1:2] NNS -> NNS * CC NNS\n",
            "|[-------------------]         .         .| [0:2] NP -> JJ NNS *\n",
            "|[------------------->         .         .| [0:2] S  -> NP * VB IN NP\n",
            "|[------------------->         .         .| [0:2] NP -> NP * CC NP\n",
            "|.         [--------->         .         .| [1:2] S  -> NP * VB IN NP\n",
            "|.         [--------->         .         .| [1:2] NP -> NP * CC NP\n",
            "|.         .         [---------]         .| [2:3] CC -> 'and' *\n",
            "|.         [------------------->         .| [1:3] NNS -> NNS CC * NNS\n",
            "|[----------------------------->         .| [0:3] NP -> NP CC * NP\n",
            "|.         [------------------->         .| [1:3] NP -> NP CC * NP\n",
            "|.         .         .         [---------]| [3:4] NNS -> 'mice' *\n",
            "|.         .         .         [---------]| [3:4] NP -> NNS *\n",
            "|.         .         .         [--------->| [3:4] NNS -> NNS * CC NNS\n",
            "|.         [-----------------------------]| [1:4] NNS -> NNS CC NNS *\n",
            "|.         [-----------------------------]| [1:4] NP -> NNS *\n",
            "|.         [----------------------------->| [1:4] NNS -> NNS * CC NNS\n",
            "|[=======================================]| [0:4] NP -> JJ NNS *\n",
            "|[--------------------------------------->| [0:4] S  -> NP * VB IN NP\n",
            "|[--------------------------------------->| [0:4] NP -> NP * CC NP\n",
            "|.         [----------------------------->| [1:4] S  -> NP * VB IN NP\n",
            "|.         [----------------------------->| [1:4] NP -> NP * CC NP\n",
            "|.         .         .         [--------->| [3:4] S  -> NP * VB IN NP\n",
            "|.         .         .         [--------->| [3:4] NP -> NP * CC NP\n",
            "|[=======================================]| [0:4] NP -> NP CC NP *\n",
            "|.         [-----------------------------]| [1:4] NP -> NP CC NP *\n",
            "|.         [----------------------------->| [1:4] S  -> NP * VB IN NP\n",
            "|.         [----------------------------->| [1:4] NP -> NP * CC NP\n",
            "|[--------------------------------------->| [0:4] S  -> NP * VB IN NP\n",
            "|[--------------------------------------->| [0:4] NP -> NP * CC NP\n",
            "\n",
            "--Number of edges: 33\n",
            "\n",
            "-- Explored edges:\n",
            " [[Edge: [0:1] 'small'] [Edge: [1:2] 'cats'] [Edge: [2:3] 'and']\n",
            " [Edge: [3:4] 'mice'] [Edge: [0:1] JJ -> 'small' *]\n",
            " [Edge: [0:1] NP -> JJ * NNS] [Edge: [1:2] NNS -> 'cats' *]\n",
            " [Edge: [1:2] NP -> NNS *] [Edge: [1:2] NNS -> NNS * CC NNS]\n",
            " [Edge: [0:2] NP -> JJ NNS *] [Edge: [0:2] S  -> NP * VB IN NP]\n",
            " [Edge: [0:2] NP -> NP * CC NP] [Edge: [1:2] S  -> NP * VB IN NP]\n",
            " [Edge: [1:2] NP -> NP * CC NP] [Edge: [2:3] CC -> 'and' *]\n",
            " [Edge: [1:3] NNS -> NNS CC * NNS] [Edge: [0:3] NP -> NP CC * NP]\n",
            " [Edge: [1:3] NP -> NP CC * NP] [Edge: [3:4] NNS -> 'mice' *]\n",
            " [Edge: [3:4] NP -> NNS *] [Edge: [3:4] NNS -> NNS * CC NNS]\n",
            " [Edge: [1:4] NNS -> NNS CC NNS *] [Edge: [1:4] NP -> NNS *]\n",
            " [Edge: [1:4] NNS -> NNS * CC NNS] [Edge: [0:4] NP -> JJ NNS *]\n",
            " [Edge: [0:4] S  -> NP * VB IN NP] [Edge: [0:4] NP -> NP * CC NP]\n",
            " [Edge: [1:4] S  -> NP * VB IN NP] [Edge: [1:4] NP -> NP * CC NP]\n",
            " [Edge: [3:4] S  -> NP * VB IN NP] [Edge: [3:4] NP -> NP * CC NP]\n",
            " [Edge: [0:4] NP -> NP CC NP *] [Edge: [1:4] NP -> NP CC NP *]]\n",
            "\n",
            "--Number of trees:\n",
            " 0\n",
            "\n",
            "--Trees:\n"
          ]
        },
        {
          "output_type": "execute_result",
          "data": {
            "text/plain": [
              "'No Trees Found!'"
            ],
            "application/vnd.google.colaboratory.intrinsic+json": {
              "type": "string"
            }
          },
          "metadata": {},
          "execution_count": 147
        }
      ]
    },
    {
      "cell_type": "code",
      "source": [
        "\n",
        "\n",
        "nltk.parse.chart.demo(2, print_times=False, trace=1, sent='Lazy cats play with mice', numparses=1)"
      ],
      "metadata": {
        "id": "ug-qJv2yXZBI",
        "outputId": "2cfa68d5-aad5-40f7-962b-0fbfce857067",
        "colab": {
          "base_uri": "https://localhost:8080/",
          "height": 455
        }
      },
      "execution_count": 35,
      "outputs": [
        {
          "output_type": "stream",
          "name": "stdout",
          "text": [
            "* Sentence:\n",
            "Lazy cats play with mice\n",
            "['Lazy', 'cats', 'play', 'with', 'mice']\n",
            "\n",
            "* Strategy: Bottom-up\n",
            "\n"
          ]
        },
        {
          "output_type": "error",
          "ename": "ValueError",
          "evalue": "ignored",
          "traceback": [
            "\u001b[0;31m---------------------------------------------------------------------------\u001b[0m",
            "\u001b[0;31mValueError\u001b[0m                                Traceback (most recent call last)",
            "\u001b[0;32m<ipython-input-35-2922e095d8c3>\u001b[0m in \u001b[0;36m<cell line: 1>\u001b[0;34m()\u001b[0m\n\u001b[0;32m----> 1\u001b[0;31m \u001b[0mnltk\u001b[0m\u001b[0;34m.\u001b[0m\u001b[0mparse\u001b[0m\u001b[0;34m.\u001b[0m\u001b[0mchart\u001b[0m\u001b[0;34m.\u001b[0m\u001b[0mdemo\u001b[0m\u001b[0;34m(\u001b[0m\u001b[0;36m2\u001b[0m\u001b[0;34m,\u001b[0m \u001b[0mprint_times\u001b[0m\u001b[0;34m=\u001b[0m\u001b[0;32mFalse\u001b[0m\u001b[0;34m,\u001b[0m \u001b[0mtrace\u001b[0m\u001b[0;34m=\u001b[0m\u001b[0;36m1\u001b[0m\u001b[0;34m,\u001b[0m \u001b[0msent\u001b[0m\u001b[0;34m=\u001b[0m\u001b[0;34m'Lazy cats play with mice'\u001b[0m\u001b[0;34m,\u001b[0m \u001b[0mnumparses\u001b[0m\u001b[0;34m=\u001b[0m\u001b[0;36m1\u001b[0m\u001b[0;34m)\u001b[0m\u001b[0;34m\u001b[0m\u001b[0;34m\u001b[0m\u001b[0m\n\u001b[0m",
            "\u001b[0;32m/usr/local/lib/python3.10/dist-packages/nltk/parse/chart.py\u001b[0m in \u001b[0;36mdemo\u001b[0;34m(choice, print_times, print_grammar, print_trees, trace, sent, numparses)\u001b[0m\n\u001b[1;32m   1790\u001b[0m         \u001b[0mcp\u001b[0m \u001b[0;34m=\u001b[0m \u001b[0mChartParser\u001b[0m\u001b[0;34m(\u001b[0m\u001b[0mgrammar\u001b[0m\u001b[0;34m,\u001b[0m \u001b[0mstrategies\u001b[0m\u001b[0;34m[\u001b[0m\u001b[0mstrategy\u001b[0m\u001b[0;34m]\u001b[0m\u001b[0;34m[\u001b[0m\u001b[0;36m1\u001b[0m\u001b[0;34m]\u001b[0m\u001b[0;34m,\u001b[0m \u001b[0mtrace\u001b[0m\u001b[0;34m=\u001b[0m\u001b[0mtrace\u001b[0m\u001b[0;34m)\u001b[0m\u001b[0;34m\u001b[0m\u001b[0;34m\u001b[0m\u001b[0m\n\u001b[1;32m   1791\u001b[0m         \u001b[0mt\u001b[0m \u001b[0;34m=\u001b[0m \u001b[0mtime\u001b[0m\u001b[0;34m.\u001b[0m\u001b[0mtime\u001b[0m\u001b[0;34m(\u001b[0m\u001b[0;34m)\u001b[0m\u001b[0;34m\u001b[0m\u001b[0;34m\u001b[0m\u001b[0m\n\u001b[0;32m-> 1792\u001b[0;31m         \u001b[0mchart\u001b[0m \u001b[0;34m=\u001b[0m \u001b[0mcp\u001b[0m\u001b[0;34m.\u001b[0m\u001b[0mchart_parse\u001b[0m\u001b[0;34m(\u001b[0m\u001b[0mtokens\u001b[0m\u001b[0;34m)\u001b[0m\u001b[0;34m\u001b[0m\u001b[0;34m\u001b[0m\u001b[0m\n\u001b[0m\u001b[1;32m   1793\u001b[0m         \u001b[0mparses\u001b[0m \u001b[0;34m=\u001b[0m \u001b[0mlist\u001b[0m\u001b[0;34m(\u001b[0m\u001b[0mchart\u001b[0m\u001b[0;34m.\u001b[0m\u001b[0mparses\u001b[0m\u001b[0;34m(\u001b[0m\u001b[0mgrammar\u001b[0m\u001b[0;34m.\u001b[0m\u001b[0mstart\u001b[0m\u001b[0;34m(\u001b[0m\u001b[0;34m)\u001b[0m\u001b[0;34m)\u001b[0m\u001b[0;34m)\u001b[0m\u001b[0;34m\u001b[0m\u001b[0;34m\u001b[0m\u001b[0m\n\u001b[1;32m   1794\u001b[0m \u001b[0;34m\u001b[0m\u001b[0m\n",
            "\u001b[0;32m/usr/local/lib/python3.10/dist-packages/nltk/parse/chart.py\u001b[0m in \u001b[0;36mchart_parse\u001b[0;34m(self, tokens, trace)\u001b[0m\n\u001b[1;32m   1430\u001b[0m \u001b[0;34m\u001b[0m\u001b[0m\n\u001b[1;32m   1431\u001b[0m         \u001b[0mtokens\u001b[0m \u001b[0;34m=\u001b[0m \u001b[0mlist\u001b[0m\u001b[0;34m(\u001b[0m\u001b[0mtokens\u001b[0m\u001b[0;34m)\u001b[0m\u001b[0;34m\u001b[0m\u001b[0;34m\u001b[0m\u001b[0m\n\u001b[0;32m-> 1432\u001b[0;31m         \u001b[0mself\u001b[0m\u001b[0;34m.\u001b[0m\u001b[0m_grammar\u001b[0m\u001b[0;34m.\u001b[0m\u001b[0mcheck_coverage\u001b[0m\u001b[0;34m(\u001b[0m\u001b[0mtokens\u001b[0m\u001b[0;34m)\u001b[0m\u001b[0;34m\u001b[0m\u001b[0;34m\u001b[0m\u001b[0m\n\u001b[0m\u001b[1;32m   1433\u001b[0m         \u001b[0mchart\u001b[0m \u001b[0;34m=\u001b[0m \u001b[0mself\u001b[0m\u001b[0;34m.\u001b[0m\u001b[0m_chart_class\u001b[0m\u001b[0;34m(\u001b[0m\u001b[0mtokens\u001b[0m\u001b[0;34m)\u001b[0m\u001b[0;34m\u001b[0m\u001b[0;34m\u001b[0m\u001b[0m\n\u001b[1;32m   1434\u001b[0m         \u001b[0mgrammar\u001b[0m \u001b[0;34m=\u001b[0m \u001b[0mself\u001b[0m\u001b[0;34m.\u001b[0m\u001b[0m_grammar\u001b[0m\u001b[0;34m\u001b[0m\u001b[0;34m\u001b[0m\u001b[0m\n",
            "\u001b[0;32m/usr/local/lib/python3.10/dist-packages/nltk/grammar.py\u001b[0m in \u001b[0;36mcheck_coverage\u001b[0;34m(self, tokens)\u001b[0m\n\u001b[1;32m    663\u001b[0m         \u001b[0;32mif\u001b[0m \u001b[0mmissing\u001b[0m\u001b[0;34m:\u001b[0m\u001b[0;34m\u001b[0m\u001b[0;34m\u001b[0m\u001b[0m\n\u001b[1;32m    664\u001b[0m             \u001b[0mmissing\u001b[0m \u001b[0;34m=\u001b[0m \u001b[0;34m\", \"\u001b[0m\u001b[0;34m.\u001b[0m\u001b[0mjoin\u001b[0m\u001b[0;34m(\u001b[0m\u001b[0;34mf\"{w!r}\"\u001b[0m \u001b[0;32mfor\u001b[0m \u001b[0mw\u001b[0m \u001b[0;32min\u001b[0m \u001b[0mmissing\u001b[0m\u001b[0;34m)\u001b[0m\u001b[0;34m\u001b[0m\u001b[0;34m\u001b[0m\u001b[0m\n\u001b[0;32m--> 665\u001b[0;31m             raise ValueError(\n\u001b[0m\u001b[1;32m    666\u001b[0m                 \u001b[0;34m\"Grammar does not cover some of the \"\u001b[0m \u001b[0;34m\"input words: %r.\"\u001b[0m \u001b[0;34m%\u001b[0m \u001b[0mmissing\u001b[0m\u001b[0;34m\u001b[0m\u001b[0;34m\u001b[0m\u001b[0m\n\u001b[1;32m    667\u001b[0m             )\n",
            "\u001b[0;31mValueError\u001b[0m: Grammar does not cover some of the input words: \"'Lazy', 'cats', 'play', 'mice'\"."
          ]
        }
      ]
    },
    {
      "cell_type": "markdown",
      "source": [
        "**Conclusions:**\n",
        "\n",
        "- Since parsing is a search problem, we can then say that the eficiency of the parsers can be measured as the number of edges explored before to find a solution. The lower the edges explored, the more efficient the parser is.\n",
        "\n",
        "- Using this logic, then we can say that the most efficient parser for the test sentences is the **left corner chart parser.**\n",
        "\n",
        "This makes sense since it is a top-down strategy with left corner information. While the other two are bottom-up strategies, and Bottom-up tend to expand more nodes that the top-down strategies.\n",
        "\n",
        "The reason of the previous statement is that:\n",
        "\n",
        "- Bottom-Up starts with individual words and works upwards to build larger parts until the complete sentence is formed.\n",
        "\n",
        "- Top-down starts with the entire sentence and recursively breaks it down into smaller parts until individual words are reached. Which leads to less expansion.\n",
        "\n",
        "- Also, when adding left corner information to the strategy, the parser avoid unnecesary expansions which also improves efficiency.\n",
        "\n",
        "\n",
        "We can also see, that the CFG rules chosen (or grammatical rules) can impact the strategies, even leading to searches where no tree is found.  \n",
        "\n",
        "For example, with the test sentence and grammars we implemented, we can see some differences in the grammars:\n",
        "\n",
        "- Grammar 1:\n",
        "Allows us for more complex noun phrases with adjectives and conjunctions whic leads to more flexibility in constructing varied sentence structures. However, it does not explicitly define sentence structures, making it less restrictive.\n",
        "\n",
        "- Grammar 2:\n",
        "It introduces a top-level sentence rule, providing a more explicit sentence structure. But still allows for a broad range of sentence structures without specific verb phrase details.\n",
        "\n",
        "- Grammar 3:\n",
        "Explicitly defines sentence structures with rules for noun phrases, verb phrases, and prepositional phrases. However, may be more restrictive in terms of sentence structures compared to the previous grammars.\n",
        "\n",
        "\n",
        "If we want flexibility and a wide range of sentence structures, we need to define a more general Grammar structure which can capture all the possible combinations of the sentences.\n",
        "\n",
        "Ultimately, the better grammar depends on the specific requirements for sentence generation and the level of structural detail we want to capture in the parsing trees."
      ],
      "metadata": {
        "id": "Uuv75ckwY2nd"
      }
    }
  ],
  "metadata": {
    "colab": {
      "provenance": [],
      "include_colab_link": true
    },
    "kernelspec": {
      "display_name": "IHLT",
      "language": "python",
      "name": "ihlt"
    },
    "language_info": {
      "codemirror_mode": {
        "name": "ipython",
        "version": 3
      },
      "file_extension": ".py",
      "mimetype": "text/x-python",
      "name": "python",
      "nbconvert_exporter": "python",
      "pygments_lexer": "ipython3",
      "version": "3.9.13"
    },
    "vscode": {
      "interpreter": {
        "hash": "0795eca24a98e58b2dcbec80c9554a91f94c5c7d4e675f06c8c2f85c434623a5"
      }
    }
  },
  "nbformat": 4,
  "nbformat_minor": 0
}