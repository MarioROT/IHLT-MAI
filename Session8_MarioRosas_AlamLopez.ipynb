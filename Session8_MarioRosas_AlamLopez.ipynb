{
  "cells": [
    {
      "cell_type": "markdown",
      "metadata": {
        "id": "LpEp-jhafvsx"
      },
      "source": [
        "# Lab session 8 (Syntactic Parser) - IHLT\n",
        "\n",
        "**Students:**\n",
        "- Mario Rosas\n",
        "- Alam Lopez\n",
        "\n",
        "**Lab Professor:** Salvador Medina Herrera"
      ]
    },
    {
      "cell_type": "markdown",
      "metadata": {
        "id": "l0LXucmalIYk"
      },
      "source": [
        "## Paraphrases Template"
      ]
    },
    {
      "cell_type": "code",
      "source": [
        "%%shell\n",
        "git clone https://github.com/mariorot/IHLT-MAI.git\n",
        "cd 'IHLT-MAI'\n",
        "mv 'complementary_material' /content/\n",
        "mv scripts /content/\n",
        "pip install svgling\n",
        "pip install python-crfsuite"
      ],
      "metadata": {
        "colab": {
          "base_uri": "https://localhost:8080/"
        },
        "id": "Glnj4tzcrkGJ",
        "outputId": "f347d4fe-c321-4b50-82c4-966bd4760c40"
      },
      "execution_count": 37,
      "outputs": [
        {
          "output_type": "stream",
          "name": "stdout",
          "text": [
            "Cloning into 'IHLT-MAI'...\n",
            "remote: Enumerating objects: 402, done.\u001b[K\n",
            "remote: Counting objects: 100% (21/21), done.\u001b[K\n",
            "remote: Compressing objects: 100% (9/9), done.\u001b[K\n",
            "remote: Total 402 (delta 16), reused 12 (delta 12), pack-reused 381\u001b[K\n",
            "Receiving objects: 100% (402/402), 325.83 KiB | 17.15 MiB/s, done.\n",
            "Resolving deltas: 100% (239/239), done.\n",
            "Requirement already satisfied: svgling in /usr/local/lib/python3.10/dist-packages (0.4.0)\n",
            "Requirement already satisfied: svgwrite in /usr/local/lib/python3.10/dist-packages (from svgling) (1.4.3)\n",
            "Collecting python-crfsuite\n",
            "  Downloading python_crfsuite-0.9.9-cp310-cp310-manylinux_2_17_x86_64.manylinux2014_x86_64.whl (993 kB)\n",
            "\u001b[2K     \u001b[90m━━━━━━━━━━━━━━━━━━━━━━━━━━━━━━━━━━━━━━━━\u001b[0m \u001b[32m993.5/993.5 kB\u001b[0m \u001b[31m17.7 MB/s\u001b[0m eta \u001b[36m0:00:00\u001b[0m\n",
            "\u001b[?25hInstalling collected packages: python-crfsuite\n",
            "Successfully installed python-crfsuite-0.9.9\n"
          ]
        },
        {
          "output_type": "execute_result",
          "data": {
            "text/plain": []
          },
          "metadata": {},
          "execution_count": 37
        }
      ]
    },
    {
      "cell_type": "code",
      "source": [
        "import nltk\n",
        "from nltk import CFG, ChartParser, BottomUpChartParser, BottomUpLeftCornerChartParser, LeftCornerChartParser\n",
        "import svgling\n",
        "from scripts.text_preprocessing import TextPreprocessing\n",
        "import string\n",
        "import numpy as np"
      ],
      "metadata": {
        "id": "ZUbLSXbZWrbD"
      },
      "execution_count": 122,
      "outputs": []
    },
    {
      "cell_type": "markdown",
      "source": [
        "## TODO\n",
        "\n",
        "- Consider the following sentence: **Lazy cats play with mice.**\n",
        "\n",
        "- Expand the grammar of the example related to non-probabilistic chart parsers in order to subsume this new sentence.\n",
        "\n",
        "- Perform the constituency parsing using a BottomUpChartParser, a BottomUpLeftCornerChartParser and a LeftCornerChartParser.\n",
        "\n",
        "- For each one of them, provide the resulting tree, the number of edges and the list of explored edges.\n",
        "\n",
        "- Which parser is the most efficient for parsing the sentence?\n",
        "\n",
        "- Which edges are filtered out by each parser and why?"
      ],
      "metadata": {
        "id": "xAYq3TUOVrIa"
      }
    },
    {
      "cell_type": "markdown",
      "source": [
        "#### Failed attempt to generate grammar automatically"
      ],
      "metadata": {
        "id": "xnIH_NH2Iubw"
      }
    },
    {
      "cell_type": "code",
      "source": [
        "def sentence_to_cfg(sentence):\n",
        "    words = TextPreprocessing().clean_sentence(sentence, signs=string.punctuation)\n",
        "    pos_tags = nltk.pos_tag(words)\n",
        "\n",
        "    productions = []\n",
        "\n",
        "    for i in range(len(pos_tags)):\n",
        "        productions.append(f\"Word_{i} -> '{words[i]}'\")\n",
        "        productions.append(f\"POS_{i} -> '{pos_tags[i][1]}'\")\n",
        "\n",
        "    for i in range(len(pos_tags) - 1):\n",
        "        productions.append(f\"Phrase_{i} -> Word_{i} | POS_{i}\")\n",
        "        productions.append(f\"Sentence -> Phrase_{i} Phrase_{i+1}\")\n",
        "\n",
        "    cfg_string = \"\\n\".join(productions)\n",
        "\n",
        "    return CFG.fromstring(cfg_string)\n",
        "\n",
        "# Example sentence\n",
        "sentence = \"The cat chased the mouse\"\n",
        "\n",
        "# Convert sentence to CFG\n",
        "cfg = sentence_to_cfg(sentence)\n",
        "\n",
        "# Print the CFG\n",
        "print(cfg)"
      ],
      "metadata": {
        "id": "Ka9SKA7NRHEf",
        "colab": {
          "base_uri": "https://localhost:8080/"
        },
        "outputId": "22784d59-b8fd-446d-9332-1d1a4c19b678"
      },
      "execution_count": 48,
      "outputs": [
        {
          "output_type": "stream",
          "name": "stdout",
          "text": [
            "Grammar with 22 productions (start state = Word_0)\n",
            "    Word_0 -> 'the'\n",
            "    POS_0 -> 'DT'\n",
            "    Word_1 -> 'cat'\n",
            "    POS_1 -> 'NN'\n",
            "    Word_2 -> 'chased'\n",
            "    POS_2 -> 'VBD'\n",
            "    Word_3 -> 'the'\n",
            "    POS_3 -> 'DT'\n",
            "    Word_4 -> 'mouse'\n",
            "    POS_4 -> 'NN'\n",
            "    Phrase_0 -> Word_0\n",
            "    Phrase_0 -> POS_0\n",
            "    Sentence -> Phrase_0 Phrase_1\n",
            "    Phrase_1 -> Word_1\n",
            "    Phrase_1 -> POS_1\n",
            "    Sentence -> Phrase_1 Phrase_2\n",
            "    Phrase_2 -> Word_2\n",
            "    Phrase_2 -> POS_2\n",
            "    Sentence -> Phrase_2 Phrase_3\n",
            "    Phrase_3 -> Word_3\n",
            "    Phrase_3 -> POS_3\n",
            "    Sentence -> Phrase_3 Phrase_4\n"
          ]
        }
      ]
    },
    {
      "cell_type": "markdown",
      "source": [
        "#### Introducing grammar manually"
      ],
      "metadata": {
        "id": "Iy4hc2KTI1ls"
      }
    },
    {
      "cell_type": "code",
      "source": [
        "class sentence_to_cfg_parsing():\n",
        "    def __init__(self, grammar):\n",
        "      self.grammar = grammar\n",
        "      self.pMethods = {'chart':ChartParser,\n",
        "                       'bottomUp':BottomUpChartParser,\n",
        "                       'bottomUpLeft':BottomUpLeftCornerChartParser,\n",
        "                       'left': LeftCornerChartParser}\n",
        "\n",
        "    def parse(self, sentence, method, rTree=0, verbose = False):\n",
        "      print(f\"---------- Using {method}\")\n",
        "      words = TextPreprocessing().clean_sentence(sentence, signs=string.punctuation)\n",
        "      pos_tags = nltk.pos_tag(words)\n",
        "\n",
        "      if verbose:\n",
        "        print(\"\\nPart of Speech of the sentence: \", pos_tags)\n",
        "\n",
        "      parser = self.pMethods[method](self.grammar, trace=1)\n",
        "      # print('\\n-- Char Parse')\n",
        "      # cparse = parser.chart_parse(words)\n",
        "      print('\\n-- Parse')\n",
        "      parse = parser.parse(words)\n",
        "      print(f'\\n--Number of edges: {cparse.num_edges()}')\n",
        "      print(f'\\n-- Explored edges:\\n {np.array(cparse.edges())}')\n",
        "      trees = list(parse)\n",
        "      print(f'\\n--Number of trees:\\n {len(trees)}')\n",
        "      print(\"\\n--Trees:\")\n",
        "      for i, tree in enumerate(trees):\n",
        "        print(f'---Tree {i}: ', tree)\n",
        "\n",
        "      if len(trees) != 0:\n",
        "        print(\"\\n\")\n",
        "        return trees[rTree]\n",
        "      else:\n",
        "        return \"No Trees Found!\""
      ],
      "metadata": {
        "id": "QZnFM-rKI9Tb"
      },
      "execution_count": 148,
      "outputs": []
    },
    {
      "cell_type": "code",
      "source": [
        "grammar = CFG.fromstring('''\n",
        "  NP  -> NNS | JJ NNS | NP CC NP\n",
        "  NNS -> \"cats\" | \"dogs\" | \"mice\" | NNS CC NNS\n",
        "  JJ  -> \"big\" | \"small\" | \"lazy\"\n",
        "  CC  -> \"and\" | \"or\"\n",
        "  VB -> \"play\"\n",
        "  IN  -> \"with\"\n",
        "  ''')\n",
        "\n",
        "grammar2 = CFG.fromstring('''\n",
        "  S   -> NP VB IN NP\n",
        "  NP  -> NNS | JJ NNS | NP CC NP\n",
        "  NNS -> \"cats\" | \"dogs\" | \"mice\" | NNS CC NNS\n",
        "  JJ  -> \"big\" | \"small\" | \"lazy\"\n",
        "  CC  -> \"and\" | \"or\"\n",
        "  VB -> \"play\"\n",
        "  IN  -> \"with\"\n",
        "  ''')\n",
        "\n",
        "grammar3 = CFG.fromstring(\"\"\"\n",
        "   S -> NP VP\n",
        "   NP -> Adj NP | N | NP Conj NP\n",
        "   VP -> V NP | V PP\n",
        "   PP -> P NP\n",
        "   Adj -> 'Lazy' | 'small'\n",
        "   N -> 'cats' | 'mice'\n",
        "   V -> 'play'\n",
        "   P -> 'with'\n",
        "   Conj -> 'and'\n",
        "\"\"\")\n",
        "\n",
        "s1=\"Lazy cats play with mice\"\n",
        "s2=\"Lazy cats and mice\"\n",
        "s3=\"small cats and mice\""
      ],
      "metadata": {
        "id": "7XEqFOpYOKA5"
      },
      "execution_count": 167,
      "outputs": []
    },
    {
      "cell_type": "markdown",
      "source": [
        "##### Testing with grammar 1"
      ],
      "metadata": {
        "id": "HJ8gutFdVLoA"
      }
    },
    {
      "cell_type": "code",
      "source": [
        "CFGParse = sentence_to_cfg_parsing(grammar)"
      ],
      "metadata": {
        "id": "ffahvIIOVXdK"
      },
      "execution_count": 150,
      "outputs": []
    },
    {
      "cell_type": "code",
      "source": [
        "CFGParse.parse(s3, 'chart', 1, True)"
      ],
      "metadata": {
        "colab": {
          "base_uri": "https://localhost:8080/",
          "height": 1000
        },
        "id": "OtvlEWQ4VFt8",
        "outputId": "dc18448b-3ee3-42df-d708-d1e0538dad61"
      },
      "execution_count": 151,
      "outputs": [
        {
          "output_type": "stream",
          "name": "stdout",
          "text": [
            "---------- Using chart\n",
            "\n",
            "Part of Speech of the sentence:  [('small', 'JJ'), ('cats', 'NNS'), ('and', 'CC'), ('mice', 'NN')]\n",
            "\n",
            "-- Parse\n",
            "|.  small  .   cats  .   and   .   mice  .|\n",
            "|[---------]         .         .         .| [0:1] 'small'\n",
            "|.         [---------]         .         .| [1:2] 'cats'\n",
            "|.         .         [---------]         .| [2:3] 'and'\n",
            "|.         .         .         [---------]| [3:4] 'mice'\n",
            "|[---------]         .         .         .| [0:1] JJ -> 'small' *\n",
            "|[--------->         .         .         .| [0:1] NP -> JJ * NNS\n",
            "|.         [---------]         .         .| [1:2] NNS -> 'cats' *\n",
            "|.         [---------]         .         .| [1:2] NP -> NNS *\n",
            "|.         [--------->         .         .| [1:2] NNS -> NNS * CC NNS\n",
            "|[-------------------]         .         .| [0:2] NP -> JJ NNS *\n",
            "|[------------------->         .         .| [0:2] NP -> NP * CC NP\n",
            "|.         [--------->         .         .| [1:2] NP -> NP * CC NP\n",
            "|.         .         [---------]         .| [2:3] CC -> 'and' *\n",
            "|.         [------------------->         .| [1:3] NNS -> NNS CC * NNS\n",
            "|[----------------------------->         .| [0:3] NP -> NP CC * NP\n",
            "|.         [------------------->         .| [1:3] NP -> NP CC * NP\n",
            "|.         .         .         [---------]| [3:4] NNS -> 'mice' *\n",
            "|.         .         .         [---------]| [3:4] NP -> NNS *\n",
            "|.         .         .         [--------->| [3:4] NNS -> NNS * CC NNS\n",
            "|.         [-----------------------------]| [1:4] NNS -> NNS CC NNS *\n",
            "|.         [-----------------------------]| [1:4] NP -> NNS *\n",
            "|.         [----------------------------->| [1:4] NNS -> NNS * CC NNS\n",
            "|[=======================================]| [0:4] NP -> JJ NNS *\n",
            "|[--------------------------------------->| [0:4] NP -> NP * CC NP\n",
            "|.         [----------------------------->| [1:4] NP -> NP * CC NP\n",
            "|.         .         .         [--------->| [3:4] NP -> NP * CC NP\n",
            "|[=======================================]| [0:4] NP -> NP CC NP *\n",
            "|.         [-----------------------------]| [1:4] NP -> NP CC NP *\n",
            "|.         [----------------------------->| [1:4] NP -> NP * CC NP\n",
            "|[--------------------------------------->| [0:4] NP -> NP * CC NP\n",
            "\n",
            "--Number of edges: 28\n",
            "\n",
            "-- Explored edges:\n",
            " [[Edge: [0:1] 'small'] [Edge: [1:2] 'cats'] [Edge: [2:3] 'and']\n",
            " [Edge: [3:4] 'mice'] [Edge: [0:1] JJ -> 'small' *]\n",
            " [Edge: [0:1] NP -> JJ * NNS] [Edge: [1:2] NNS -> 'cats' *]\n",
            " [Edge: [1:2] NP -> NNS *] [Edge: [1:2] NNS -> NNS * CC NNS]\n",
            " [Edge: [0:2] NP -> JJ NNS *] [Edge: [0:2] NP -> NP * CC NP]\n",
            " [Edge: [1:2] NP -> NP * CC NP] [Edge: [2:3] CC -> 'and' *]\n",
            " [Edge: [1:3] NNS -> NNS CC * NNS] [Edge: [0:3] NP -> NP CC * NP]\n",
            " [Edge: [1:3] NP -> NP CC * NP] [Edge: [3:4] NNS -> 'mice' *]\n",
            " [Edge: [3:4] NP -> NNS *] [Edge: [3:4] NNS -> NNS * CC NNS]\n",
            " [Edge: [1:4] NNS -> NNS CC NNS *] [Edge: [1:4] NP -> NNS *]\n",
            " [Edge: [1:4] NNS -> NNS * CC NNS] [Edge: [0:4] NP -> JJ NNS *]\n",
            " [Edge: [0:4] NP -> NP * CC NP] [Edge: [1:4] NP -> NP * CC NP]\n",
            " [Edge: [3:4] NP -> NP * CC NP] [Edge: [0:4] NP -> NP CC NP *]\n",
            " [Edge: [1:4] NP -> NP CC NP *]]\n",
            "\n",
            "--Number of trees:\n",
            " 2\n",
            "\n",
            "--Trees:\n",
            "---Tree 0:  (NP (JJ small) (NNS (NNS cats) (CC and) (NNS mice)))\n",
            "---Tree 1:  (NP (NP (JJ small) (NNS cats)) (CC and) (NP (NNS mice)))\n",
            "\n",
            "\n"
          ]
        },
        {
          "output_type": "execute_result",
          "data": {
            "text/plain": [
              "Tree('NP', [Tree('NP', [Tree('JJ', ['small']), Tree('NNS', ['cats'])]), Tree('CC', ['and']), Tree('NP', [Tree('NNS', ['mice'])])])"
            ],
            "image/svg+xml": "<svg baseProfile=\"full\" height=\"168px\" preserveAspectRatio=\"xMidYMid meet\" style=\"font-family: times, serif; font-weight: normal; font-style: normal; font-size: 16px;\" version=\"1.1\" viewBox=\"0,0,192.0,168.0\" width=\"192px\" xmlns=\"http://www.w3.org/2000/svg\" xmlns:ev=\"http://www.w3.org/2001/xml-events\" xmlns:xlink=\"http://www.w3.org/1999/xlink\"><defs /><svg width=\"100%\" x=\"0\" y=\"0px\"><defs /><text text-anchor=\"middle\" x=\"50%\" y=\"16px\">NP</text></svg><svg width=\"54.1667%\" x=\"0%\" y=\"48px\"><defs /><svg width=\"100%\" x=\"0\" y=\"0px\"><defs /><text text-anchor=\"middle\" x=\"50%\" y=\"16px\">NP</text></svg><svg width=\"53.8462%\" x=\"0%\" y=\"48px\"><defs /><svg width=\"100%\" x=\"0\" y=\"0px\"><defs /><text text-anchor=\"middle\" x=\"50%\" y=\"16px\">JJ</text></svg><svg width=\"100%\" x=\"0%\" y=\"48px\"><defs /><svg width=\"100%\" x=\"0\" y=\"0px\"><defs /><text text-anchor=\"middle\" x=\"50%\" y=\"16px\">small</text></svg></svg><line stroke=\"black\" x1=\"50%\" x2=\"50%\" y1=\"19.2px\" y2=\"48px\" /></svg><line stroke=\"black\" x1=\"50%\" x2=\"26.9231%\" y1=\"19.2px\" y2=\"48px\" /><svg width=\"46.1538%\" x=\"53.8462%\" y=\"48px\"><defs /><svg width=\"100%\" x=\"0\" y=\"0px\"><defs /><text text-anchor=\"middle\" x=\"50%\" y=\"16px\">NNS</text></svg><svg width=\"100%\" x=\"0%\" y=\"48px\"><defs /><svg width=\"100%\" x=\"0\" y=\"0px\"><defs /><text text-anchor=\"middle\" x=\"50%\" y=\"16px\">cats</text></svg></svg><line stroke=\"black\" x1=\"50%\" x2=\"50%\" y1=\"19.2px\" y2=\"48px\" /></svg><line stroke=\"black\" x1=\"50%\" x2=\"76.9231%\" y1=\"19.2px\" y2=\"48px\" /></svg><line stroke=\"black\" x1=\"50%\" x2=\"27.0833%\" y1=\"19.2px\" y2=\"48px\" /><svg width=\"20.8333%\" x=\"54.1667%\" y=\"48px\"><defs /><svg width=\"100%\" x=\"0\" y=\"0px\"><defs /><text text-anchor=\"middle\" x=\"50%\" y=\"16px\">CC</text></svg><svg width=\"100%\" x=\"0%\" y=\"48px\"><defs /><svg width=\"100%\" x=\"0\" y=\"0px\"><defs /><text text-anchor=\"middle\" x=\"50%\" y=\"16px\">and</text></svg></svg><line stroke=\"black\" x1=\"50%\" x2=\"50%\" y1=\"19.2px\" y2=\"48px\" /></svg><line stroke=\"black\" x1=\"50%\" x2=\"64.5833%\" y1=\"19.2px\" y2=\"48px\" /><svg width=\"25%\" x=\"75%\" y=\"48px\"><defs /><svg width=\"100%\" x=\"0\" y=\"0px\"><defs /><text text-anchor=\"middle\" x=\"50%\" y=\"16px\">NP</text></svg><svg width=\"100%\" x=\"0%\" y=\"48px\"><defs /><svg width=\"100%\" x=\"0\" y=\"0px\"><defs /><text text-anchor=\"middle\" x=\"50%\" y=\"16px\">NNS</text></svg><svg width=\"100%\" x=\"0%\" y=\"48px\"><defs /><svg width=\"100%\" x=\"0\" y=\"0px\"><defs /><text text-anchor=\"middle\" x=\"50%\" y=\"16px\">mice</text></svg></svg><line stroke=\"black\" x1=\"50%\" x2=\"50%\" y1=\"19.2px\" y2=\"48px\" /></svg><line stroke=\"black\" x1=\"50%\" x2=\"50%\" y1=\"19.2px\" y2=\"48px\" /></svg><line stroke=\"black\" x1=\"50%\" x2=\"87.5%\" y1=\"19.2px\" y2=\"48px\" /></svg>"
          },
          "metadata": {},
          "execution_count": 151
        }
      ]
    },
    {
      "cell_type": "code",
      "source": [
        "CFGParse.parse(s3, 'left', 1, True)"
      ],
      "metadata": {
        "colab": {
          "base_uri": "https://localhost:8080/",
          "height": 1000
        },
        "id": "AMW_yPTuWL-h",
        "outputId": "da6ab4ba-37f0-41b0-dc0c-90e3e1af3edd"
      },
      "execution_count": 152,
      "outputs": [
        {
          "output_type": "stream",
          "name": "stdout",
          "text": [
            "---------- Using left\n",
            "\n",
            "Part of Speech of the sentence:  [('small', 'JJ'), ('cats', 'NNS'), ('and', 'CC'), ('mice', 'NN')]\n",
            "\n",
            "-- Parse\n",
            "|.  small  .   cats  .   and   .   mice  .|\n",
            "|[---------]         .         .         .| [0:1] 'small'\n",
            "|.         [---------]         .         .| [1:2] 'cats'\n",
            "|.         .         [---------]         .| [2:3] 'and'\n",
            "|.         .         .         [---------]| [3:4] 'mice'\n",
            "|[---------]         .         .         .| [0:1] JJ -> 'small' *\n",
            "|[--------->         .         .         .| [0:1] NP -> JJ * NNS\n",
            "|.         [---------]         .         .| [1:2] NNS -> 'cats' *\n",
            "|.         [---------]         .         .| [1:2] NP -> NNS *\n",
            "|.         [--------->         .         .| [1:2] NNS -> NNS * CC NNS\n",
            "|[-------------------]         .         .| [0:2] NP -> JJ NNS *\n",
            "|[------------------->         .         .| [0:2] NP -> NP * CC NP\n",
            "|.         [--------->         .         .| [1:2] NP -> NP * CC NP\n",
            "|.         .         [---------]         .| [2:3] CC -> 'and' *\n",
            "|.         [------------------->         .| [1:3] NNS -> NNS CC * NNS\n",
            "|[----------------------------->         .| [0:3] NP -> NP CC * NP\n",
            "|.         [------------------->         .| [1:3] NP -> NP CC * NP\n",
            "|.         .         .         [---------]| [3:4] NNS -> 'mice' *\n",
            "|.         .         .         [---------]| [3:4] NP -> NNS *\n",
            "|.         [-----------------------------]| [1:4] NNS -> NNS CC NNS *\n",
            "|.         [-----------------------------]| [1:4] NP -> NNS *\n",
            "|[=======================================]| [0:4] NP -> JJ NNS *\n",
            "|[=======================================]| [0:4] NP -> NP CC NP *\n",
            "|.         [-----------------------------]| [1:4] NP -> NP CC NP *\n",
            "\n",
            "--Number of edges: 28\n",
            "\n",
            "-- Explored edges:\n",
            " [[Edge: [0:1] 'small'] [Edge: [1:2] 'cats'] [Edge: [2:3] 'and']\n",
            " [Edge: [3:4] 'mice'] [Edge: [0:1] JJ -> 'small' *]\n",
            " [Edge: [0:1] NP -> JJ * NNS] [Edge: [1:2] NNS -> 'cats' *]\n",
            " [Edge: [1:2] NP -> NNS *] [Edge: [1:2] NNS -> NNS * CC NNS]\n",
            " [Edge: [0:2] NP -> JJ NNS *] [Edge: [0:2] NP -> NP * CC NP]\n",
            " [Edge: [1:2] NP -> NP * CC NP] [Edge: [2:3] CC -> 'and' *]\n",
            " [Edge: [1:3] NNS -> NNS CC * NNS] [Edge: [0:3] NP -> NP CC * NP]\n",
            " [Edge: [1:3] NP -> NP CC * NP] [Edge: [3:4] NNS -> 'mice' *]\n",
            " [Edge: [3:4] NP -> NNS *] [Edge: [3:4] NNS -> NNS * CC NNS]\n",
            " [Edge: [1:4] NNS -> NNS CC NNS *] [Edge: [1:4] NP -> NNS *]\n",
            " [Edge: [1:4] NNS -> NNS * CC NNS] [Edge: [0:4] NP -> JJ NNS *]\n",
            " [Edge: [0:4] NP -> NP * CC NP] [Edge: [1:4] NP -> NP * CC NP]\n",
            " [Edge: [3:4] NP -> NP * CC NP] [Edge: [0:4] NP -> NP CC NP *]\n",
            " [Edge: [1:4] NP -> NP CC NP *]]\n",
            "\n",
            "--Number of trees:\n",
            " 2\n",
            "\n",
            "--Trees:\n",
            "---Tree 0:  (NP (JJ small) (NNS (NNS cats) (CC and) (NNS mice)))\n",
            "---Tree 1:  (NP (NP (JJ small) (NNS cats)) (CC and) (NP (NNS mice)))\n",
            "\n",
            "\n"
          ]
        },
        {
          "output_type": "execute_result",
          "data": {
            "text/plain": [
              "Tree('NP', [Tree('NP', [Tree('JJ', ['small']), Tree('NNS', ['cats'])]), Tree('CC', ['and']), Tree('NP', [Tree('NNS', ['mice'])])])"
            ],
            "image/svg+xml": "<svg baseProfile=\"full\" height=\"168px\" preserveAspectRatio=\"xMidYMid meet\" style=\"font-family: times, serif; font-weight: normal; font-style: normal; font-size: 16px;\" version=\"1.1\" viewBox=\"0,0,192.0,168.0\" width=\"192px\" xmlns=\"http://www.w3.org/2000/svg\" xmlns:ev=\"http://www.w3.org/2001/xml-events\" xmlns:xlink=\"http://www.w3.org/1999/xlink\"><defs /><svg width=\"100%\" x=\"0\" y=\"0px\"><defs /><text text-anchor=\"middle\" x=\"50%\" y=\"16px\">NP</text></svg><svg width=\"54.1667%\" x=\"0%\" y=\"48px\"><defs /><svg width=\"100%\" x=\"0\" y=\"0px\"><defs /><text text-anchor=\"middle\" x=\"50%\" y=\"16px\">NP</text></svg><svg width=\"53.8462%\" x=\"0%\" y=\"48px\"><defs /><svg width=\"100%\" x=\"0\" y=\"0px\"><defs /><text text-anchor=\"middle\" x=\"50%\" y=\"16px\">JJ</text></svg><svg width=\"100%\" x=\"0%\" y=\"48px\"><defs /><svg width=\"100%\" x=\"0\" y=\"0px\"><defs /><text text-anchor=\"middle\" x=\"50%\" y=\"16px\">small</text></svg></svg><line stroke=\"black\" x1=\"50%\" x2=\"50%\" y1=\"19.2px\" y2=\"48px\" /></svg><line stroke=\"black\" x1=\"50%\" x2=\"26.9231%\" y1=\"19.2px\" y2=\"48px\" /><svg width=\"46.1538%\" x=\"53.8462%\" y=\"48px\"><defs /><svg width=\"100%\" x=\"0\" y=\"0px\"><defs /><text text-anchor=\"middle\" x=\"50%\" y=\"16px\">NNS</text></svg><svg width=\"100%\" x=\"0%\" y=\"48px\"><defs /><svg width=\"100%\" x=\"0\" y=\"0px\"><defs /><text text-anchor=\"middle\" x=\"50%\" y=\"16px\">cats</text></svg></svg><line stroke=\"black\" x1=\"50%\" x2=\"50%\" y1=\"19.2px\" y2=\"48px\" /></svg><line stroke=\"black\" x1=\"50%\" x2=\"76.9231%\" y1=\"19.2px\" y2=\"48px\" /></svg><line stroke=\"black\" x1=\"50%\" x2=\"27.0833%\" y1=\"19.2px\" y2=\"48px\" /><svg width=\"20.8333%\" x=\"54.1667%\" y=\"48px\"><defs /><svg width=\"100%\" x=\"0\" y=\"0px\"><defs /><text text-anchor=\"middle\" x=\"50%\" y=\"16px\">CC</text></svg><svg width=\"100%\" x=\"0%\" y=\"48px\"><defs /><svg width=\"100%\" x=\"0\" y=\"0px\"><defs /><text text-anchor=\"middle\" x=\"50%\" y=\"16px\">and</text></svg></svg><line stroke=\"black\" x1=\"50%\" x2=\"50%\" y1=\"19.2px\" y2=\"48px\" /></svg><line stroke=\"black\" x1=\"50%\" x2=\"64.5833%\" y1=\"19.2px\" y2=\"48px\" /><svg width=\"25%\" x=\"75%\" y=\"48px\"><defs /><svg width=\"100%\" x=\"0\" y=\"0px\"><defs /><text text-anchor=\"middle\" x=\"50%\" y=\"16px\">NP</text></svg><svg width=\"100%\" x=\"0%\" y=\"48px\"><defs /><svg width=\"100%\" x=\"0\" y=\"0px\"><defs /><text text-anchor=\"middle\" x=\"50%\" y=\"16px\">NNS</text></svg><svg width=\"100%\" x=\"0%\" y=\"48px\"><defs /><svg width=\"100%\" x=\"0\" y=\"0px\"><defs /><text text-anchor=\"middle\" x=\"50%\" y=\"16px\">mice</text></svg></svg><line stroke=\"black\" x1=\"50%\" x2=\"50%\" y1=\"19.2px\" y2=\"48px\" /></svg><line stroke=\"black\" x1=\"50%\" x2=\"50%\" y1=\"19.2px\" y2=\"48px\" /></svg><line stroke=\"black\" x1=\"50%\" x2=\"87.5%\" y1=\"19.2px\" y2=\"48px\" /></svg>"
          },
          "metadata": {},
          "execution_count": 152
        }
      ]
    },
    {
      "cell_type": "code",
      "source": [
        "CFGParse.parse(s3, 'bottomUp', 1, True)"
      ],
      "metadata": {
        "colab": {
          "base_uri": "https://localhost:8080/",
          "height": 1000
        },
        "id": "qWBLYV3_WUuM",
        "outputId": "f4a40fda-0527-4b11-a520-8241c5303f81"
      },
      "execution_count": 153,
      "outputs": [
        {
          "output_type": "stream",
          "name": "stdout",
          "text": [
            "---------- Using bottomUp\n",
            "\n",
            "Part of Speech of the sentence:  [('small', 'JJ'), ('cats', 'NNS'), ('and', 'CC'), ('mice', 'NN')]\n",
            "\n",
            "-- Parse\n",
            "|.  small  .   cats  .   and   .   mice  .|\n",
            "|[---------]         .         .         .| [0:1] 'small'\n",
            "|.         [---------]         .         .| [1:2] 'cats'\n",
            "|.         .         [---------]         .| [2:3] 'and'\n",
            "|.         .         .         [---------]| [3:4] 'mice'\n",
            "|>         .         .         .         .| [0:0] JJ -> * 'small'\n",
            "|[---------]         .         .         .| [0:1] JJ -> 'small' *\n",
            "|>         .         .         .         .| [0:0] NP -> * JJ NNS\n",
            "|[--------->         .         .         .| [0:1] NP -> JJ * NNS\n",
            "|.         >         .         .         .| [1:1] NNS -> * 'cats'\n",
            "|.         [---------]         .         .| [1:2] NNS -> 'cats' *\n",
            "|.         >         .         .         .| [1:1] NP -> * NNS\n",
            "|.         >         .         .         .| [1:1] NNS -> * NNS CC NNS\n",
            "|[-------------------]         .         .| [0:2] NP -> JJ NNS *\n",
            "|.         [---------]         .         .| [1:2] NP -> NNS *\n",
            "|.         [--------->         .         .| [1:2] NNS -> NNS * CC NNS\n",
            "|.         >         .         .         .| [1:1] NP -> * NP CC NP\n",
            "|.         [--------->         .         .| [1:2] NP -> NP * CC NP\n",
            "|>         .         .         .         .| [0:0] NP -> * NP CC NP\n",
            "|[------------------->         .         .| [0:2] NP -> NP * CC NP\n",
            "|.         .         >         .         .| [2:2] CC -> * 'and'\n",
            "|.         .         [---------]         .| [2:3] CC -> 'and' *\n",
            "|.         [------------------->         .| [1:3] NNS -> NNS CC * NNS\n",
            "|.         [------------------->         .| [1:3] NP -> NP CC * NP\n",
            "|[----------------------------->         .| [0:3] NP -> NP CC * NP\n",
            "|.         .         .         >         .| [3:3] NNS -> * 'mice'\n",
            "|.         .         .         [---------]| [3:4] NNS -> 'mice' *\n",
            "|.         .         .         >         .| [3:3] NP -> * NNS\n",
            "|.         .         .         >         .| [3:3] NNS -> * NNS CC NNS\n",
            "|.         [-----------------------------]| [1:4] NNS -> NNS CC NNS *\n",
            "|.         .         .         [---------]| [3:4] NP -> NNS *\n",
            "|.         .         .         [--------->| [3:4] NNS -> NNS * CC NNS\n",
            "|.         .         .         >         .| [3:3] NP -> * NP CC NP\n",
            "|.         [-----------------------------]| [1:4] NP -> NP CC NP *\n",
            "|[=======================================]| [0:4] NP -> NP CC NP *\n",
            "|.         .         .         [--------->| [3:4] NP -> NP * CC NP\n",
            "|[--------------------------------------->| [0:4] NP -> NP * CC NP\n",
            "|.         [----------------------------->| [1:4] NP -> NP * CC NP\n",
            "|[=======================================]| [0:4] NP -> JJ NNS *\n",
            "|.         [-----------------------------]| [1:4] NP -> NNS *\n",
            "|.         [----------------------------->| [1:4] NNS -> NNS * CC NNS\n",
            "|.         [----------------------------->| [1:4] NP -> NP * CC NP\n",
            "|[--------------------------------------->| [0:4] NP -> NP * CC NP\n",
            "\n",
            "--Number of edges: 28\n",
            "\n",
            "-- Explored edges:\n",
            " [[Edge: [0:1] 'small'] [Edge: [1:2] 'cats'] [Edge: [2:3] 'and']\n",
            " [Edge: [3:4] 'mice'] [Edge: [0:1] JJ -> 'small' *]\n",
            " [Edge: [0:1] NP -> JJ * NNS] [Edge: [1:2] NNS -> 'cats' *]\n",
            " [Edge: [1:2] NP -> NNS *] [Edge: [1:2] NNS -> NNS * CC NNS]\n",
            " [Edge: [0:2] NP -> JJ NNS *] [Edge: [0:2] NP -> NP * CC NP]\n",
            " [Edge: [1:2] NP -> NP * CC NP] [Edge: [2:3] CC -> 'and' *]\n",
            " [Edge: [1:3] NNS -> NNS CC * NNS] [Edge: [0:3] NP -> NP CC * NP]\n",
            " [Edge: [1:3] NP -> NP CC * NP] [Edge: [3:4] NNS -> 'mice' *]\n",
            " [Edge: [3:4] NP -> NNS *] [Edge: [3:4] NNS -> NNS * CC NNS]\n",
            " [Edge: [1:4] NNS -> NNS CC NNS *] [Edge: [1:4] NP -> NNS *]\n",
            " [Edge: [1:4] NNS -> NNS * CC NNS] [Edge: [0:4] NP -> JJ NNS *]\n",
            " [Edge: [0:4] NP -> NP * CC NP] [Edge: [1:4] NP -> NP * CC NP]\n",
            " [Edge: [3:4] NP -> NP * CC NP] [Edge: [0:4] NP -> NP CC NP *]\n",
            " [Edge: [1:4] NP -> NP CC NP *]]\n",
            "\n",
            "--Number of trees:\n",
            " 2\n",
            "\n",
            "--Trees:\n",
            "---Tree 0:  (NP (NP (JJ small) (NNS cats)) (CC and) (NP (NNS mice)))\n",
            "---Tree 1:  (NP (JJ small) (NNS (NNS cats) (CC and) (NNS mice)))\n",
            "\n",
            "\n"
          ]
        },
        {
          "output_type": "execute_result",
          "data": {
            "text/plain": [
              "Tree('NP', [Tree('JJ', ['small']), Tree('NNS', [Tree('NNS', ['cats']), Tree('CC', ['and']), Tree('NNS', ['mice'])])])"
            ],
            "image/svg+xml": "<svg baseProfile=\"full\" height=\"168px\" preserveAspectRatio=\"xMidYMid meet\" style=\"font-family: times, serif; font-weight: normal; font-style: normal; font-size: 16px;\" version=\"1.1\" viewBox=\"0,0,192.0,168.0\" width=\"192px\" xmlns=\"http://www.w3.org/2000/svg\" xmlns:ev=\"http://www.w3.org/2001/xml-events\" xmlns:xlink=\"http://www.w3.org/1999/xlink\"><defs /><svg width=\"100%\" x=\"0\" y=\"0px\"><defs /><text text-anchor=\"middle\" x=\"50%\" y=\"16px\">NP</text></svg><svg width=\"29.1667%\" x=\"0%\" y=\"48px\"><defs /><svg width=\"100%\" x=\"0\" y=\"0px\"><defs /><text text-anchor=\"middle\" x=\"50%\" y=\"16px\">JJ</text></svg><svg width=\"100%\" x=\"0%\" y=\"48px\"><defs /><svg width=\"100%\" x=\"0\" y=\"0px\"><defs /><text text-anchor=\"middle\" x=\"50%\" y=\"16px\">small</text></svg></svg><line stroke=\"black\" x1=\"50%\" x2=\"50%\" y1=\"19.2px\" y2=\"48px\" /></svg><line stroke=\"black\" x1=\"50%\" x2=\"14.5833%\" y1=\"19.2px\" y2=\"48px\" /><svg width=\"70.8333%\" x=\"29.1667%\" y=\"48px\"><defs /><svg width=\"100%\" x=\"0\" y=\"0px\"><defs /><text text-anchor=\"middle\" x=\"50%\" y=\"16px\">NNS</text></svg><svg width=\"35.2941%\" x=\"0%\" y=\"48px\"><defs /><svg width=\"100%\" x=\"0\" y=\"0px\"><defs /><text text-anchor=\"middle\" x=\"50%\" y=\"16px\">NNS</text></svg><svg width=\"100%\" x=\"0%\" y=\"48px\"><defs /><svg width=\"100%\" x=\"0\" y=\"0px\"><defs /><text text-anchor=\"middle\" x=\"50%\" y=\"16px\">cats</text></svg></svg><line stroke=\"black\" x1=\"50%\" x2=\"50%\" y1=\"19.2px\" y2=\"48px\" /></svg><line stroke=\"black\" x1=\"50%\" x2=\"17.6471%\" y1=\"19.2px\" y2=\"48px\" /><svg width=\"29.4118%\" x=\"35.2941%\" y=\"48px\"><defs /><svg width=\"100%\" x=\"0\" y=\"0px\"><defs /><text text-anchor=\"middle\" x=\"50%\" y=\"16px\">CC</text></svg><svg width=\"100%\" x=\"0%\" y=\"48px\"><defs /><svg width=\"100%\" x=\"0\" y=\"0px\"><defs /><text text-anchor=\"middle\" x=\"50%\" y=\"16px\">and</text></svg></svg><line stroke=\"black\" x1=\"50%\" x2=\"50%\" y1=\"19.2px\" y2=\"48px\" /></svg><line stroke=\"black\" x1=\"50%\" x2=\"50%\" y1=\"19.2px\" y2=\"48px\" /><svg width=\"35.2941%\" x=\"64.7059%\" y=\"48px\"><defs /><svg width=\"100%\" x=\"0\" y=\"0px\"><defs /><text text-anchor=\"middle\" x=\"50%\" y=\"16px\">NNS</text></svg><svg width=\"100%\" x=\"0%\" y=\"48px\"><defs /><svg width=\"100%\" x=\"0\" y=\"0px\"><defs /><text text-anchor=\"middle\" x=\"50%\" y=\"16px\">mice</text></svg></svg><line stroke=\"black\" x1=\"50%\" x2=\"50%\" y1=\"19.2px\" y2=\"48px\" /></svg><line stroke=\"black\" x1=\"50%\" x2=\"82.3529%\" y1=\"19.2px\" y2=\"48px\" /></svg><line stroke=\"black\" x1=\"50%\" x2=\"64.5833%\" y1=\"19.2px\" y2=\"48px\" /></svg>"
          },
          "metadata": {},
          "execution_count": 153
        }
      ]
    },
    {
      "cell_type": "code",
      "source": [
        "CFGParse.parse(s3, 'bottomUpLeft', 1, True)"
      ],
      "metadata": {
        "colab": {
          "base_uri": "https://localhost:8080/",
          "height": 1000
        },
        "id": "eZ7IMUgZWhWq",
        "outputId": "db35b72c-f55b-403a-fa74-167284091a8c"
      },
      "execution_count": 154,
      "outputs": [
        {
          "output_type": "stream",
          "name": "stdout",
          "text": [
            "---------- Using bottomUpLeft\n",
            "\n",
            "Part of Speech of the sentence:  [('small', 'JJ'), ('cats', 'NNS'), ('and', 'CC'), ('mice', 'NN')]\n",
            "\n",
            "-- Parse\n",
            "|.  small  .   cats  .   and   .   mice  .|\n",
            "|[---------]         .         .         .| [0:1] 'small'\n",
            "|.         [---------]         .         .| [1:2] 'cats'\n",
            "|.         .         [---------]         .| [2:3] 'and'\n",
            "|.         .         .         [---------]| [3:4] 'mice'\n",
            "|[---------]         .         .         .| [0:1] JJ -> 'small' *\n",
            "|[--------->         .         .         .| [0:1] NP -> JJ * NNS\n",
            "|.         [---------]         .         .| [1:2] NNS -> 'cats' *\n",
            "|.         [---------]         .         .| [1:2] NP -> NNS *\n",
            "|.         [--------->         .         .| [1:2] NNS -> NNS * CC NNS\n",
            "|[-------------------]         .         .| [0:2] NP -> JJ NNS *\n",
            "|[------------------->         .         .| [0:2] NP -> NP * CC NP\n",
            "|.         [--------->         .         .| [1:2] NP -> NP * CC NP\n",
            "|.         .         [---------]         .| [2:3] CC -> 'and' *\n",
            "|.         [------------------->         .| [1:3] NNS -> NNS CC * NNS\n",
            "|[----------------------------->         .| [0:3] NP -> NP CC * NP\n",
            "|.         [------------------->         .| [1:3] NP -> NP CC * NP\n",
            "|.         .         .         [---------]| [3:4] NNS -> 'mice' *\n",
            "|.         .         .         [---------]| [3:4] NP -> NNS *\n",
            "|.         .         .         [--------->| [3:4] NNS -> NNS * CC NNS\n",
            "|.         [-----------------------------]| [1:4] NNS -> NNS CC NNS *\n",
            "|.         [-----------------------------]| [1:4] NP -> NNS *\n",
            "|.         [----------------------------->| [1:4] NNS -> NNS * CC NNS\n",
            "|[=======================================]| [0:4] NP -> JJ NNS *\n",
            "|[--------------------------------------->| [0:4] NP -> NP * CC NP\n",
            "|.         [----------------------------->| [1:4] NP -> NP * CC NP\n",
            "|.         .         .         [--------->| [3:4] NP -> NP * CC NP\n",
            "|[=======================================]| [0:4] NP -> NP CC NP *\n",
            "|.         [-----------------------------]| [1:4] NP -> NP CC NP *\n",
            "|.         [----------------------------->| [1:4] NP -> NP * CC NP\n",
            "|[--------------------------------------->| [0:4] NP -> NP * CC NP\n",
            "\n",
            "--Number of edges: 28\n",
            "\n",
            "-- Explored edges:\n",
            " [[Edge: [0:1] 'small'] [Edge: [1:2] 'cats'] [Edge: [2:3] 'and']\n",
            " [Edge: [3:4] 'mice'] [Edge: [0:1] JJ -> 'small' *]\n",
            " [Edge: [0:1] NP -> JJ * NNS] [Edge: [1:2] NNS -> 'cats' *]\n",
            " [Edge: [1:2] NP -> NNS *] [Edge: [1:2] NNS -> NNS * CC NNS]\n",
            " [Edge: [0:2] NP -> JJ NNS *] [Edge: [0:2] NP -> NP * CC NP]\n",
            " [Edge: [1:2] NP -> NP * CC NP] [Edge: [2:3] CC -> 'and' *]\n",
            " [Edge: [1:3] NNS -> NNS CC * NNS] [Edge: [0:3] NP -> NP CC * NP]\n",
            " [Edge: [1:3] NP -> NP CC * NP] [Edge: [3:4] NNS -> 'mice' *]\n",
            " [Edge: [3:4] NP -> NNS *] [Edge: [3:4] NNS -> NNS * CC NNS]\n",
            " [Edge: [1:4] NNS -> NNS CC NNS *] [Edge: [1:4] NP -> NNS *]\n",
            " [Edge: [1:4] NNS -> NNS * CC NNS] [Edge: [0:4] NP -> JJ NNS *]\n",
            " [Edge: [0:4] NP -> NP * CC NP] [Edge: [1:4] NP -> NP * CC NP]\n",
            " [Edge: [3:4] NP -> NP * CC NP] [Edge: [0:4] NP -> NP CC NP *]\n",
            " [Edge: [1:4] NP -> NP CC NP *]]\n",
            "\n",
            "--Number of trees:\n",
            " 2\n",
            "\n",
            "--Trees:\n",
            "---Tree 0:  (NP (JJ small) (NNS (NNS cats) (CC and) (NNS mice)))\n",
            "---Tree 1:  (NP (NP (JJ small) (NNS cats)) (CC and) (NP (NNS mice)))\n",
            "\n",
            "\n"
          ]
        },
        {
          "output_type": "execute_result",
          "data": {
            "text/plain": [
              "Tree('NP', [Tree('NP', [Tree('JJ', ['small']), Tree('NNS', ['cats'])]), Tree('CC', ['and']), Tree('NP', [Tree('NNS', ['mice'])])])"
            ],
            "image/svg+xml": "<svg baseProfile=\"full\" height=\"168px\" preserveAspectRatio=\"xMidYMid meet\" style=\"font-family: times, serif; font-weight: normal; font-style: normal; font-size: 16px;\" version=\"1.1\" viewBox=\"0,0,192.0,168.0\" width=\"192px\" xmlns=\"http://www.w3.org/2000/svg\" xmlns:ev=\"http://www.w3.org/2001/xml-events\" xmlns:xlink=\"http://www.w3.org/1999/xlink\"><defs /><svg width=\"100%\" x=\"0\" y=\"0px\"><defs /><text text-anchor=\"middle\" x=\"50%\" y=\"16px\">NP</text></svg><svg width=\"54.1667%\" x=\"0%\" y=\"48px\"><defs /><svg width=\"100%\" x=\"0\" y=\"0px\"><defs /><text text-anchor=\"middle\" x=\"50%\" y=\"16px\">NP</text></svg><svg width=\"53.8462%\" x=\"0%\" y=\"48px\"><defs /><svg width=\"100%\" x=\"0\" y=\"0px\"><defs /><text text-anchor=\"middle\" x=\"50%\" y=\"16px\">JJ</text></svg><svg width=\"100%\" x=\"0%\" y=\"48px\"><defs /><svg width=\"100%\" x=\"0\" y=\"0px\"><defs /><text text-anchor=\"middle\" x=\"50%\" y=\"16px\">small</text></svg></svg><line stroke=\"black\" x1=\"50%\" x2=\"50%\" y1=\"19.2px\" y2=\"48px\" /></svg><line stroke=\"black\" x1=\"50%\" x2=\"26.9231%\" y1=\"19.2px\" y2=\"48px\" /><svg width=\"46.1538%\" x=\"53.8462%\" y=\"48px\"><defs /><svg width=\"100%\" x=\"0\" y=\"0px\"><defs /><text text-anchor=\"middle\" x=\"50%\" y=\"16px\">NNS</text></svg><svg width=\"100%\" x=\"0%\" y=\"48px\"><defs /><svg width=\"100%\" x=\"0\" y=\"0px\"><defs /><text text-anchor=\"middle\" x=\"50%\" y=\"16px\">cats</text></svg></svg><line stroke=\"black\" x1=\"50%\" x2=\"50%\" y1=\"19.2px\" y2=\"48px\" /></svg><line stroke=\"black\" x1=\"50%\" x2=\"76.9231%\" y1=\"19.2px\" y2=\"48px\" /></svg><line stroke=\"black\" x1=\"50%\" x2=\"27.0833%\" y1=\"19.2px\" y2=\"48px\" /><svg width=\"20.8333%\" x=\"54.1667%\" y=\"48px\"><defs /><svg width=\"100%\" x=\"0\" y=\"0px\"><defs /><text text-anchor=\"middle\" x=\"50%\" y=\"16px\">CC</text></svg><svg width=\"100%\" x=\"0%\" y=\"48px\"><defs /><svg width=\"100%\" x=\"0\" y=\"0px\"><defs /><text text-anchor=\"middle\" x=\"50%\" y=\"16px\">and</text></svg></svg><line stroke=\"black\" x1=\"50%\" x2=\"50%\" y1=\"19.2px\" y2=\"48px\" /></svg><line stroke=\"black\" x1=\"50%\" x2=\"64.5833%\" y1=\"19.2px\" y2=\"48px\" /><svg width=\"25%\" x=\"75%\" y=\"48px\"><defs /><svg width=\"100%\" x=\"0\" y=\"0px\"><defs /><text text-anchor=\"middle\" x=\"50%\" y=\"16px\">NP</text></svg><svg width=\"100%\" x=\"0%\" y=\"48px\"><defs /><svg width=\"100%\" x=\"0\" y=\"0px\"><defs /><text text-anchor=\"middle\" x=\"50%\" y=\"16px\">NNS</text></svg><svg width=\"100%\" x=\"0%\" y=\"48px\"><defs /><svg width=\"100%\" x=\"0\" y=\"0px\"><defs /><text text-anchor=\"middle\" x=\"50%\" y=\"16px\">mice</text></svg></svg><line stroke=\"black\" x1=\"50%\" x2=\"50%\" y1=\"19.2px\" y2=\"48px\" /></svg><line stroke=\"black\" x1=\"50%\" x2=\"50%\" y1=\"19.2px\" y2=\"48px\" /></svg><line stroke=\"black\" x1=\"50%\" x2=\"87.5%\" y1=\"19.2px\" y2=\"48px\" /></svg>"
          },
          "metadata": {},
          "execution_count": 154
        }
      ]
    },
    {
      "cell_type": "markdown",
      "source": [
        "##### Testing with grammar 2"
      ],
      "metadata": {
        "id": "PQjjSV4TVP50"
      }
    },
    {
      "cell_type": "code",
      "source": [
        "CFGParse = sentence_to_cfg_parsing(grammar2)"
      ],
      "metadata": {
        "id": "-SuM3JKeVJAv"
      },
      "execution_count": 155,
      "outputs": []
    },
    {
      "cell_type": "code",
      "source": [
        "CFGParse.parse(s3, 'chart', 0, True)"
      ],
      "metadata": {
        "colab": {
          "base_uri": "https://localhost:8080/",
          "height": 1000
        },
        "id": "COKIcX6lQiUA",
        "outputId": "ae026ab5-f1fd-41ad-d670-fbf5310009f9"
      },
      "execution_count": 156,
      "outputs": [
        {
          "output_type": "stream",
          "name": "stdout",
          "text": [
            "---------- Using chart\n",
            "\n",
            "Part of Speech of the sentence:  [('small', 'JJ'), ('cats', 'NNS'), ('and', 'CC'), ('mice', 'NN')]\n",
            "\n",
            "-- Parse\n",
            "|.  small  .   cats  .   and   .   mice  .|\n",
            "|[---------]         .         .         .| [0:1] 'small'\n",
            "|.         [---------]         .         .| [1:2] 'cats'\n",
            "|.         .         [---------]         .| [2:3] 'and'\n",
            "|.         .         .         [---------]| [3:4] 'mice'\n",
            "|[---------]         .         .         .| [0:1] JJ -> 'small' *\n",
            "|[--------->         .         .         .| [0:1] NP -> JJ * NNS\n",
            "|.         [---------]         .         .| [1:2] NNS -> 'cats' *\n",
            "|.         [---------]         .         .| [1:2] NP -> NNS *\n",
            "|.         [--------->         .         .| [1:2] NNS -> NNS * CC NNS\n",
            "|[-------------------]         .         .| [0:2] NP -> JJ NNS *\n",
            "|[------------------->         .         .| [0:2] S  -> NP * VB IN NP\n",
            "|[------------------->         .         .| [0:2] NP -> NP * CC NP\n",
            "|.         [--------->         .         .| [1:2] S  -> NP * VB IN NP\n",
            "|.         [--------->         .         .| [1:2] NP -> NP * CC NP\n",
            "|.         .         [---------]         .| [2:3] CC -> 'and' *\n",
            "|.         [------------------->         .| [1:3] NNS -> NNS CC * NNS\n",
            "|[----------------------------->         .| [0:3] NP -> NP CC * NP\n",
            "|.         [------------------->         .| [1:3] NP -> NP CC * NP\n",
            "|.         .         .         [---------]| [3:4] NNS -> 'mice' *\n",
            "|.         .         .         [---------]| [3:4] NP -> NNS *\n",
            "|.         .         .         [--------->| [3:4] NNS -> NNS * CC NNS\n",
            "|.         [-----------------------------]| [1:4] NNS -> NNS CC NNS *\n",
            "|.         [-----------------------------]| [1:4] NP -> NNS *\n",
            "|.         [----------------------------->| [1:4] NNS -> NNS * CC NNS\n",
            "|[=======================================]| [0:4] NP -> JJ NNS *\n",
            "|[--------------------------------------->| [0:4] S  -> NP * VB IN NP\n",
            "|[--------------------------------------->| [0:4] NP -> NP * CC NP\n",
            "|.         [----------------------------->| [1:4] S  -> NP * VB IN NP\n",
            "|.         [----------------------------->| [1:4] NP -> NP * CC NP\n",
            "|.         .         .         [--------->| [3:4] S  -> NP * VB IN NP\n",
            "|.         .         .         [--------->| [3:4] NP -> NP * CC NP\n",
            "|[=======================================]| [0:4] NP -> NP CC NP *\n",
            "|.         [-----------------------------]| [1:4] NP -> NP CC NP *\n",
            "|.         [----------------------------->| [1:4] S  -> NP * VB IN NP\n",
            "|.         [----------------------------->| [1:4] NP -> NP * CC NP\n",
            "|[--------------------------------------->| [0:4] S  -> NP * VB IN NP\n",
            "|[--------------------------------------->| [0:4] NP -> NP * CC NP\n",
            "\n",
            "--Number of edges: 28\n",
            "\n",
            "-- Explored edges:\n",
            " [[Edge: [0:1] 'small'] [Edge: [1:2] 'cats'] [Edge: [2:3] 'and']\n",
            " [Edge: [3:4] 'mice'] [Edge: [0:1] JJ -> 'small' *]\n",
            " [Edge: [0:1] NP -> JJ * NNS] [Edge: [1:2] NNS -> 'cats' *]\n",
            " [Edge: [1:2] NP -> NNS *] [Edge: [1:2] NNS -> NNS * CC NNS]\n",
            " [Edge: [0:2] NP -> JJ NNS *] [Edge: [0:2] NP -> NP * CC NP]\n",
            " [Edge: [1:2] NP -> NP * CC NP] [Edge: [2:3] CC -> 'and' *]\n",
            " [Edge: [1:3] NNS -> NNS CC * NNS] [Edge: [0:3] NP -> NP CC * NP]\n",
            " [Edge: [1:3] NP -> NP CC * NP] [Edge: [3:4] NNS -> 'mice' *]\n",
            " [Edge: [3:4] NP -> NNS *] [Edge: [3:4] NNS -> NNS * CC NNS]\n",
            " [Edge: [1:4] NNS -> NNS CC NNS *] [Edge: [1:4] NP -> NNS *]\n",
            " [Edge: [1:4] NNS -> NNS * CC NNS] [Edge: [0:4] NP -> JJ NNS *]\n",
            " [Edge: [0:4] NP -> NP * CC NP] [Edge: [1:4] NP -> NP * CC NP]\n",
            " [Edge: [3:4] NP -> NP * CC NP] [Edge: [0:4] NP -> NP CC NP *]\n",
            " [Edge: [1:4] NP -> NP CC NP *]]\n",
            "\n",
            "--Number of trees:\n",
            " 0\n",
            "\n",
            "--Trees:\n"
          ]
        },
        {
          "output_type": "execute_result",
          "data": {
            "text/plain": [
              "'No Trees Found!'"
            ],
            "application/vnd.google.colaboratory.intrinsic+json": {
              "type": "string"
            }
          },
          "metadata": {},
          "execution_count": 156
        }
      ]
    },
    {
      "cell_type": "code",
      "source": [
        "CFGParse.parse(s3, 'left', 0, True)"
      ],
      "metadata": {
        "colab": {
          "base_uri": "https://localhost:8080/",
          "height": 957
        },
        "id": "T8koXaqwXBmz",
        "outputId": "d0f24e0f-142a-46a3-8c74-ef298ec77d11"
      },
      "execution_count": 157,
      "outputs": [
        {
          "output_type": "stream",
          "name": "stdout",
          "text": [
            "---------- Using left\n",
            "\n",
            "Part of Speech of the sentence:  [('small', 'JJ'), ('cats', 'NNS'), ('and', 'CC'), ('mice', 'NN')]\n",
            "\n",
            "-- Parse\n",
            "|.  small  .   cats  .   and   .   mice  .|\n",
            "|[---------]         .         .         .| [0:1] 'small'\n",
            "|.         [---------]         .         .| [1:2] 'cats'\n",
            "|.         .         [---------]         .| [2:3] 'and'\n",
            "|.         .         .         [---------]| [3:4] 'mice'\n",
            "|[---------]         .         .         .| [0:1] JJ -> 'small' *\n",
            "|[--------->         .         .         .| [0:1] NP -> JJ * NNS\n",
            "|.         [---------]         .         .| [1:2] NNS -> 'cats' *\n",
            "|.         [---------]         .         .| [1:2] NP -> NNS *\n",
            "|.         [--------->         .         .| [1:2] NNS -> NNS * CC NNS\n",
            "|[-------------------]         .         .| [0:2] NP -> JJ NNS *\n",
            "|[------------------->         .         .| [0:2] NP -> NP * CC NP\n",
            "|.         [--------->         .         .| [1:2] NP -> NP * CC NP\n",
            "|.         .         [---------]         .| [2:3] CC -> 'and' *\n",
            "|.         [------------------->         .| [1:3] NNS -> NNS CC * NNS\n",
            "|[----------------------------->         .| [0:3] NP -> NP CC * NP\n",
            "|.         [------------------->         .| [1:3] NP -> NP CC * NP\n",
            "|.         .         .         [---------]| [3:4] NNS -> 'mice' *\n",
            "|.         .         .         [---------]| [3:4] NP -> NNS *\n",
            "|.         [-----------------------------]| [1:4] NNS -> NNS CC NNS *\n",
            "|.         [-----------------------------]| [1:4] NP -> NNS *\n",
            "|[=======================================]| [0:4] NP -> JJ NNS *\n",
            "|[=======================================]| [0:4] NP -> NP CC NP *\n",
            "|.         [-----------------------------]| [1:4] NP -> NP CC NP *\n",
            "\n",
            "--Number of edges: 28\n",
            "\n",
            "-- Explored edges:\n",
            " [[Edge: [0:1] 'small'] [Edge: [1:2] 'cats'] [Edge: [2:3] 'and']\n",
            " [Edge: [3:4] 'mice'] [Edge: [0:1] JJ -> 'small' *]\n",
            " [Edge: [0:1] NP -> JJ * NNS] [Edge: [1:2] NNS -> 'cats' *]\n",
            " [Edge: [1:2] NP -> NNS *] [Edge: [1:2] NNS -> NNS * CC NNS]\n",
            " [Edge: [0:2] NP -> JJ NNS *] [Edge: [0:2] NP -> NP * CC NP]\n",
            " [Edge: [1:2] NP -> NP * CC NP] [Edge: [2:3] CC -> 'and' *]\n",
            " [Edge: [1:3] NNS -> NNS CC * NNS] [Edge: [0:3] NP -> NP CC * NP]\n",
            " [Edge: [1:3] NP -> NP CC * NP] [Edge: [3:4] NNS -> 'mice' *]\n",
            " [Edge: [3:4] NP -> NNS *] [Edge: [3:4] NNS -> NNS * CC NNS]\n",
            " [Edge: [1:4] NNS -> NNS CC NNS *] [Edge: [1:4] NP -> NNS *]\n",
            " [Edge: [1:4] NNS -> NNS * CC NNS] [Edge: [0:4] NP -> JJ NNS *]\n",
            " [Edge: [0:4] NP -> NP * CC NP] [Edge: [1:4] NP -> NP * CC NP]\n",
            " [Edge: [3:4] NP -> NP * CC NP] [Edge: [0:4] NP -> NP CC NP *]\n",
            " [Edge: [1:4] NP -> NP CC NP *]]\n",
            "\n",
            "--Number of trees:\n",
            " 0\n",
            "\n",
            "--Trees:\n"
          ]
        },
        {
          "output_type": "execute_result",
          "data": {
            "text/plain": [
              "'No Trees Found!'"
            ],
            "application/vnd.google.colaboratory.intrinsic+json": {
              "type": "string"
            }
          },
          "metadata": {},
          "execution_count": 157
        }
      ]
    },
    {
      "cell_type": "code",
      "source": [
        "CFGParse.parse(s3, 'bottomUp', 0, True)"
      ],
      "metadata": {
        "colab": {
          "base_uri": "https://localhost:8080/",
          "height": 1000
        },
        "id": "axdXADQDXFwZ",
        "outputId": "9d9a5cd5-1691-4d6b-cb25-19d874fe6228"
      },
      "execution_count": 158,
      "outputs": [
        {
          "output_type": "stream",
          "name": "stdout",
          "text": [
            "---------- Using bottomUp\n",
            "\n",
            "Part of Speech of the sentence:  [('small', 'JJ'), ('cats', 'NNS'), ('and', 'CC'), ('mice', 'NN')]\n",
            "\n",
            "-- Parse\n",
            "|.  small  .   cats  .   and   .   mice  .|\n",
            "|[---------]         .         .         .| [0:1] 'small'\n",
            "|.         [---------]         .         .| [1:2] 'cats'\n",
            "|.         .         [---------]         .| [2:3] 'and'\n",
            "|.         .         .         [---------]| [3:4] 'mice'\n",
            "|>         .         .         .         .| [0:0] JJ -> * 'small'\n",
            "|[---------]         .         .         .| [0:1] JJ -> 'small' *\n",
            "|>         .         .         .         .| [0:0] NP -> * JJ NNS\n",
            "|[--------->         .         .         .| [0:1] NP -> JJ * NNS\n",
            "|.         >         .         .         .| [1:1] NNS -> * 'cats'\n",
            "|.         [---------]         .         .| [1:2] NNS -> 'cats' *\n",
            "|.         >         .         .         .| [1:1] NP -> * NNS\n",
            "|.         >         .         .         .| [1:1] NNS -> * NNS CC NNS\n",
            "|[-------------------]         .         .| [0:2] NP -> JJ NNS *\n",
            "|.         [---------]         .         .| [1:2] NP -> NNS *\n",
            "|.         [--------->         .         .| [1:2] NNS -> NNS * CC NNS\n",
            "|.         >         .         .         .| [1:1] S  -> * NP VB IN NP\n",
            "|.         >         .         .         .| [1:1] NP -> * NP CC NP\n",
            "|.         [--------->         .         .| [1:2] S  -> NP * VB IN NP\n",
            "|.         [--------->         .         .| [1:2] NP -> NP * CC NP\n",
            "|>         .         .         .         .| [0:0] S  -> * NP VB IN NP\n",
            "|>         .         .         .         .| [0:0] NP -> * NP CC NP\n",
            "|[------------------->         .         .| [0:2] S  -> NP * VB IN NP\n",
            "|[------------------->         .         .| [0:2] NP -> NP * CC NP\n",
            "|.         .         >         .         .| [2:2] CC -> * 'and'\n",
            "|.         .         [---------]         .| [2:3] CC -> 'and' *\n",
            "|.         [------------------->         .| [1:3] NNS -> NNS CC * NNS\n",
            "|.         [------------------->         .| [1:3] NP -> NP CC * NP\n",
            "|[----------------------------->         .| [0:3] NP -> NP CC * NP\n",
            "|.         .         .         >         .| [3:3] NNS -> * 'mice'\n",
            "|.         .         .         [---------]| [3:4] NNS -> 'mice' *\n",
            "|.         .         .         >         .| [3:3] NP -> * NNS\n",
            "|.         .         .         >         .| [3:3] NNS -> * NNS CC NNS\n",
            "|.         [-----------------------------]| [1:4] NNS -> NNS CC NNS *\n",
            "|.         .         .         [---------]| [3:4] NP -> NNS *\n",
            "|.         .         .         [--------->| [3:4] NNS -> NNS * CC NNS\n",
            "|.         .         .         >         .| [3:3] S  -> * NP VB IN NP\n",
            "|.         .         .         >         .| [3:3] NP -> * NP CC NP\n",
            "|.         [-----------------------------]| [1:4] NP -> NP CC NP *\n",
            "|[=======================================]| [0:4] NP -> NP CC NP *\n",
            "|.         .         .         [--------->| [3:4] S  -> NP * VB IN NP\n",
            "|.         .         .         [--------->| [3:4] NP -> NP * CC NP\n",
            "|[--------------------------------------->| [0:4] S  -> NP * VB IN NP\n",
            "|[--------------------------------------->| [0:4] NP -> NP * CC NP\n",
            "|.         [----------------------------->| [1:4] S  -> NP * VB IN NP\n",
            "|.         [----------------------------->| [1:4] NP -> NP * CC NP\n",
            "|[=======================================]| [0:4] NP -> JJ NNS *\n",
            "|.         [-----------------------------]| [1:4] NP -> NNS *\n",
            "|.         [----------------------------->| [1:4] NNS -> NNS * CC NNS\n",
            "|.         [----------------------------->| [1:4] S  -> NP * VB IN NP\n",
            "|.         [----------------------------->| [1:4] NP -> NP * CC NP\n",
            "|[--------------------------------------->| [0:4] S  -> NP * VB IN NP\n",
            "|[--------------------------------------->| [0:4] NP -> NP * CC NP\n",
            "\n",
            "--Number of edges: 28\n",
            "\n",
            "-- Explored edges:\n",
            " [[Edge: [0:1] 'small'] [Edge: [1:2] 'cats'] [Edge: [2:3] 'and']\n",
            " [Edge: [3:4] 'mice'] [Edge: [0:1] JJ -> 'small' *]\n",
            " [Edge: [0:1] NP -> JJ * NNS] [Edge: [1:2] NNS -> 'cats' *]\n",
            " [Edge: [1:2] NP -> NNS *] [Edge: [1:2] NNS -> NNS * CC NNS]\n",
            " [Edge: [0:2] NP -> JJ NNS *] [Edge: [0:2] NP -> NP * CC NP]\n",
            " [Edge: [1:2] NP -> NP * CC NP] [Edge: [2:3] CC -> 'and' *]\n",
            " [Edge: [1:3] NNS -> NNS CC * NNS] [Edge: [0:3] NP -> NP CC * NP]\n",
            " [Edge: [1:3] NP -> NP CC * NP] [Edge: [3:4] NNS -> 'mice' *]\n",
            " [Edge: [3:4] NP -> NNS *] [Edge: [3:4] NNS -> NNS * CC NNS]\n",
            " [Edge: [1:4] NNS -> NNS CC NNS *] [Edge: [1:4] NP -> NNS *]\n",
            " [Edge: [1:4] NNS -> NNS * CC NNS] [Edge: [0:4] NP -> JJ NNS *]\n",
            " [Edge: [0:4] NP -> NP * CC NP] [Edge: [1:4] NP -> NP * CC NP]\n",
            " [Edge: [3:4] NP -> NP * CC NP] [Edge: [0:4] NP -> NP CC NP *]\n",
            " [Edge: [1:4] NP -> NP CC NP *]]\n",
            "\n",
            "--Number of trees:\n",
            " 0\n",
            "\n",
            "--Trees:\n"
          ]
        },
        {
          "output_type": "execute_result",
          "data": {
            "text/plain": [
              "'No Trees Found!'"
            ],
            "application/vnd.google.colaboratory.intrinsic+json": {
              "type": "string"
            }
          },
          "metadata": {},
          "execution_count": 158
        }
      ]
    },
    {
      "cell_type": "code",
      "source": [
        "CFGParse.parse(s3, 'bottomUpLeft', 0, True)"
      ],
      "metadata": {
        "colab": {
          "base_uri": "https://localhost:8080/",
          "height": 1000
        },
        "id": "15shl1u9XFlc",
        "outputId": "1047002a-fd8e-48fb-af7f-6646a73d3d34"
      },
      "execution_count": 159,
      "outputs": [
        {
          "output_type": "stream",
          "name": "stdout",
          "text": [
            "---------- Using bottomUpLeft\n",
            "\n",
            "Part of Speech of the sentence:  [('small', 'JJ'), ('cats', 'NNS'), ('and', 'CC'), ('mice', 'NN')]\n",
            "\n",
            "-- Parse\n",
            "|.  small  .   cats  .   and   .   mice  .|\n",
            "|[---------]         .         .         .| [0:1] 'small'\n",
            "|.         [---------]         .         .| [1:2] 'cats'\n",
            "|.         .         [---------]         .| [2:3] 'and'\n",
            "|.         .         .         [---------]| [3:4] 'mice'\n",
            "|[---------]         .         .         .| [0:1] JJ -> 'small' *\n",
            "|[--------->         .         .         .| [0:1] NP -> JJ * NNS\n",
            "|.         [---------]         .         .| [1:2] NNS -> 'cats' *\n",
            "|.         [---------]         .         .| [1:2] NP -> NNS *\n",
            "|.         [--------->         .         .| [1:2] NNS -> NNS * CC NNS\n",
            "|[-------------------]         .         .| [0:2] NP -> JJ NNS *\n",
            "|[------------------->         .         .| [0:2] S  -> NP * VB IN NP\n",
            "|[------------------->         .         .| [0:2] NP -> NP * CC NP\n",
            "|.         [--------->         .         .| [1:2] S  -> NP * VB IN NP\n",
            "|.         [--------->         .         .| [1:2] NP -> NP * CC NP\n",
            "|.         .         [---------]         .| [2:3] CC -> 'and' *\n",
            "|.         [------------------->         .| [1:3] NNS -> NNS CC * NNS\n",
            "|[----------------------------->         .| [0:3] NP -> NP CC * NP\n",
            "|.         [------------------->         .| [1:3] NP -> NP CC * NP\n",
            "|.         .         .         [---------]| [3:4] NNS -> 'mice' *\n",
            "|.         .         .         [---------]| [3:4] NP -> NNS *\n",
            "|.         .         .         [--------->| [3:4] NNS -> NNS * CC NNS\n",
            "|.         [-----------------------------]| [1:4] NNS -> NNS CC NNS *\n",
            "|.         [-----------------------------]| [1:4] NP -> NNS *\n",
            "|.         [----------------------------->| [1:4] NNS -> NNS * CC NNS\n",
            "|[=======================================]| [0:4] NP -> JJ NNS *\n",
            "|[--------------------------------------->| [0:4] S  -> NP * VB IN NP\n",
            "|[--------------------------------------->| [0:4] NP -> NP * CC NP\n",
            "|.         [----------------------------->| [1:4] S  -> NP * VB IN NP\n",
            "|.         [----------------------------->| [1:4] NP -> NP * CC NP\n",
            "|.         .         .         [--------->| [3:4] S  -> NP * VB IN NP\n",
            "|.         .         .         [--------->| [3:4] NP -> NP * CC NP\n",
            "|[=======================================]| [0:4] NP -> NP CC NP *\n",
            "|.         [-----------------------------]| [1:4] NP -> NP CC NP *\n",
            "|.         [----------------------------->| [1:4] S  -> NP * VB IN NP\n",
            "|.         [----------------------------->| [1:4] NP -> NP * CC NP\n",
            "|[--------------------------------------->| [0:4] S  -> NP * VB IN NP\n",
            "|[--------------------------------------->| [0:4] NP -> NP * CC NP\n",
            "\n",
            "--Number of edges: 28\n",
            "\n",
            "-- Explored edges:\n",
            " [[Edge: [0:1] 'small'] [Edge: [1:2] 'cats'] [Edge: [2:3] 'and']\n",
            " [Edge: [3:4] 'mice'] [Edge: [0:1] JJ -> 'small' *]\n",
            " [Edge: [0:1] NP -> JJ * NNS] [Edge: [1:2] NNS -> 'cats' *]\n",
            " [Edge: [1:2] NP -> NNS *] [Edge: [1:2] NNS -> NNS * CC NNS]\n",
            " [Edge: [0:2] NP -> JJ NNS *] [Edge: [0:2] NP -> NP * CC NP]\n",
            " [Edge: [1:2] NP -> NP * CC NP] [Edge: [2:3] CC -> 'and' *]\n",
            " [Edge: [1:3] NNS -> NNS CC * NNS] [Edge: [0:3] NP -> NP CC * NP]\n",
            " [Edge: [1:3] NP -> NP CC * NP] [Edge: [3:4] NNS -> 'mice' *]\n",
            " [Edge: [3:4] NP -> NNS *] [Edge: [3:4] NNS -> NNS * CC NNS]\n",
            " [Edge: [1:4] NNS -> NNS CC NNS *] [Edge: [1:4] NP -> NNS *]\n",
            " [Edge: [1:4] NNS -> NNS * CC NNS] [Edge: [0:4] NP -> JJ NNS *]\n",
            " [Edge: [0:4] NP -> NP * CC NP] [Edge: [1:4] NP -> NP * CC NP]\n",
            " [Edge: [3:4] NP -> NP * CC NP] [Edge: [0:4] NP -> NP CC NP *]\n",
            " [Edge: [1:4] NP -> NP CC NP *]]\n",
            "\n",
            "--Number of trees:\n",
            " 0\n",
            "\n",
            "--Trees:\n"
          ]
        },
        {
          "output_type": "execute_result",
          "data": {
            "text/plain": [
              "'No Trees Found!'"
            ],
            "application/vnd.google.colaboratory.intrinsic+json": {
              "type": "string"
            }
          },
          "metadata": {},
          "execution_count": 159
        }
      ]
    },
    {
      "cell_type": "markdown",
      "source": [
        "##### Testing grammar 3"
      ],
      "metadata": {
        "id": "5mlOBssdZ_gP"
      }
    },
    {
      "cell_type": "code",
      "source": [
        "CFGParse = sentence_to_cfg_parsing(grammar3)"
      ],
      "metadata": {
        "id": "bab-vCtaYYO1"
      },
      "execution_count": 163,
      "outputs": []
    },
    {
      "cell_type": "code",
      "source": [
        "CFGParse.parse(s1, 'chart', 0, True)"
      ],
      "metadata": {
        "id": "GTWfrTZpaJo7",
        "outputId": "35b0628a-23aa-4ede-b3ba-b0dfd6541573",
        "colab": {
          "base_uri": "https://localhost:8080/",
          "height": 1000
        }
      },
      "execution_count": 168,
      "outputs": [
        {
          "output_type": "stream",
          "name": "stdout",
          "text": [
            "---------- Using chart\n",
            "\n",
            "Part of Speech of the sentence:  [('lazy', 'NN'), ('cats', 'NNS'), ('play', 'VBP'), ('with', 'IN'), ('mice', 'NNS')]\n",
            "\n",
            "-- Parse\n",
            "|.  lazy .  cats .  play .  with .  mice .|\n",
            "|[-------]       .       .       .       .| [0:1] 'lazy'\n",
            "|.       [-------]       .       .       .| [1:2] 'cats'\n",
            "|.       .       [-------]       .       .| [2:3] 'play'\n",
            "|.       .       .       [-------]       .| [3:4] 'with'\n",
            "|.       .       .       .       [-------]| [4:5] 'mice'\n",
            "|[-------]       .       .       .       .| [0:1] Adj -> 'lazy' *\n",
            "|[------->       .       .       .       .| [0:1] NP -> Adj * N\n",
            "|.       [-------]       .       .       .| [1:2] N  -> 'cats' *\n",
            "|.       [-------]       .       .       .| [1:2] NP -> N *\n",
            "|[---------------]       .       .       .| [0:2] NP -> Adj N *\n",
            "|[--------------->       .       .       .| [0:2] S  -> NP * VP\n",
            "|.       [------->       .       .       .| [1:2] S  -> NP * VP\n",
            "|.       .       [-------]       .       .| [2:3] V  -> 'play' *\n",
            "|.       .       [------->       .       .| [2:3] VP -> V * NP\n",
            "|.       .       [------->       .       .| [2:3] VP -> V * PP\n",
            "|.       .       .       [-------]       .| [3:4] P  -> 'with' *\n",
            "|.       .       .       [------->       .| [3:4] PP -> P * NP\n",
            "|.       .       .       .       [-------]| [4:5] N  -> 'mice' *\n",
            "|.       .       .       .       [-------]| [4:5] NP -> N *\n",
            "|.       .       .       .       [------->| [4:5] S  -> NP * VP\n",
            "|.       .       .       [---------------]| [3:5] PP -> P NP *\n",
            "|.       .       [-----------------------]| [2:5] VP -> V PP *\n",
            "|[=======================================]| [0:5] S  -> NP VP *\n",
            "|.       [-------------------------------]| [1:5] S  -> NP VP *\n",
            "\n",
            "--Number of edges: 28\n",
            "\n",
            "-- Explored edges:\n",
            " [[Edge: [0:1] 'small'] [Edge: [1:2] 'cats'] [Edge: [2:3] 'and']\n",
            " [Edge: [3:4] 'mice'] [Edge: [0:1] JJ -> 'small' *]\n",
            " [Edge: [0:1] NP -> JJ * NNS] [Edge: [1:2] NNS -> 'cats' *]\n",
            " [Edge: [1:2] NP -> NNS *] [Edge: [1:2] NNS -> NNS * CC NNS]\n",
            " [Edge: [0:2] NP -> JJ NNS *] [Edge: [0:2] NP -> NP * CC NP]\n",
            " [Edge: [1:2] NP -> NP * CC NP] [Edge: [2:3] CC -> 'and' *]\n",
            " [Edge: [1:3] NNS -> NNS CC * NNS] [Edge: [0:3] NP -> NP CC * NP]\n",
            " [Edge: [1:3] NP -> NP CC * NP] [Edge: [3:4] NNS -> 'mice' *]\n",
            " [Edge: [3:4] NP -> NNS *] [Edge: [3:4] NNS -> NNS * CC NNS]\n",
            " [Edge: [1:4] NNS -> NNS CC NNS *] [Edge: [1:4] NP -> NNS *]\n",
            " [Edge: [1:4] NNS -> NNS * CC NNS] [Edge: [0:4] NP -> JJ NNS *]\n",
            " [Edge: [0:4] NP -> NP * CC NP] [Edge: [1:4] NP -> NP * CC NP]\n",
            " [Edge: [3:4] NP -> NP * CC NP] [Edge: [0:4] NP -> NP CC NP *]\n",
            " [Edge: [1:4] NP -> NP CC NP *]]\n",
            "\n",
            "--Number of trees:\n",
            " 1\n",
            "\n",
            "--Trees:\n",
            "---Tree 0:  (S\n",
            "  (NP (Adj lazy) (N cats))\n",
            "  (VP (V play) (PP (P with) (NP (N mice)))))\n",
            "\n",
            "\n"
          ]
        },
        {
          "output_type": "execute_result",
          "data": {
            "text/plain": [
              "Tree('S', [Tree('NP', [Tree('Adj', ['lazy']), Tree('N', ['cats'])]), Tree('VP', [Tree('V', ['play']), Tree('PP', [Tree('P', ['with']), Tree('NP', [Tree('N', ['mice'])])])])])"
            ],
            "image/svg+xml": "<svg baseProfile=\"full\" height=\"264px\" preserveAspectRatio=\"xMidYMid meet\" style=\"font-family: times, serif; font-weight: normal; font-style: normal; font-size: 16px;\" version=\"1.1\" viewBox=\"0,0,240.0,264.0\" width=\"240px\" xmlns=\"http://www.w3.org/2000/svg\" xmlns:ev=\"http://www.w3.org/2001/xml-events\" xmlns:xlink=\"http://www.w3.org/1999/xlink\"><defs /><svg width=\"100%\" x=\"0\" y=\"0px\"><defs /><text text-anchor=\"middle\" x=\"50%\" y=\"16px\">S</text></svg><svg width=\"40%\" x=\"0%\" y=\"48px\"><defs /><svg width=\"100%\" x=\"0\" y=\"0px\"><defs /><text text-anchor=\"middle\" x=\"50%\" y=\"16px\">NP</text></svg><svg width=\"50%\" x=\"0%\" y=\"48px\"><defs /><svg width=\"100%\" x=\"0\" y=\"0px\"><defs /><text text-anchor=\"middle\" x=\"50%\" y=\"16px\">Adj</text></svg><svg width=\"100%\" x=\"0%\" y=\"48px\"><defs /><svg width=\"100%\" x=\"0\" y=\"0px\"><defs /><text text-anchor=\"middle\" x=\"50%\" y=\"16px\">lazy</text></svg></svg><line stroke=\"black\" x1=\"50%\" x2=\"50%\" y1=\"19.2px\" y2=\"48px\" /></svg><line stroke=\"black\" x1=\"50%\" x2=\"25%\" y1=\"19.2px\" y2=\"48px\" /><svg width=\"50%\" x=\"50%\" y=\"48px\"><defs /><svg width=\"100%\" x=\"0\" y=\"0px\"><defs /><text text-anchor=\"middle\" x=\"50%\" y=\"16px\">N</text></svg><svg width=\"100%\" x=\"0%\" y=\"48px\"><defs /><svg width=\"100%\" x=\"0\" y=\"0px\"><defs /><text text-anchor=\"middle\" x=\"50%\" y=\"16px\">cats</text></svg></svg><line stroke=\"black\" x1=\"50%\" x2=\"50%\" y1=\"19.2px\" y2=\"48px\" /></svg><line stroke=\"black\" x1=\"50%\" x2=\"75%\" y1=\"19.2px\" y2=\"48px\" /></svg><line stroke=\"black\" x1=\"50%\" x2=\"20%\" y1=\"19.2px\" y2=\"48px\" /><svg width=\"60%\" x=\"40%\" y=\"48px\"><defs /><svg width=\"100%\" x=\"0\" y=\"0px\"><defs /><text text-anchor=\"middle\" x=\"50%\" y=\"16px\">VP</text></svg><svg width=\"33.3333%\" x=\"0%\" y=\"48px\"><defs /><svg width=\"100%\" x=\"0\" y=\"0px\"><defs /><text text-anchor=\"middle\" x=\"50%\" y=\"16px\">V</text></svg><svg width=\"100%\" x=\"0%\" y=\"48px\"><defs /><svg width=\"100%\" x=\"0\" y=\"0px\"><defs /><text text-anchor=\"middle\" x=\"50%\" y=\"16px\">play</text></svg></svg><line stroke=\"black\" x1=\"50%\" x2=\"50%\" y1=\"19.2px\" y2=\"48px\" /></svg><line stroke=\"black\" x1=\"50%\" x2=\"16.6667%\" y1=\"19.2px\" y2=\"48px\" /><svg width=\"66.6667%\" x=\"33.3333%\" y=\"48px\"><defs /><svg width=\"100%\" x=\"0\" y=\"0px\"><defs /><text text-anchor=\"middle\" x=\"50%\" y=\"16px\">PP</text></svg><svg width=\"50%\" x=\"0%\" y=\"48px\"><defs /><svg width=\"100%\" x=\"0\" y=\"0px\"><defs /><text text-anchor=\"middle\" x=\"50%\" y=\"16px\">P</text></svg><svg width=\"100%\" x=\"0%\" y=\"48px\"><defs /><svg width=\"100%\" x=\"0\" y=\"0px\"><defs /><text text-anchor=\"middle\" x=\"50%\" y=\"16px\">with</text></svg></svg><line stroke=\"black\" x1=\"50%\" x2=\"50%\" y1=\"19.2px\" y2=\"48px\" /></svg><line stroke=\"black\" x1=\"50%\" x2=\"25%\" y1=\"19.2px\" y2=\"48px\" /><svg width=\"50%\" x=\"50%\" y=\"48px\"><defs /><svg width=\"100%\" x=\"0\" y=\"0px\"><defs /><text text-anchor=\"middle\" x=\"50%\" y=\"16px\">NP</text></svg><svg width=\"100%\" x=\"0%\" y=\"48px\"><defs /><svg width=\"100%\" x=\"0\" y=\"0px\"><defs /><text text-anchor=\"middle\" x=\"50%\" y=\"16px\">N</text></svg><svg width=\"100%\" x=\"0%\" y=\"48px\"><defs /><svg width=\"100%\" x=\"0\" y=\"0px\"><defs /><text text-anchor=\"middle\" x=\"50%\" y=\"16px\">mice</text></svg></svg><line stroke=\"black\" x1=\"50%\" x2=\"50%\" y1=\"19.2px\" y2=\"48px\" /></svg><line stroke=\"black\" x1=\"50%\" x2=\"50%\" y1=\"19.2px\" y2=\"48px\" /></svg><line stroke=\"black\" x1=\"50%\" x2=\"75%\" y1=\"19.2px\" y2=\"48px\" /></svg><line stroke=\"black\" x1=\"50%\" x2=\"66.6667%\" y1=\"19.2px\" y2=\"48px\" /></svg><line stroke=\"black\" x1=\"50%\" x2=\"70%\" y1=\"19.2px\" y2=\"48px\" /></svg>"
          },
          "metadata": {},
          "execution_count": 168
        }
      ]
    },
    {
      "cell_type": "code",
      "source": [
        "CFGParse.parse(s1, 'left', 0, True)"
      ],
      "metadata": {
        "id": "PoIJTRP6a5BT",
        "outputId": "83fa3a78-f09a-423a-feb4-c5ea42080dd4",
        "colab": {
          "base_uri": "https://localhost:8080/",
          "height": 1000
        }
      },
      "execution_count": 170,
      "outputs": [
        {
          "output_type": "stream",
          "name": "stdout",
          "text": [
            "---------- Using left\n",
            "\n",
            "Part of Speech of the sentence:  [('lazy', 'NN'), ('cats', 'NNS'), ('play', 'VBP'), ('with', 'IN'), ('mice', 'NNS')]\n",
            "\n",
            "-- Parse\n",
            "|.  lazy .  cats .  play .  with .  mice .|\n",
            "|[-------]       .       .       .       .| [0:1] 'lazy'\n",
            "|.       [-------]       .       .       .| [1:2] 'cats'\n",
            "|.       .       [-------]       .       .| [2:3] 'play'\n",
            "|.       .       .       [-------]       .| [3:4] 'with'\n",
            "|.       .       .       .       [-------]| [4:5] 'mice'\n",
            "|[-------]       .       .       .       .| [0:1] Adj -> 'lazy' *\n",
            "|[------->       .       .       .       .| [0:1] NP -> Adj * N\n",
            "|.       [-------]       .       .       .| [1:2] N  -> 'cats' *\n",
            "|.       [-------]       .       .       .| [1:2] NP -> N *\n",
            "|[---------------]       .       .       .| [0:2] NP -> Adj N *\n",
            "|[--------------->       .       .       .| [0:2] S  -> NP * VP\n",
            "|.       [------->       .       .       .| [1:2] S  -> NP * VP\n",
            "|.       .       [-------]       .       .| [2:3] V  -> 'play' *\n",
            "|.       .       [------->       .       .| [2:3] VP -> V * PP\n",
            "|.       .       .       [-------]       .| [3:4] P  -> 'with' *\n",
            "|.       .       .       [------->       .| [3:4] PP -> P * NP\n",
            "|.       .       .       .       [-------]| [4:5] N  -> 'mice' *\n",
            "|.       .       .       .       [-------]| [4:5] NP -> N *\n",
            "|.       .       .       [---------------]| [3:5] PP -> P NP *\n",
            "|.       .       [-----------------------]| [2:5] VP -> V PP *\n",
            "|[=======================================]| [0:5] S  -> NP VP *\n",
            "|.       [-------------------------------]| [1:5] S  -> NP VP *\n",
            "\n",
            "--Number of edges: 28\n",
            "\n",
            "-- Explored edges:\n",
            " [[Edge: [0:1] 'small'] [Edge: [1:2] 'cats'] [Edge: [2:3] 'and']\n",
            " [Edge: [3:4] 'mice'] [Edge: [0:1] JJ -> 'small' *]\n",
            " [Edge: [0:1] NP -> JJ * NNS] [Edge: [1:2] NNS -> 'cats' *]\n",
            " [Edge: [1:2] NP -> NNS *] [Edge: [1:2] NNS -> NNS * CC NNS]\n",
            " [Edge: [0:2] NP -> JJ NNS *] [Edge: [0:2] NP -> NP * CC NP]\n",
            " [Edge: [1:2] NP -> NP * CC NP] [Edge: [2:3] CC -> 'and' *]\n",
            " [Edge: [1:3] NNS -> NNS CC * NNS] [Edge: [0:3] NP -> NP CC * NP]\n",
            " [Edge: [1:3] NP -> NP CC * NP] [Edge: [3:4] NNS -> 'mice' *]\n",
            " [Edge: [3:4] NP -> NNS *] [Edge: [3:4] NNS -> NNS * CC NNS]\n",
            " [Edge: [1:4] NNS -> NNS CC NNS *] [Edge: [1:4] NP -> NNS *]\n",
            " [Edge: [1:4] NNS -> NNS * CC NNS] [Edge: [0:4] NP -> JJ NNS *]\n",
            " [Edge: [0:4] NP -> NP * CC NP] [Edge: [1:4] NP -> NP * CC NP]\n",
            " [Edge: [3:4] NP -> NP * CC NP] [Edge: [0:4] NP -> NP CC NP *]\n",
            " [Edge: [1:4] NP -> NP CC NP *]]\n",
            "\n",
            "--Number of trees:\n",
            " 1\n",
            "\n",
            "--Trees:\n",
            "---Tree 0:  (S\n",
            "  (NP (Adj lazy) (N cats))\n",
            "  (VP (V play) (PP (P with) (NP (N mice)))))\n",
            "\n",
            "\n"
          ]
        },
        {
          "output_type": "execute_result",
          "data": {
            "text/plain": [
              "Tree('S', [Tree('NP', [Tree('Adj', ['lazy']), Tree('N', ['cats'])]), Tree('VP', [Tree('V', ['play']), Tree('PP', [Tree('P', ['with']), Tree('NP', [Tree('N', ['mice'])])])])])"
            ],
            "image/svg+xml": "<svg baseProfile=\"full\" height=\"264px\" preserveAspectRatio=\"xMidYMid meet\" style=\"font-family: times, serif; font-weight: normal; font-style: normal; font-size: 16px;\" version=\"1.1\" viewBox=\"0,0,240.0,264.0\" width=\"240px\" xmlns=\"http://www.w3.org/2000/svg\" xmlns:ev=\"http://www.w3.org/2001/xml-events\" xmlns:xlink=\"http://www.w3.org/1999/xlink\"><defs /><svg width=\"100%\" x=\"0\" y=\"0px\"><defs /><text text-anchor=\"middle\" x=\"50%\" y=\"16px\">S</text></svg><svg width=\"40%\" x=\"0%\" y=\"48px\"><defs /><svg width=\"100%\" x=\"0\" y=\"0px\"><defs /><text text-anchor=\"middle\" x=\"50%\" y=\"16px\">NP</text></svg><svg width=\"50%\" x=\"0%\" y=\"48px\"><defs /><svg width=\"100%\" x=\"0\" y=\"0px\"><defs /><text text-anchor=\"middle\" x=\"50%\" y=\"16px\">Adj</text></svg><svg width=\"100%\" x=\"0%\" y=\"48px\"><defs /><svg width=\"100%\" x=\"0\" y=\"0px\"><defs /><text text-anchor=\"middle\" x=\"50%\" y=\"16px\">lazy</text></svg></svg><line stroke=\"black\" x1=\"50%\" x2=\"50%\" y1=\"19.2px\" y2=\"48px\" /></svg><line stroke=\"black\" x1=\"50%\" x2=\"25%\" y1=\"19.2px\" y2=\"48px\" /><svg width=\"50%\" x=\"50%\" y=\"48px\"><defs /><svg width=\"100%\" x=\"0\" y=\"0px\"><defs /><text text-anchor=\"middle\" x=\"50%\" y=\"16px\">N</text></svg><svg width=\"100%\" x=\"0%\" y=\"48px\"><defs /><svg width=\"100%\" x=\"0\" y=\"0px\"><defs /><text text-anchor=\"middle\" x=\"50%\" y=\"16px\">cats</text></svg></svg><line stroke=\"black\" x1=\"50%\" x2=\"50%\" y1=\"19.2px\" y2=\"48px\" /></svg><line stroke=\"black\" x1=\"50%\" x2=\"75%\" y1=\"19.2px\" y2=\"48px\" /></svg><line stroke=\"black\" x1=\"50%\" x2=\"20%\" y1=\"19.2px\" y2=\"48px\" /><svg width=\"60%\" x=\"40%\" y=\"48px\"><defs /><svg width=\"100%\" x=\"0\" y=\"0px\"><defs /><text text-anchor=\"middle\" x=\"50%\" y=\"16px\">VP</text></svg><svg width=\"33.3333%\" x=\"0%\" y=\"48px\"><defs /><svg width=\"100%\" x=\"0\" y=\"0px\"><defs /><text text-anchor=\"middle\" x=\"50%\" y=\"16px\">V</text></svg><svg width=\"100%\" x=\"0%\" y=\"48px\"><defs /><svg width=\"100%\" x=\"0\" y=\"0px\"><defs /><text text-anchor=\"middle\" x=\"50%\" y=\"16px\">play</text></svg></svg><line stroke=\"black\" x1=\"50%\" x2=\"50%\" y1=\"19.2px\" y2=\"48px\" /></svg><line stroke=\"black\" x1=\"50%\" x2=\"16.6667%\" y1=\"19.2px\" y2=\"48px\" /><svg width=\"66.6667%\" x=\"33.3333%\" y=\"48px\"><defs /><svg width=\"100%\" x=\"0\" y=\"0px\"><defs /><text text-anchor=\"middle\" x=\"50%\" y=\"16px\">PP</text></svg><svg width=\"50%\" x=\"0%\" y=\"48px\"><defs /><svg width=\"100%\" x=\"0\" y=\"0px\"><defs /><text text-anchor=\"middle\" x=\"50%\" y=\"16px\">P</text></svg><svg width=\"100%\" x=\"0%\" y=\"48px\"><defs /><svg width=\"100%\" x=\"0\" y=\"0px\"><defs /><text text-anchor=\"middle\" x=\"50%\" y=\"16px\">with</text></svg></svg><line stroke=\"black\" x1=\"50%\" x2=\"50%\" y1=\"19.2px\" y2=\"48px\" /></svg><line stroke=\"black\" x1=\"50%\" x2=\"25%\" y1=\"19.2px\" y2=\"48px\" /><svg width=\"50%\" x=\"50%\" y=\"48px\"><defs /><svg width=\"100%\" x=\"0\" y=\"0px\"><defs /><text text-anchor=\"middle\" x=\"50%\" y=\"16px\">NP</text></svg><svg width=\"100%\" x=\"0%\" y=\"48px\"><defs /><svg width=\"100%\" x=\"0\" y=\"0px\"><defs /><text text-anchor=\"middle\" x=\"50%\" y=\"16px\">N</text></svg><svg width=\"100%\" x=\"0%\" y=\"48px\"><defs /><svg width=\"100%\" x=\"0\" y=\"0px\"><defs /><text text-anchor=\"middle\" x=\"50%\" y=\"16px\">mice</text></svg></svg><line stroke=\"black\" x1=\"50%\" x2=\"50%\" y1=\"19.2px\" y2=\"48px\" /></svg><line stroke=\"black\" x1=\"50%\" x2=\"50%\" y1=\"19.2px\" y2=\"48px\" /></svg><line stroke=\"black\" x1=\"50%\" x2=\"75%\" y1=\"19.2px\" y2=\"48px\" /></svg><line stroke=\"black\" x1=\"50%\" x2=\"66.6667%\" y1=\"19.2px\" y2=\"48px\" /></svg><line stroke=\"black\" x1=\"50%\" x2=\"70%\" y1=\"19.2px\" y2=\"48px\" /></svg>"
          },
          "metadata": {},
          "execution_count": 170
        }
      ]
    },
    {
      "cell_type": "code",
      "source": [
        "CFGParse.parse(s1, 'bottomUp', 0, True)"
      ],
      "metadata": {
        "id": "WX0G49hFa447",
        "outputId": "110bf5e0-97b2-476f-e2fb-2ae82460f857",
        "colab": {
          "base_uri": "https://localhost:8080/",
          "height": 1000
        }
      },
      "execution_count": 172,
      "outputs": [
        {
          "output_type": "stream",
          "name": "stdout",
          "text": [
            "---------- Using bottomUp\n",
            "\n",
            "Part of Speech of the sentence:  [('lazy', 'NN'), ('cats', 'NNS'), ('play', 'VBP'), ('with', 'IN'), ('mice', 'NNS')]\n",
            "\n",
            "-- Parse\n",
            "|.  lazy .  cats .  play .  with .  mice .|\n",
            "|[-------]       .       .       .       .| [0:1] 'lazy'\n",
            "|.       [-------]       .       .       .| [1:2] 'cats'\n",
            "|.       .       [-------]       .       .| [2:3] 'play'\n",
            "|.       .       .       [-------]       .| [3:4] 'with'\n",
            "|.       .       .       .       [-------]| [4:5] 'mice'\n",
            "|>       .       .       .       .       .| [0:0] Adj -> * 'lazy'\n",
            "|[-------]       .       .       .       .| [0:1] Adj -> 'lazy' *\n",
            "|>       .       .       .       .       .| [0:0] NP -> * Adj N\n",
            "|[------->       .       .       .       .| [0:1] NP -> Adj * N\n",
            "|.       >       .       .       .       .| [1:1] N  -> * 'cats'\n",
            "|.       [-------]       .       .       .| [1:2] N  -> 'cats' *\n",
            "|.       >       .       .       .       .| [1:1] NP -> * N\n",
            "|[---------------]       .       .       .| [0:2] NP -> Adj N *\n",
            "|.       [-------]       .       .       .| [1:2] NP -> N *\n",
            "|.       >       .       .       .       .| [1:1] S  -> * NP VP\n",
            "|.       [------->       .       .       .| [1:2] S  -> NP * VP\n",
            "|>       .       .       .       .       .| [0:0] S  -> * NP VP\n",
            "|[--------------->       .       .       .| [0:2] S  -> NP * VP\n",
            "|.       .       >       .       .       .| [2:2] V  -> * 'play'\n",
            "|.       .       [-------]       .       .| [2:3] V  -> 'play' *\n",
            "|.       .       >       .       .       .| [2:2] VP -> * V NP\n",
            "|.       .       >       .       .       .| [2:2] VP -> * V PP\n",
            "|.       .       [------->       .       .| [2:3] VP -> V * NP\n",
            "|.       .       [------->       .       .| [2:3] VP -> V * PP\n",
            "|.       .       .       >       .       .| [3:3] P  -> * 'with'\n",
            "|.       .       .       [-------]       .| [3:4] P  -> 'with' *\n",
            "|.       .       .       >       .       .| [3:3] PP -> * P NP\n",
            "|.       .       .       [------->       .| [3:4] PP -> P * NP\n",
            "|.       .       .       .       >       .| [4:4] N  -> * 'mice'\n",
            "|.       .       .       .       [-------]| [4:5] N  -> 'mice' *\n",
            "|.       .       .       .       >       .| [4:4] NP -> * N\n",
            "|.       .       .       .       [-------]| [4:5] NP -> N *\n",
            "|.       .       .       .       >       .| [4:4] S  -> * NP VP\n",
            "|.       .       .       [---------------]| [3:5] PP -> P NP *\n",
            "|.       .       .       .       [------->| [4:5] S  -> NP * VP\n",
            "|.       .       [-----------------------]| [2:5] VP -> V PP *\n",
            "|.       [-------------------------------]| [1:5] S  -> NP VP *\n",
            "|[=======================================]| [0:5] S  -> NP VP *\n",
            "\n",
            "--Number of edges: 28\n",
            "\n",
            "-- Explored edges:\n",
            " [[Edge: [0:1] 'small'] [Edge: [1:2] 'cats'] [Edge: [2:3] 'and']\n",
            " [Edge: [3:4] 'mice'] [Edge: [0:1] JJ -> 'small' *]\n",
            " [Edge: [0:1] NP -> JJ * NNS] [Edge: [1:2] NNS -> 'cats' *]\n",
            " [Edge: [1:2] NP -> NNS *] [Edge: [1:2] NNS -> NNS * CC NNS]\n",
            " [Edge: [0:2] NP -> JJ NNS *] [Edge: [0:2] NP -> NP * CC NP]\n",
            " [Edge: [1:2] NP -> NP * CC NP] [Edge: [2:3] CC -> 'and' *]\n",
            " [Edge: [1:3] NNS -> NNS CC * NNS] [Edge: [0:3] NP -> NP CC * NP]\n",
            " [Edge: [1:3] NP -> NP CC * NP] [Edge: [3:4] NNS -> 'mice' *]\n",
            " [Edge: [3:4] NP -> NNS *] [Edge: [3:4] NNS -> NNS * CC NNS]\n",
            " [Edge: [1:4] NNS -> NNS CC NNS *] [Edge: [1:4] NP -> NNS *]\n",
            " [Edge: [1:4] NNS -> NNS * CC NNS] [Edge: [0:4] NP -> JJ NNS *]\n",
            " [Edge: [0:4] NP -> NP * CC NP] [Edge: [1:4] NP -> NP * CC NP]\n",
            " [Edge: [3:4] NP -> NP * CC NP] [Edge: [0:4] NP -> NP CC NP *]\n",
            " [Edge: [1:4] NP -> NP CC NP *]]\n",
            "\n",
            "--Number of trees:\n",
            " 1\n",
            "\n",
            "--Trees:\n",
            "---Tree 0:  (S\n",
            "  (NP (Adj lazy) (N cats))\n",
            "  (VP (V play) (PP (P with) (NP (N mice)))))\n",
            "\n",
            "\n"
          ]
        },
        {
          "output_type": "execute_result",
          "data": {
            "text/plain": [
              "Tree('S', [Tree('NP', [Tree('Adj', ['lazy']), Tree('N', ['cats'])]), Tree('VP', [Tree('V', ['play']), Tree('PP', [Tree('P', ['with']), Tree('NP', [Tree('N', ['mice'])])])])])"
            ],
            "image/svg+xml": "<svg baseProfile=\"full\" height=\"264px\" preserveAspectRatio=\"xMidYMid meet\" style=\"font-family: times, serif; font-weight: normal; font-style: normal; font-size: 16px;\" version=\"1.1\" viewBox=\"0,0,240.0,264.0\" width=\"240px\" xmlns=\"http://www.w3.org/2000/svg\" xmlns:ev=\"http://www.w3.org/2001/xml-events\" xmlns:xlink=\"http://www.w3.org/1999/xlink\"><defs /><svg width=\"100%\" x=\"0\" y=\"0px\"><defs /><text text-anchor=\"middle\" x=\"50%\" y=\"16px\">S</text></svg><svg width=\"40%\" x=\"0%\" y=\"48px\"><defs /><svg width=\"100%\" x=\"0\" y=\"0px\"><defs /><text text-anchor=\"middle\" x=\"50%\" y=\"16px\">NP</text></svg><svg width=\"50%\" x=\"0%\" y=\"48px\"><defs /><svg width=\"100%\" x=\"0\" y=\"0px\"><defs /><text text-anchor=\"middle\" x=\"50%\" y=\"16px\">Adj</text></svg><svg width=\"100%\" x=\"0%\" y=\"48px\"><defs /><svg width=\"100%\" x=\"0\" y=\"0px\"><defs /><text text-anchor=\"middle\" x=\"50%\" y=\"16px\">lazy</text></svg></svg><line stroke=\"black\" x1=\"50%\" x2=\"50%\" y1=\"19.2px\" y2=\"48px\" /></svg><line stroke=\"black\" x1=\"50%\" x2=\"25%\" y1=\"19.2px\" y2=\"48px\" /><svg width=\"50%\" x=\"50%\" y=\"48px\"><defs /><svg width=\"100%\" x=\"0\" y=\"0px\"><defs /><text text-anchor=\"middle\" x=\"50%\" y=\"16px\">N</text></svg><svg width=\"100%\" x=\"0%\" y=\"48px\"><defs /><svg width=\"100%\" x=\"0\" y=\"0px\"><defs /><text text-anchor=\"middle\" x=\"50%\" y=\"16px\">cats</text></svg></svg><line stroke=\"black\" x1=\"50%\" x2=\"50%\" y1=\"19.2px\" y2=\"48px\" /></svg><line stroke=\"black\" x1=\"50%\" x2=\"75%\" y1=\"19.2px\" y2=\"48px\" /></svg><line stroke=\"black\" x1=\"50%\" x2=\"20%\" y1=\"19.2px\" y2=\"48px\" /><svg width=\"60%\" x=\"40%\" y=\"48px\"><defs /><svg width=\"100%\" x=\"0\" y=\"0px\"><defs /><text text-anchor=\"middle\" x=\"50%\" y=\"16px\">VP</text></svg><svg width=\"33.3333%\" x=\"0%\" y=\"48px\"><defs /><svg width=\"100%\" x=\"0\" y=\"0px\"><defs /><text text-anchor=\"middle\" x=\"50%\" y=\"16px\">V</text></svg><svg width=\"100%\" x=\"0%\" y=\"48px\"><defs /><svg width=\"100%\" x=\"0\" y=\"0px\"><defs /><text text-anchor=\"middle\" x=\"50%\" y=\"16px\">play</text></svg></svg><line stroke=\"black\" x1=\"50%\" x2=\"50%\" y1=\"19.2px\" y2=\"48px\" /></svg><line stroke=\"black\" x1=\"50%\" x2=\"16.6667%\" y1=\"19.2px\" y2=\"48px\" /><svg width=\"66.6667%\" x=\"33.3333%\" y=\"48px\"><defs /><svg width=\"100%\" x=\"0\" y=\"0px\"><defs /><text text-anchor=\"middle\" x=\"50%\" y=\"16px\">PP</text></svg><svg width=\"50%\" x=\"0%\" y=\"48px\"><defs /><svg width=\"100%\" x=\"0\" y=\"0px\"><defs /><text text-anchor=\"middle\" x=\"50%\" y=\"16px\">P</text></svg><svg width=\"100%\" x=\"0%\" y=\"48px\"><defs /><svg width=\"100%\" x=\"0\" y=\"0px\"><defs /><text text-anchor=\"middle\" x=\"50%\" y=\"16px\">with</text></svg></svg><line stroke=\"black\" x1=\"50%\" x2=\"50%\" y1=\"19.2px\" y2=\"48px\" /></svg><line stroke=\"black\" x1=\"50%\" x2=\"25%\" y1=\"19.2px\" y2=\"48px\" /><svg width=\"50%\" x=\"50%\" y=\"48px\"><defs /><svg width=\"100%\" x=\"0\" y=\"0px\"><defs /><text text-anchor=\"middle\" x=\"50%\" y=\"16px\">NP</text></svg><svg width=\"100%\" x=\"0%\" y=\"48px\"><defs /><svg width=\"100%\" x=\"0\" y=\"0px\"><defs /><text text-anchor=\"middle\" x=\"50%\" y=\"16px\">N</text></svg><svg width=\"100%\" x=\"0%\" y=\"48px\"><defs /><svg width=\"100%\" x=\"0\" y=\"0px\"><defs /><text text-anchor=\"middle\" x=\"50%\" y=\"16px\">mice</text></svg></svg><line stroke=\"black\" x1=\"50%\" x2=\"50%\" y1=\"19.2px\" y2=\"48px\" /></svg><line stroke=\"black\" x1=\"50%\" x2=\"50%\" y1=\"19.2px\" y2=\"48px\" /></svg><line stroke=\"black\" x1=\"50%\" x2=\"75%\" y1=\"19.2px\" y2=\"48px\" /></svg><line stroke=\"black\" x1=\"50%\" x2=\"66.6667%\" y1=\"19.2px\" y2=\"48px\" /></svg><line stroke=\"black\" x1=\"50%\" x2=\"70%\" y1=\"19.2px\" y2=\"48px\" /></svg>"
          },
          "metadata": {},
          "execution_count": 172
        }
      ]
    },
    {
      "cell_type": "code",
      "source": [
        "CFGParse.parse(s1, 'bottomUpLeft', 0, True)"
      ],
      "metadata": {
        "id": "Re-8i0Mda4rA",
        "outputId": "8580f5d1-9ec4-49ec-9c2a-70ecbd4057bf",
        "colab": {
          "base_uri": "https://localhost:8080/",
          "height": 1000
        }
      },
      "execution_count": 169,
      "outputs": [
        {
          "output_type": "stream",
          "name": "stdout",
          "text": [
            "---------- Using bottomUpLeft\n",
            "\n",
            "Part of Speech of the sentence:  [('lazy', 'NN'), ('cats', 'NNS'), ('play', 'VBP'), ('with', 'IN'), ('mice', 'NNS')]\n",
            "\n",
            "-- Parse\n",
            "|.  lazy .  cats .  play .  with .  mice .|\n",
            "|[-------]       .       .       .       .| [0:1] 'lazy'\n",
            "|.       [-------]       .       .       .| [1:2] 'cats'\n",
            "|.       .       [-------]       .       .| [2:3] 'play'\n",
            "|.       .       .       [-------]       .| [3:4] 'with'\n",
            "|.       .       .       .       [-------]| [4:5] 'mice'\n",
            "|[-------]       .       .       .       .| [0:1] Adj -> 'lazy' *\n",
            "|[------->       .       .       .       .| [0:1] NP -> Adj * N\n",
            "|.       [-------]       .       .       .| [1:2] N  -> 'cats' *\n",
            "|.       [-------]       .       .       .| [1:2] NP -> N *\n",
            "|[---------------]       .       .       .| [0:2] NP -> Adj N *\n",
            "|[--------------->       .       .       .| [0:2] S  -> NP * VP\n",
            "|.       [------->       .       .       .| [1:2] S  -> NP * VP\n",
            "|.       .       [-------]       .       .| [2:3] V  -> 'play' *\n",
            "|.       .       [------->       .       .| [2:3] VP -> V * NP\n",
            "|.       .       [------->       .       .| [2:3] VP -> V * PP\n",
            "|.       .       .       [-------]       .| [3:4] P  -> 'with' *\n",
            "|.       .       .       [------->       .| [3:4] PP -> P * NP\n",
            "|.       .       .       .       [-------]| [4:5] N  -> 'mice' *\n",
            "|.       .       .       .       [-------]| [4:5] NP -> N *\n",
            "|.       .       .       .       [------->| [4:5] S  -> NP * VP\n",
            "|.       .       .       [---------------]| [3:5] PP -> P NP *\n",
            "|.       .       [-----------------------]| [2:5] VP -> V PP *\n",
            "|[=======================================]| [0:5] S  -> NP VP *\n",
            "|.       [-------------------------------]| [1:5] S  -> NP VP *\n",
            "\n",
            "--Number of edges: 28\n",
            "\n",
            "-- Explored edges:\n",
            " [[Edge: [0:1] 'small'] [Edge: [1:2] 'cats'] [Edge: [2:3] 'and']\n",
            " [Edge: [3:4] 'mice'] [Edge: [0:1] JJ -> 'small' *]\n",
            " [Edge: [0:1] NP -> JJ * NNS] [Edge: [1:2] NNS -> 'cats' *]\n",
            " [Edge: [1:2] NP -> NNS *] [Edge: [1:2] NNS -> NNS * CC NNS]\n",
            " [Edge: [0:2] NP -> JJ NNS *] [Edge: [0:2] NP -> NP * CC NP]\n",
            " [Edge: [1:2] NP -> NP * CC NP] [Edge: [2:3] CC -> 'and' *]\n",
            " [Edge: [1:3] NNS -> NNS CC * NNS] [Edge: [0:3] NP -> NP CC * NP]\n",
            " [Edge: [1:3] NP -> NP CC * NP] [Edge: [3:4] NNS -> 'mice' *]\n",
            " [Edge: [3:4] NP -> NNS *] [Edge: [3:4] NNS -> NNS * CC NNS]\n",
            " [Edge: [1:4] NNS -> NNS CC NNS *] [Edge: [1:4] NP -> NNS *]\n",
            " [Edge: [1:4] NNS -> NNS * CC NNS] [Edge: [0:4] NP -> JJ NNS *]\n",
            " [Edge: [0:4] NP -> NP * CC NP] [Edge: [1:4] NP -> NP * CC NP]\n",
            " [Edge: [3:4] NP -> NP * CC NP] [Edge: [0:4] NP -> NP CC NP *]\n",
            " [Edge: [1:4] NP -> NP CC NP *]]\n",
            "\n",
            "--Number of trees:\n",
            " 1\n",
            "\n",
            "--Trees:\n",
            "---Tree 0:  (S\n",
            "  (NP (Adj lazy) (N cats))\n",
            "  (VP (V play) (PP (P with) (NP (N mice)))))\n",
            "\n",
            "\n"
          ]
        },
        {
          "output_type": "execute_result",
          "data": {
            "text/plain": [
              "Tree('S', [Tree('NP', [Tree('Adj', ['lazy']), Tree('N', ['cats'])]), Tree('VP', [Tree('V', ['play']), Tree('PP', [Tree('P', ['with']), Tree('NP', [Tree('N', ['mice'])])])])])"
            ],
            "image/svg+xml": "<svg baseProfile=\"full\" height=\"264px\" preserveAspectRatio=\"xMidYMid meet\" style=\"font-family: times, serif; font-weight: normal; font-style: normal; font-size: 16px;\" version=\"1.1\" viewBox=\"0,0,240.0,264.0\" width=\"240px\" xmlns=\"http://www.w3.org/2000/svg\" xmlns:ev=\"http://www.w3.org/2001/xml-events\" xmlns:xlink=\"http://www.w3.org/1999/xlink\"><defs /><svg width=\"100%\" x=\"0\" y=\"0px\"><defs /><text text-anchor=\"middle\" x=\"50%\" y=\"16px\">S</text></svg><svg width=\"40%\" x=\"0%\" y=\"48px\"><defs /><svg width=\"100%\" x=\"0\" y=\"0px\"><defs /><text text-anchor=\"middle\" x=\"50%\" y=\"16px\">NP</text></svg><svg width=\"50%\" x=\"0%\" y=\"48px\"><defs /><svg width=\"100%\" x=\"0\" y=\"0px\"><defs /><text text-anchor=\"middle\" x=\"50%\" y=\"16px\">Adj</text></svg><svg width=\"100%\" x=\"0%\" y=\"48px\"><defs /><svg width=\"100%\" x=\"0\" y=\"0px\"><defs /><text text-anchor=\"middle\" x=\"50%\" y=\"16px\">lazy</text></svg></svg><line stroke=\"black\" x1=\"50%\" x2=\"50%\" y1=\"19.2px\" y2=\"48px\" /></svg><line stroke=\"black\" x1=\"50%\" x2=\"25%\" y1=\"19.2px\" y2=\"48px\" /><svg width=\"50%\" x=\"50%\" y=\"48px\"><defs /><svg width=\"100%\" x=\"0\" y=\"0px\"><defs /><text text-anchor=\"middle\" x=\"50%\" y=\"16px\">N</text></svg><svg width=\"100%\" x=\"0%\" y=\"48px\"><defs /><svg width=\"100%\" x=\"0\" y=\"0px\"><defs /><text text-anchor=\"middle\" x=\"50%\" y=\"16px\">cats</text></svg></svg><line stroke=\"black\" x1=\"50%\" x2=\"50%\" y1=\"19.2px\" y2=\"48px\" /></svg><line stroke=\"black\" x1=\"50%\" x2=\"75%\" y1=\"19.2px\" y2=\"48px\" /></svg><line stroke=\"black\" x1=\"50%\" x2=\"20%\" y1=\"19.2px\" y2=\"48px\" /><svg width=\"60%\" x=\"40%\" y=\"48px\"><defs /><svg width=\"100%\" x=\"0\" y=\"0px\"><defs /><text text-anchor=\"middle\" x=\"50%\" y=\"16px\">VP</text></svg><svg width=\"33.3333%\" x=\"0%\" y=\"48px\"><defs /><svg width=\"100%\" x=\"0\" y=\"0px\"><defs /><text text-anchor=\"middle\" x=\"50%\" y=\"16px\">V</text></svg><svg width=\"100%\" x=\"0%\" y=\"48px\"><defs /><svg width=\"100%\" x=\"0\" y=\"0px\"><defs /><text text-anchor=\"middle\" x=\"50%\" y=\"16px\">play</text></svg></svg><line stroke=\"black\" x1=\"50%\" x2=\"50%\" y1=\"19.2px\" y2=\"48px\" /></svg><line stroke=\"black\" x1=\"50%\" x2=\"16.6667%\" y1=\"19.2px\" y2=\"48px\" /><svg width=\"66.6667%\" x=\"33.3333%\" y=\"48px\"><defs /><svg width=\"100%\" x=\"0\" y=\"0px\"><defs /><text text-anchor=\"middle\" x=\"50%\" y=\"16px\">PP</text></svg><svg width=\"50%\" x=\"0%\" y=\"48px\"><defs /><svg width=\"100%\" x=\"0\" y=\"0px\"><defs /><text text-anchor=\"middle\" x=\"50%\" y=\"16px\">P</text></svg><svg width=\"100%\" x=\"0%\" y=\"48px\"><defs /><svg width=\"100%\" x=\"0\" y=\"0px\"><defs /><text text-anchor=\"middle\" x=\"50%\" y=\"16px\">with</text></svg></svg><line stroke=\"black\" x1=\"50%\" x2=\"50%\" y1=\"19.2px\" y2=\"48px\" /></svg><line stroke=\"black\" x1=\"50%\" x2=\"25%\" y1=\"19.2px\" y2=\"48px\" /><svg width=\"50%\" x=\"50%\" y=\"48px\"><defs /><svg width=\"100%\" x=\"0\" y=\"0px\"><defs /><text text-anchor=\"middle\" x=\"50%\" y=\"16px\">NP</text></svg><svg width=\"100%\" x=\"0%\" y=\"48px\"><defs /><svg width=\"100%\" x=\"0\" y=\"0px\"><defs /><text text-anchor=\"middle\" x=\"50%\" y=\"16px\">N</text></svg><svg width=\"100%\" x=\"0%\" y=\"48px\"><defs /><svg width=\"100%\" x=\"0\" y=\"0px\"><defs /><text text-anchor=\"middle\" x=\"50%\" y=\"16px\">mice</text></svg></svg><line stroke=\"black\" x1=\"50%\" x2=\"50%\" y1=\"19.2px\" y2=\"48px\" /></svg><line stroke=\"black\" x1=\"50%\" x2=\"50%\" y1=\"19.2px\" y2=\"48px\" /></svg><line stroke=\"black\" x1=\"50%\" x2=\"75%\" y1=\"19.2px\" y2=\"48px\" /></svg><line stroke=\"black\" x1=\"50%\" x2=\"66.6667%\" y1=\"19.2px\" y2=\"48px\" /></svg><line stroke=\"black\" x1=\"50%\" x2=\"70%\" y1=\"19.2px\" y2=\"48px\" /></svg>"
          },
          "metadata": {},
          "execution_count": 169
        }
      ]
    },
    {
      "cell_type": "code",
      "source": [],
      "metadata": {
        "id": "SZs-gUuQZwIQ"
      },
      "execution_count": null,
      "outputs": []
    }
  ],
  "metadata": {
    "colab": {
      "provenance": []
    },
    "kernelspec": {
      "display_name": "IHLT",
      "language": "python",
      "name": "ihlt"
    },
    "language_info": {
      "codemirror_mode": {
        "name": "ipython",
        "version": 3
      },
      "file_extension": ".py",
      "mimetype": "text/x-python",
      "name": "python",
      "nbconvert_exporter": "python",
      "pygments_lexer": "ipython3",
      "version": "3.9.13"
    },
    "vscode": {
      "interpreter": {
        "hash": "0795eca24a98e58b2dcbec80c9554a91f94c5c7d4e675f06c8c2f85c434623a5"
      }
    }
  },
  "nbformat": 4,
  "nbformat_minor": 0
}