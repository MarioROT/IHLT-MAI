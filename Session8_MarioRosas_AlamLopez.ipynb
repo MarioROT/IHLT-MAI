{
  "cells": [
    {
      "cell_type": "markdown",
      "metadata": {
        "id": "view-in-github",
        "colab_type": "text"
      },
      "source": [
        "<a href=\"https://colab.research.google.com/github/MarioROT/IHLT-MAI/blob/main/Session8_MarioRosas_AlamLopez.ipynb\" target=\"_parent\"><img src=\"https://colab.research.google.com/assets/colab-badge.svg\" alt=\"Open In Colab\"/></a>"
      ]
    },
    {
      "cell_type": "markdown",
      "metadata": {
        "id": "LpEp-jhafvsx"
      },
      "source": [
        "# Lab session 8 (Syntactic Parser) - IHLT\n",
        "\n",
        "**Students:**\n",
        "- Mario Rosas\n",
        "- Alam Lopez\n",
        "\n",
        "**Lab Professor:** Salvador Medina Herrera"
      ]
    },
    {
      "cell_type": "markdown",
      "metadata": {
        "id": "l0LXucmalIYk"
      },
      "source": [
        "## Paraphrases Template"
      ]
    },
    {
      "cell_type": "code",
      "source": [
        "%%shell\n",
        "git clone https://github.com/mariorot/IHLT-MAI.git\n",
        "cd 'IHLT-MAI'\n",
        "mv 'complementary_material' /content/\n",
        "mv scripts /content/\n",
        "pip install svgling\n",
        "pip install python-crfsuite"
      ],
      "metadata": {
        "id": "Glnj4tzcrkGJ",
        "outputId": "f347d4fe-c321-4b50-82c4-966bd4760c40",
        "colab": {
          "base_uri": "https://localhost:8080/"
        }
      },
      "execution_count": 37,
      "outputs": [
        {
          "output_type": "stream",
          "name": "stdout",
          "text": [
            "Cloning into 'IHLT-MAI'...\n",
            "remote: Enumerating objects: 402, done.\u001b[K\n",
            "remote: Counting objects: 100% (21/21), done.\u001b[K\n",
            "remote: Compressing objects: 100% (9/9), done.\u001b[K\n",
            "remote: Total 402 (delta 16), reused 12 (delta 12), pack-reused 381\u001b[K\n",
            "Receiving objects: 100% (402/402), 325.83 KiB | 17.15 MiB/s, done.\n",
            "Resolving deltas: 100% (239/239), done.\n",
            "Requirement already satisfied: svgling in /usr/local/lib/python3.10/dist-packages (0.4.0)\n",
            "Requirement already satisfied: svgwrite in /usr/local/lib/python3.10/dist-packages (from svgling) (1.4.3)\n",
            "Collecting python-crfsuite\n",
            "  Downloading python_crfsuite-0.9.9-cp310-cp310-manylinux_2_17_x86_64.manylinux2014_x86_64.whl (993 kB)\n",
            "\u001b[2K     \u001b[90m━━━━━━━━━━━━━━━━━━━━━━━━━━━━━━━━━━━━━━━━\u001b[0m \u001b[32m993.5/993.5 kB\u001b[0m \u001b[31m17.7 MB/s\u001b[0m eta \u001b[36m0:00:00\u001b[0m\n",
            "\u001b[?25hInstalling collected packages: python-crfsuite\n",
            "Successfully installed python-crfsuite-0.9.9\n"
          ]
        },
        {
          "output_type": "execute_result",
          "data": {
            "text/plain": []
          },
          "metadata": {},
          "execution_count": 37
        }
      ]
    },
    {
      "cell_type": "code",
      "source": [
        "import nltk\n",
        "from nltk import CFG, ChartParser, BottomUpChartParser, BottomUpLeftCornerChartParser, LeftCornerChartParser\n",
        "import svgling\n",
        "from scripts.text_preprocessing import TextPreprocessing\n",
        "import string"
      ],
      "metadata": {
        "id": "ZUbLSXbZWrbD",
        "outputId": "46477ff9-ebfd-4694-935c-a721839b9a1a",
        "colab": {
          "base_uri": "https://localhost:8080/"
        }
      },
      "execution_count": 38,
      "outputs": [
        {
          "output_type": "stream",
          "name": "stderr",
          "text": [
            "[nltk_data] Downloading package stopwords to /root/nltk_data...\n",
            "[nltk_data]   Unzipping corpora/stopwords.zip.\n",
            "[nltk_data] Downloading package punkt to /root/nltk_data...\n",
            "[nltk_data]   Unzipping tokenizers/punkt.zip.\n",
            "[nltk_data] Downloading package averaged_perceptron_tagger to\n",
            "[nltk_data]     /root/nltk_data...\n",
            "[nltk_data]   Unzipping taggers/averaged_perceptron_tagger.zip.\n",
            "[nltk_data] Downloading package treebank to /root/nltk_data...\n",
            "[nltk_data]   Unzipping corpora/treebank.zip.\n",
            "[nltk_data] Downloading package wordnet to /root/nltk_data...\n",
            "[nltk_data] Downloading package omw-1.4 to /root/nltk_data...\n",
            "[nltk_data] Downloading package wordnet_ic to /root/nltk_data...\n",
            "[nltk_data]   Unzipping corpora/wordnet_ic.zip.\n"
          ]
        }
      ]
    },
    {
      "cell_type": "markdown",
      "source": [
        "## TODO\n",
        "\n",
        "- Consider the following sentence: **Lazy cats play with mice.**\n",
        "\n",
        "- Expand the grammar of the example related to non-probabilistic chart parsers in order to subsume this new sentence.\n",
        "\n",
        "- Perform the constituency parsing using a BottomUpChartParser, a BottomUpLeftCornerChartParser and a LeftCornerChartParser.\n",
        "\n",
        "- For each one of them, provide the resulting tree, the number of edges and the list of explored edges.\n",
        "\n",
        "- Which parser is the most efficient for parsing the sentence?\n",
        "\n",
        "- Which edges are filtered out by each parser and why?"
      ],
      "metadata": {
        "id": "xAYq3TUOVrIa"
      }
    },
    {
      "cell_type": "markdown",
      "source": [
        "#### Failed attempt to generate grammar automatically"
      ],
      "metadata": {
        "id": "xnIH_NH2Iubw"
      }
    },
    {
      "cell_type": "code",
      "source": [
        "def sentence_to_cfg(sentence):\n",
        "    words = TextPreprocessing().clean_sentence(sentence, signs=string.punctuation)\n",
        "    pos_tags = nltk.pos_tag(words)\n",
        "\n",
        "    productions = []\n",
        "\n",
        "    for i in range(len(pos_tags)):\n",
        "        productions.append(f\"Word_{i} -> '{words[i]}'\")\n",
        "        productions.append(f\"POS_{i} -> '{pos_tags[i][1]}'\")\n",
        "\n",
        "    for i in range(len(pos_tags) - 1):\n",
        "        productions.append(f\"Phrase_{i} -> Word_{i} | POS_{i}\")\n",
        "        productions.append(f\"Sentence -> Phrase_{i} Phrase_{i+1}\")\n",
        "\n",
        "    cfg_string = \"\\n\".join(productions)\n",
        "\n",
        "    return CFG.fromstring(cfg_string)\n",
        "\n",
        "# Example sentence\n",
        "sentence = \"The cat chased the mouse\"\n",
        "\n",
        "# Convert sentence to CFG\n",
        "cfg = sentence_to_cfg(sentence)\n",
        "\n",
        "# Print the CFG\n",
        "print(cfg)"
      ],
      "metadata": {
        "id": "Ka9SKA7NRHEf",
        "outputId": "22784d59-b8fd-446d-9332-1d1a4c19b678",
        "colab": {
          "base_uri": "https://localhost:8080/"
        }
      },
      "execution_count": 48,
      "outputs": [
        {
          "output_type": "stream",
          "name": "stdout",
          "text": [
            "Grammar with 22 productions (start state = Word_0)\n",
            "    Word_0 -> 'the'\n",
            "    POS_0 -> 'DT'\n",
            "    Word_1 -> 'cat'\n",
            "    POS_1 -> 'NN'\n",
            "    Word_2 -> 'chased'\n",
            "    POS_2 -> 'VBD'\n",
            "    Word_3 -> 'the'\n",
            "    POS_3 -> 'DT'\n",
            "    Word_4 -> 'mouse'\n",
            "    POS_4 -> 'NN'\n",
            "    Phrase_0 -> Word_0\n",
            "    Phrase_0 -> POS_0\n",
            "    Sentence -> Phrase_0 Phrase_1\n",
            "    Phrase_1 -> Word_1\n",
            "    Phrase_1 -> POS_1\n",
            "    Sentence -> Phrase_1 Phrase_2\n",
            "    Phrase_2 -> Word_2\n",
            "    Phrase_2 -> POS_2\n",
            "    Sentence -> Phrase_2 Phrase_3\n",
            "    Phrase_3 -> Word_3\n",
            "    Phrase_3 -> POS_3\n",
            "    Sentence -> Phrase_3 Phrase_4\n"
          ]
        }
      ]
    },
    {
      "cell_type": "markdown",
      "source": [
        "#### Introducing grammar manually"
      ],
      "metadata": {
        "id": "Iy4hc2KTI1ls"
      }
    },
    {
      "cell_type": "code",
      "source": [
        "class sentence_to_cfg_parsing():\n",
        "    def __init__(self, grammar):\n",
        "      self.grammar = grammar\n",
        "      self.pMethods = {'chart':ChartParser,\n",
        "                       'bottomUp':BottomUpChartParser,\n",
        "                       'bottomUpLeft':BottomUpLeftCornerChartParser,\n",
        "                       'left': LeftCornerChartParser}\n",
        "\n",
        "    def parse(self, sentence, method, rTree=0, verbose = False):\n",
        "      print(f\"---------- Using {method}\")\n",
        "      words = TextPreprocessing().clean_sentence(sentence, signs=string.punctuation)\n",
        "      pos_tags = nltk.pos_tag(words)\n",
        "\n",
        "      if verbose:\n",
        "        print(\"\\nPart of Speech of the sentence: \", pos_tags)\n",
        "\n",
        "      parser = self.pMethods[method](self.grammar, trace=1)\n",
        "      print('\\n-- Char Parse')\n",
        "      cparse = parser.chart_parse(words)\n",
        "      print('\\n-- Parse')\n",
        "      parse = parser.parse(words)\n",
        "      print(f'\\n Number of edges: {cparse.num_edges()}')\n",
        "      print(f'\\n Explored edges:\\n {cparse.edges()}')\n",
        "      trees = list(parse)\n",
        "      print(f'\\n Number of trees:\\n {len(trees)}')\n",
        "      for i, tree in enumerate(trees):\n",
        "        print(f'Tree {i}: ', tree)\n",
        "\n",
        "      print(\"\\n\\n\")\n",
        "\n",
        "      return trees[rTree]"
      ],
      "metadata": {
        "id": "QZnFM-rKI9Tb"
      },
      "execution_count": 96,
      "outputs": []
    },
    {
      "cell_type": "code",
      "source": [
        "grammar = CFG.fromstring('''\n",
        "  NP  -> NNS | JJ NNS | NP CC NP\n",
        "  NNS -> \"cats\" | \"dogs\" | \"mice\" | NNS CC NNS\n",
        "  JJ  -> \"big\" | \"small\"\n",
        "  CC  -> \"and\" | \"or\"\n",
        "  ''')\n",
        "CFGParse = sentence_to_cfg_parsing(grammar)"
      ],
      "metadata": {
        "id": "7XEqFOpYOKA5"
      },
      "execution_count": 93,
      "outputs": []
    },
    {
      "cell_type": "code",
      "source": [
        "s1=\"Lazy cats play with mice\"\n",
        "s2=\"Lazy cats and mice\"\n",
        "s3=\"small cats and mice\"\n"
      ],
      "metadata": {
        "id": "6KUxt_9CzTTv"
      },
      "execution_count": 94,
      "outputs": []
    },
    {
      "cell_type": "code",
      "source": [
        "CFGParse.parse(s3, 'chart', 1, True)"
      ],
      "metadata": {
        "id": "-SuM3JKeVJAv",
        "outputId": "0ad498e3-1cd3-4d60-c389-c717669df224",
        "colab": {
          "base_uri": "https://localhost:8080/",
          "height": 1000
        }
      },
      "execution_count": 97,
      "outputs": [
        {
          "output_type": "stream",
          "name": "stdout",
          "text": [
            "---------- Using chart\n",
            "\n",
            "Part of Speech of the sentence:  [('small', 'JJ'), ('cats', 'NNS'), ('and', 'CC'), ('mice', 'NN')]\n",
            "\n",
            "-- Char Parse\n",
            "|.  small  .   cats  .   and   .   mice  .|\n",
            "|[---------]         .         .         .| [0:1] 'small'\n",
            "|.         [---------]         .         .| [1:2] 'cats'\n",
            "|.         .         [---------]         .| [2:3] 'and'\n",
            "|.         .         .         [---------]| [3:4] 'mice'\n",
            "|[---------]         .         .         .| [0:1] JJ -> 'small' *\n",
            "|[--------->         .         .         .| [0:1] NP -> JJ * NNS\n",
            "|.         [---------]         .         .| [1:2] NNS -> 'cats' *\n",
            "|.         [---------]         .         .| [1:2] NP -> NNS *\n",
            "|.         [--------->         .         .| [1:2] NNS -> NNS * CC NNS\n",
            "|[-------------------]         .         .| [0:2] NP -> JJ NNS *\n",
            "|[------------------->         .         .| [0:2] NP -> NP * CC NP\n",
            "|.         [--------->         .         .| [1:2] NP -> NP * CC NP\n",
            "|.         .         [---------]         .| [2:3] CC -> 'and' *\n",
            "|.         [------------------->         .| [1:3] NNS -> NNS CC * NNS\n",
            "|[----------------------------->         .| [0:3] NP -> NP CC * NP\n",
            "|.         [------------------->         .| [1:3] NP -> NP CC * NP\n",
            "|.         .         .         [---------]| [3:4] NNS -> 'mice' *\n",
            "|.         .         .         [---------]| [3:4] NP -> NNS *\n",
            "|.         .         .         [--------->| [3:4] NNS -> NNS * CC NNS\n",
            "|.         [-----------------------------]| [1:4] NNS -> NNS CC NNS *\n",
            "|.         [-----------------------------]| [1:4] NP -> NNS *\n",
            "|.         [----------------------------->| [1:4] NNS -> NNS * CC NNS\n",
            "|[=======================================]| [0:4] NP -> JJ NNS *\n",
            "|[--------------------------------------->| [0:4] NP -> NP * CC NP\n",
            "|.         [----------------------------->| [1:4] NP -> NP * CC NP\n",
            "|.         .         .         [--------->| [3:4] NP -> NP * CC NP\n",
            "|[=======================================]| [0:4] NP -> NP CC NP *\n",
            "|.         [-----------------------------]| [1:4] NP -> NP CC NP *\n",
            "|.         [----------------------------->| [1:4] NP -> NP * CC NP\n",
            "|[--------------------------------------->| [0:4] NP -> NP * CC NP\n",
            "\n",
            "-- Parse\n",
            "|.  small  .   cats  .   and   .   mice  .|\n",
            "|[---------]         .         .         .| [0:1] 'small'\n",
            "|.         [---------]         .         .| [1:2] 'cats'\n",
            "|.         .         [---------]         .| [2:3] 'and'\n",
            "|.         .         .         [---------]| [3:4] 'mice'\n",
            "|[---------]         .         .         .| [0:1] JJ -> 'small' *\n",
            "|[--------->         .         .         .| [0:1] NP -> JJ * NNS\n",
            "|.         [---------]         .         .| [1:2] NNS -> 'cats' *\n",
            "|.         [---------]         .         .| [1:2] NP -> NNS *\n",
            "|.         [--------->         .         .| [1:2] NNS -> NNS * CC NNS\n",
            "|[-------------------]         .         .| [0:2] NP -> JJ NNS *\n",
            "|[------------------->         .         .| [0:2] NP -> NP * CC NP\n",
            "|.         [--------->         .         .| [1:2] NP -> NP * CC NP\n",
            "|.         .         [---------]         .| [2:3] CC -> 'and' *\n",
            "|.         [------------------->         .| [1:3] NNS -> NNS CC * NNS\n",
            "|[----------------------------->         .| [0:3] NP -> NP CC * NP\n",
            "|.         [------------------->         .| [1:3] NP -> NP CC * NP\n",
            "|.         .         .         [---------]| [3:4] NNS -> 'mice' *\n",
            "|.         .         .         [---------]| [3:4] NP -> NNS *\n",
            "|.         .         .         [--------->| [3:4] NNS -> NNS * CC NNS\n",
            "|.         [-----------------------------]| [1:4] NNS -> NNS CC NNS *\n",
            "|.         [-----------------------------]| [1:4] NP -> NNS *\n",
            "|.         [----------------------------->| [1:4] NNS -> NNS * CC NNS\n",
            "|[=======================================]| [0:4] NP -> JJ NNS *\n",
            "|[--------------------------------------->| [0:4] NP -> NP * CC NP\n",
            "|.         [----------------------------->| [1:4] NP -> NP * CC NP\n",
            "|.         .         .         [--------->| [3:4] NP -> NP * CC NP\n",
            "|[=======================================]| [0:4] NP -> NP CC NP *\n",
            "|.         [-----------------------------]| [1:4] NP -> NP CC NP *\n",
            "|.         [----------------------------->| [1:4] NP -> NP * CC NP\n",
            "|[--------------------------------------->| [0:4] NP -> NP * CC NP\n",
            "\n",
            " Number of edges: 28\n",
            "\n",
            " Explores edges:\n",
            " [[Edge: [0:1] 'small'], [Edge: [1:2] 'cats'], [Edge: [2:3] 'and'], [Edge: [3:4] 'mice'], [Edge: [0:1] JJ -> 'small' *], [Edge: [0:1] NP -> JJ * NNS], [Edge: [1:2] NNS -> 'cats' *], [Edge: [1:2] NP -> NNS *], [Edge: [1:2] NNS -> NNS * CC NNS], [Edge: [0:2] NP -> JJ NNS *], [Edge: [0:2] NP -> NP * CC NP], [Edge: [1:2] NP -> NP * CC NP], [Edge: [2:3] CC -> 'and' *], [Edge: [1:3] NNS -> NNS CC * NNS], [Edge: [0:3] NP -> NP CC * NP], [Edge: [1:3] NP -> NP CC * NP], [Edge: [3:4] NNS -> 'mice' *], [Edge: [3:4] NP -> NNS *], [Edge: [3:4] NNS -> NNS * CC NNS], [Edge: [1:4] NNS -> NNS CC NNS *], [Edge: [1:4] NP -> NNS *], [Edge: [1:4] NNS -> NNS * CC NNS], [Edge: [0:4] NP -> JJ NNS *], [Edge: [0:4] NP -> NP * CC NP], [Edge: [1:4] NP -> NP * CC NP], [Edge: [3:4] NP -> NP * CC NP], [Edge: [0:4] NP -> NP CC NP *], [Edge: [1:4] NP -> NP CC NP *]]\n",
            "\n",
            " Number of trees:\n",
            " 2\n",
            "Tree 0:  (NP (JJ small) (NNS (NNS cats) (CC and) (NNS mice)))\n",
            "Tree 1:  (NP (NP (JJ small) (NNS cats)) (CC and) (NP (NNS mice)))\n",
            "\n",
            "\n",
            "\n"
          ]
        },
        {
          "output_type": "execute_result",
          "data": {
            "text/plain": [
              "Tree('NP', [Tree('NP', [Tree('JJ', ['small']), Tree('NNS', ['cats'])]), Tree('CC', ['and']), Tree('NP', [Tree('NNS', ['mice'])])])"
            ],
            "image/svg+xml": "<svg baseProfile=\"full\" height=\"168px\" preserveAspectRatio=\"xMidYMid meet\" style=\"font-family: times, serif; font-weight: normal; font-style: normal; font-size: 16px;\" version=\"1.1\" viewBox=\"0,0,192.0,168.0\" width=\"192px\" xmlns=\"http://www.w3.org/2000/svg\" xmlns:ev=\"http://www.w3.org/2001/xml-events\" xmlns:xlink=\"http://www.w3.org/1999/xlink\"><defs /><svg width=\"100%\" x=\"0\" y=\"0px\"><defs /><text text-anchor=\"middle\" x=\"50%\" y=\"16px\">NP</text></svg><svg width=\"54.1667%\" x=\"0%\" y=\"48px\"><defs /><svg width=\"100%\" x=\"0\" y=\"0px\"><defs /><text text-anchor=\"middle\" x=\"50%\" y=\"16px\">NP</text></svg><svg width=\"53.8462%\" x=\"0%\" y=\"48px\"><defs /><svg width=\"100%\" x=\"0\" y=\"0px\"><defs /><text text-anchor=\"middle\" x=\"50%\" y=\"16px\">JJ</text></svg><svg width=\"100%\" x=\"0%\" y=\"48px\"><defs /><svg width=\"100%\" x=\"0\" y=\"0px\"><defs /><text text-anchor=\"middle\" x=\"50%\" y=\"16px\">small</text></svg></svg><line stroke=\"black\" x1=\"50%\" x2=\"50%\" y1=\"19.2px\" y2=\"48px\" /></svg><line stroke=\"black\" x1=\"50%\" x2=\"26.9231%\" y1=\"19.2px\" y2=\"48px\" /><svg width=\"46.1538%\" x=\"53.8462%\" y=\"48px\"><defs /><svg width=\"100%\" x=\"0\" y=\"0px\"><defs /><text text-anchor=\"middle\" x=\"50%\" y=\"16px\">NNS</text></svg><svg width=\"100%\" x=\"0%\" y=\"48px\"><defs /><svg width=\"100%\" x=\"0\" y=\"0px\"><defs /><text text-anchor=\"middle\" x=\"50%\" y=\"16px\">cats</text></svg></svg><line stroke=\"black\" x1=\"50%\" x2=\"50%\" y1=\"19.2px\" y2=\"48px\" /></svg><line stroke=\"black\" x1=\"50%\" x2=\"76.9231%\" y1=\"19.2px\" y2=\"48px\" /></svg><line stroke=\"black\" x1=\"50%\" x2=\"27.0833%\" y1=\"19.2px\" y2=\"48px\" /><svg width=\"20.8333%\" x=\"54.1667%\" y=\"48px\"><defs /><svg width=\"100%\" x=\"0\" y=\"0px\"><defs /><text text-anchor=\"middle\" x=\"50%\" y=\"16px\">CC</text></svg><svg width=\"100%\" x=\"0%\" y=\"48px\"><defs /><svg width=\"100%\" x=\"0\" y=\"0px\"><defs /><text text-anchor=\"middle\" x=\"50%\" y=\"16px\">and</text></svg></svg><line stroke=\"black\" x1=\"50%\" x2=\"50%\" y1=\"19.2px\" y2=\"48px\" /></svg><line stroke=\"black\" x1=\"50%\" x2=\"64.5833%\" y1=\"19.2px\" y2=\"48px\" /><svg width=\"25%\" x=\"75%\" y=\"48px\"><defs /><svg width=\"100%\" x=\"0\" y=\"0px\"><defs /><text text-anchor=\"middle\" x=\"50%\" y=\"16px\">NP</text></svg><svg width=\"100%\" x=\"0%\" y=\"48px\"><defs /><svg width=\"100%\" x=\"0\" y=\"0px\"><defs /><text text-anchor=\"middle\" x=\"50%\" y=\"16px\">NNS</text></svg><svg width=\"100%\" x=\"0%\" y=\"48px\"><defs /><svg width=\"100%\" x=\"0\" y=\"0px\"><defs /><text text-anchor=\"middle\" x=\"50%\" y=\"16px\">mice</text></svg></svg><line stroke=\"black\" x1=\"50%\" x2=\"50%\" y1=\"19.2px\" y2=\"48px\" /></svg><line stroke=\"black\" x1=\"50%\" x2=\"50%\" y1=\"19.2px\" y2=\"48px\" /></svg><line stroke=\"black\" x1=\"50%\" x2=\"87.5%\" y1=\"19.2px\" y2=\"48px\" /></svg>"
          },
          "metadata": {},
          "execution_count": 97
        }
      ]
    },
    {
      "cell_type": "code",
      "source": [
        "from nltk import TopDownChartParser\n",
        "parser = nltk.TopDownChartParser(grammar)\n",
        "parse = parser.parse(sent)"
      ],
      "metadata": {
        "id": "dpCmqrDuLmTF"
      },
      "execution_count": null,
      "outputs": []
    },
    {
      "cell_type": "code",
      "source": [
        "import nltk\n",
        "from nltk import CFG\n",
        "\n",
        "def sentence_to_cfg(sentence):\n",
        "    words = nltk.word_tokenize(sentence)\n",
        "    pos_tags = nltk.pos_tag(words)\n",
        "\n",
        "    productions = []\n",
        "\n",
        "    for i in range(len(pos_tags)):\n",
        "        productions.append(f\"Word_{i} -> '{words[i]}'\")\n",
        "        productions.append(f\"POS_{i} -> '{pos_tags[i][1]}'\")\n",
        "\n",
        "    for i in range(len(pos_tags) - 1):\n",
        "        productions.append(f\"Phrase_{i} -> Word_{i} | POS_{i}\")\n",
        "        productions.append(f\"Sentence -> Phrase_{i} Phrase_{i+1}\")\n",
        "\n",
        "    cfg_string = \"\\n\".join(productions)\n",
        "\n",
        "    return CFG.fromstring(cfg_string)\n",
        "\n",
        "# Example sentence\n",
        "sentence = \"The cat chased the mouse\"\n",
        "\n",
        "# Convert sentence to CFG\n",
        "cfg = sentence_to_cfg(sentence)\n",
        "\n",
        "# Print the CFG\n",
        "print(cfg)"
      ],
      "metadata": {
        "id": "C2fqZsTzytW1",
        "outputId": "213876eb-895d-4114-eef4-d5b79f653295",
        "colab": {
          "base_uri": "https://localhost:8080/"
        }
      },
      "execution_count": null,
      "outputs": [
        {
          "output_type": "stream",
          "name": "stdout",
          "text": [
            "Grammar with 22 productions (start state = Word_0)\n",
            "    Word_0 -> 'The'\n",
            "    POS_0 -> 'DT'\n",
            "    Word_1 -> 'cat'\n",
            "    POS_1 -> 'NN'\n",
            "    Word_2 -> 'chased'\n",
            "    POS_2 -> 'VBD'\n",
            "    Word_3 -> 'the'\n",
            "    POS_3 -> 'DT'\n",
            "    Word_4 -> 'mouse'\n",
            "    POS_4 -> 'NN'\n",
            "    Phrase_0 -> Word_0\n",
            "    Phrase_0 -> POS_0\n",
            "    Sentence -> Phrase_0 Phrase_1\n",
            "    Phrase_1 -> Word_1\n",
            "    Phrase_1 -> POS_1\n",
            "    Sentence -> Phrase_1 Phrase_2\n",
            "    Phrase_2 -> Word_2\n",
            "    Phrase_2 -> POS_2\n",
            "    Sentence -> Phrase_2 Phrase_3\n",
            "    Phrase_3 -> Word_3\n",
            "    Phrase_3 -> POS_3\n",
            "    Sentence -> Phrase_3 Phrase_4\n"
          ]
        }
      ]
    },
    {
      "cell_type": "markdown",
      "source": [
        "# Tests"
      ],
      "metadata": {
        "id": "TzNK_MoavstJ"
      }
    },
    {
      "cell_type": "code",
      "source": [
        "import nltk"
      ],
      "metadata": {
        "id": "9fodDJ0Jvr5p"
      },
      "execution_count": 2,
      "outputs": []
    },
    {
      "cell_type": "code",
      "source": [
        "groucho_grammar = nltk.CFG.fromstring(\"\"\"\n",
        "S -> NP VP\n",
        "PP -> P NP\n",
        "NP -> Det N | Det N PP | 'I'\n",
        "VP -> V NP | VP PP\n",
        "Det -> 'an' | 'my'\n",
        "N -> 'elephant' | 'pajamas'\n",
        "V -> 'shot'\n",
        "P -> 'in'\n",
        "\"\"\")"
      ],
      "metadata": {
        "id": "ymCqIN2evxox"
      },
      "execution_count": 3,
      "outputs": []
    },
    {
      "cell_type": "code",
      "source": [
        "groucho_grammar"
      ],
      "metadata": {
        "id": "eowaGNrHvzka",
        "outputId": "66e5919c-2a68-4651-912c-910410566e59",
        "colab": {
          "base_uri": "https://localhost:8080/"
        }
      },
      "execution_count": 4,
      "outputs": [
        {
          "output_type": "execute_result",
          "data": {
            "text/plain": [
              "<Grammar with 13 productions>"
            ]
          },
          "metadata": {},
          "execution_count": 4
        }
      ]
    },
    {
      "cell_type": "code",
      "source": [
        "type(groucho_grammar)"
      ],
      "metadata": {
        "id": "m3nt9XIWv2Wl",
        "outputId": "1a4fcc43-e1ed-48de-b7b3-acb7d9279e84",
        "colab": {
          "base_uri": "https://localhost:8080/"
        }
      },
      "execution_count": 5,
      "outputs": [
        {
          "output_type": "execute_result",
          "data": {
            "text/plain": [
              "nltk.grammar.CFG"
            ]
          },
          "metadata": {},
          "execution_count": 5
        }
      ]
    },
    {
      "cell_type": "code",
      "source": [
        "groucho_grammar.start()"
      ],
      "metadata": {
        "id": "Bu7v0bE6v3nO",
        "outputId": "41397415-5b04-4515-fef5-023b6ad65f39",
        "colab": {
          "base_uri": "https://localhost:8080/"
        }
      },
      "execution_count": 6,
      "outputs": [
        {
          "output_type": "execute_result",
          "data": {
            "text/plain": [
              "S"
            ]
          },
          "metadata": {},
          "execution_count": 6
        }
      ]
    },
    {
      "cell_type": "code",
      "source": [
        "groucho_grammar.productions()"
      ],
      "metadata": {
        "id": "5GmNJv93v5ci",
        "outputId": "f2929970-eda7-40e3-f3c8-f5cf28d121f0",
        "colab": {
          "base_uri": "https://localhost:8080/"
        }
      },
      "execution_count": 7,
      "outputs": [
        {
          "output_type": "execute_result",
          "data": {
            "text/plain": [
              "[S -> NP VP,\n",
              " PP -> P NP,\n",
              " NP -> Det N,\n",
              " NP -> Det N PP,\n",
              " NP -> 'I',\n",
              " VP -> V NP,\n",
              " VP -> VP PP,\n",
              " Det -> 'an',\n",
              " Det -> 'my',\n",
              " N -> 'elephant',\n",
              " N -> 'pajamas',\n",
              " V -> 'shot',\n",
              " P -> 'in']"
            ]
          },
          "metadata": {},
          "execution_count": 7
        }
      ]
    },
    {
      "cell_type": "code",
      "source": [
        "from nltk.grammar import *\n",
        "groucho_grammar.productions(lhs=Nonterminal(\"NP\"))"
      ],
      "metadata": {
        "id": "sEpucdVWv8ni",
        "outputId": "47f9233b-9c6f-4086-d0e7-d3a8004a7e29",
        "colab": {
          "base_uri": "https://localhost:8080/"
        }
      },
      "execution_count": 8,
      "outputs": [
        {
          "output_type": "execute_result",
          "data": {
            "text/plain": [
              "[NP -> Det N, NP -> Det N PP, NP -> 'I']"
            ]
          },
          "metadata": {},
          "execution_count": 8
        }
      ]
    },
    {
      "cell_type": "code",
      "source": [
        "groucho_grammar.productions(rhs=Nonterminal(\"Det\"))"
      ],
      "metadata": {
        "id": "IgCpq4fnv-7t",
        "outputId": "5f68c82d-5f70-4eff-db58-a556a6e57471",
        "colab": {
          "base_uri": "https://localhost:8080/"
        }
      },
      "execution_count": 9,
      "outputs": [
        {
          "output_type": "execute_result",
          "data": {
            "text/plain": [
              "[NP -> Det N, NP -> Det N PP]"
            ]
          },
          "metadata": {},
          "execution_count": 9
        }
      ]
    },
    {
      "cell_type": "code",
      "source": [
        "pp = groucho_grammar.productions(rhs=Nonterminal(\"Det\"))\n",
        "pp[0]"
      ],
      "metadata": {
        "id": "3bNkcffTwAgN",
        "outputId": "4abcd5d5-0ae2-48df-d95d-cbfdf97c49b7",
        "colab": {
          "base_uri": "https://localhost:8080/"
        }
      },
      "execution_count": 10,
      "outputs": [
        {
          "output_type": "execute_result",
          "data": {
            "text/plain": [
              "NP -> Det N"
            ]
          },
          "metadata": {},
          "execution_count": 10
        }
      ]
    },
    {
      "cell_type": "code",
      "source": [
        "pp[0].lhs()"
      ],
      "metadata": {
        "id": "nqiS5SkOwCcI",
        "outputId": "96833061-8f20-460d-a2ee-5d1dcdddd3d5",
        "colab": {
          "base_uri": "https://localhost:8080/"
        }
      },
      "execution_count": 11,
      "outputs": [
        {
          "output_type": "execute_result",
          "data": {
            "text/plain": [
              "NP"
            ]
          },
          "metadata": {},
          "execution_count": 11
        }
      ]
    },
    {
      "cell_type": "code",
      "source": [
        "pp[0].rhs()"
      ],
      "metadata": {
        "id": "Vt1VPH_MwGDd",
        "outputId": "99ee4b34-c3f6-4497-885e-b4434708dd4c",
        "colab": {
          "base_uri": "https://localhost:8080/"
        }
      },
      "execution_count": 12,
      "outputs": [
        {
          "output_type": "execute_result",
          "data": {
            "text/plain": [
              "(Det, N)"
            ]
          },
          "metadata": {},
          "execution_count": 12
        }
      ]
    },
    {
      "cell_type": "code",
      "source": [
        "sent = ['I', 'shot', 'an', 'elephant', 'in', 'my', 'pajamas']\n",
        "parser = nltk.ChartParser(groucho_grammar)\n",
        "trees = list(parser.parse(sent))"
      ],
      "metadata": {
        "id": "DDGnTJJ3wGl9"
      },
      "execution_count": 13,
      "outputs": []
    },
    {
      "cell_type": "code",
      "source": [
        "print(trees[0])"
      ],
      "metadata": {
        "id": "Ds07ARpdwIaP",
        "outputId": "0c22e2a5-559b-4b52-b33c-e783441d828f",
        "colab": {
          "base_uri": "https://localhost:8080/"
        }
      },
      "execution_count": 14,
      "outputs": [
        {
          "output_type": "stream",
          "name": "stdout",
          "text": [
            "(S\n",
            "  (NP I)\n",
            "  (VP\n",
            "    (VP (V shot) (NP (Det an) (N elephant)))\n",
            "    (PP (P in) (NP (Det my) (N pajamas)))))\n"
          ]
        }
      ]
    },
    {
      "cell_type": "code",
      "source": [
        "type(trees[0])"
      ],
      "metadata": {
        "id": "j7ZCnfAxwJuU",
        "outputId": "0f81fdc8-d48b-425a-fe27-46f3e2af11f1",
        "colab": {
          "base_uri": "https://localhost:8080/"
        }
      },
      "execution_count": 15,
      "outputs": [
        {
          "output_type": "execute_result",
          "data": {
            "text/plain": [
              "nltk.tree.tree.Tree"
            ]
          },
          "metadata": {},
          "execution_count": 15
        }
      ]
    },
    {
      "cell_type": "code",
      "source": [
        "trees[0]"
      ],
      "metadata": {
        "id": "CDphv1twwLtV",
        "outputId": "de0c82df-4a57-42ba-e950-bdbb62bc18b9",
        "colab": {
          "base_uri": "https://localhost:8080/",
          "height": 285
        }
      },
      "execution_count": 16,
      "outputs": [
        {
          "output_type": "execute_result",
          "data": {
            "text/plain": [
              "Tree('S', [Tree('NP', ['I']), Tree('VP', [Tree('VP', [Tree('V', ['shot']), Tree('NP', [Tree('Det', ['an']), Tree('N', ['elephant'])])]), Tree('PP', [Tree('P', ['in']), Tree('NP', [Tree('Det', ['my']), Tree('N', ['pajamas'])])])])])"
            ],
            "image/svg+xml": "<svg baseProfile=\"full\" height=\"264px\" preserveAspectRatio=\"xMidYMid meet\" style=\"font-family: times, serif; font-weight: normal; font-style: normal; font-size: 16px;\" version=\"1.1\" viewBox=\"0,0,344.0,264.0\" width=\"344px\" xmlns=\"http://www.w3.org/2000/svg\" xmlns:ev=\"http://www.w3.org/2001/xml-events\" xmlns:xlink=\"http://www.w3.org/1999/xlink\"><defs /><svg width=\"100%\" x=\"0\" y=\"0px\"><defs /><text text-anchor=\"middle\" x=\"50%\" y=\"16px\">S</text></svg><svg width=\"9.30233%\" x=\"0%\" y=\"48px\"><defs /><svg width=\"100%\" x=\"0\" y=\"0px\"><defs /><text text-anchor=\"middle\" x=\"50%\" y=\"16px\">NP</text></svg><svg width=\"100%\" x=\"0%\" y=\"48px\"><defs /><svg width=\"100%\" x=\"0\" y=\"0px\"><defs /><text text-anchor=\"middle\" x=\"50%\" y=\"16px\">I</text></svg></svg><line stroke=\"black\" x1=\"50%\" x2=\"50%\" y1=\"19.2px\" y2=\"48px\" /></svg><line stroke=\"black\" x1=\"50%\" x2=\"4.65116%\" y1=\"19.2px\" y2=\"48px\" /><svg width=\"90.6977%\" x=\"9.30233%\" y=\"48px\"><defs /><svg width=\"100%\" x=\"0\" y=\"0px\"><defs /><text text-anchor=\"middle\" x=\"50%\" y=\"16px\">VP</text></svg><svg width=\"53.8462%\" x=\"0%\" y=\"48px\"><defs /><svg width=\"100%\" x=\"0\" y=\"0px\"><defs /><text text-anchor=\"middle\" x=\"50%\" y=\"16px\">VP</text></svg><svg width=\"28.5714%\" x=\"0%\" y=\"48px\"><defs /><svg width=\"100%\" x=\"0\" y=\"0px\"><defs /><text text-anchor=\"middle\" x=\"50%\" y=\"16px\">V</text></svg><svg width=\"100%\" x=\"0%\" y=\"48px\"><defs /><svg width=\"100%\" x=\"0\" y=\"0px\"><defs /><text text-anchor=\"middle\" x=\"50%\" y=\"16px\">shot</text></svg></svg><line stroke=\"black\" x1=\"50%\" x2=\"50%\" y1=\"19.2px\" y2=\"48px\" /></svg><line stroke=\"black\" x1=\"50%\" x2=\"14.2857%\" y1=\"19.2px\" y2=\"48px\" /><svg width=\"71.4286%\" x=\"28.5714%\" y=\"48px\"><defs /><svg width=\"100%\" x=\"0\" y=\"0px\"><defs /><text text-anchor=\"middle\" x=\"50%\" y=\"16px\">NP</text></svg><svg width=\"33.3333%\" x=\"0%\" y=\"48px\"><defs /><svg width=\"100%\" x=\"0\" y=\"0px\"><defs /><text text-anchor=\"middle\" x=\"50%\" y=\"16px\">Det</text></svg><svg width=\"100%\" x=\"0%\" y=\"48px\"><defs /><svg width=\"100%\" x=\"0\" y=\"0px\"><defs /><text text-anchor=\"middle\" x=\"50%\" y=\"16px\">an</text></svg></svg><line stroke=\"black\" x1=\"50%\" x2=\"50%\" y1=\"19.2px\" y2=\"48px\" /></svg><line stroke=\"black\" x1=\"50%\" x2=\"16.6667%\" y1=\"19.2px\" y2=\"48px\" /><svg width=\"66.6667%\" x=\"33.3333%\" y=\"48px\"><defs /><svg width=\"100%\" x=\"0\" y=\"0px\"><defs /><text text-anchor=\"middle\" x=\"50%\" y=\"16px\">N</text></svg><svg width=\"100%\" x=\"0%\" y=\"48px\"><defs /><svg width=\"100%\" x=\"0\" y=\"0px\"><defs /><text text-anchor=\"middle\" x=\"50%\" y=\"16px\">elephant</text></svg></svg><line stroke=\"black\" x1=\"50%\" x2=\"50%\" y1=\"19.2px\" y2=\"48px\" /></svg><line stroke=\"black\" x1=\"50%\" x2=\"66.6667%\" y1=\"19.2px\" y2=\"48px\" /></svg><line stroke=\"black\" x1=\"50%\" x2=\"64.2857%\" y1=\"19.2px\" y2=\"48px\" /></svg><line stroke=\"black\" x1=\"50%\" x2=\"26.9231%\" y1=\"19.2px\" y2=\"48px\" /><svg width=\"46.1538%\" x=\"53.8462%\" y=\"48px\"><defs /><svg width=\"100%\" x=\"0\" y=\"0px\"><defs /><text text-anchor=\"middle\" x=\"50%\" y=\"16px\">PP</text></svg><svg width=\"22.2222%\" x=\"0%\" y=\"48px\"><defs /><svg width=\"100%\" x=\"0\" y=\"0px\"><defs /><text text-anchor=\"middle\" x=\"50%\" y=\"16px\">P</text></svg><svg width=\"100%\" x=\"0%\" y=\"48px\"><defs /><svg width=\"100%\" x=\"0\" y=\"0px\"><defs /><text text-anchor=\"middle\" x=\"50%\" y=\"16px\">in</text></svg></svg><line stroke=\"black\" x1=\"50%\" x2=\"50%\" y1=\"19.2px\" y2=\"48px\" /></svg><line stroke=\"black\" x1=\"50%\" x2=\"11.1111%\" y1=\"19.2px\" y2=\"48px\" /><svg width=\"77.7778%\" x=\"22.2222%\" y=\"48px\"><defs /><svg width=\"100%\" x=\"0\" y=\"0px\"><defs /><text text-anchor=\"middle\" x=\"50%\" y=\"16px\">NP</text></svg><svg width=\"35.7143%\" x=\"0%\" y=\"48px\"><defs /><svg width=\"100%\" x=\"0\" y=\"0px\"><defs /><text text-anchor=\"middle\" x=\"50%\" y=\"16px\">Det</text></svg><svg width=\"100%\" x=\"0%\" y=\"48px\"><defs /><svg width=\"100%\" x=\"0\" y=\"0px\"><defs /><text text-anchor=\"middle\" x=\"50%\" y=\"16px\">my</text></svg></svg><line stroke=\"black\" x1=\"50%\" x2=\"50%\" y1=\"19.2px\" y2=\"48px\" /></svg><line stroke=\"black\" x1=\"50%\" x2=\"17.8571%\" y1=\"19.2px\" y2=\"48px\" /><svg width=\"64.2857%\" x=\"35.7143%\" y=\"48px\"><defs /><svg width=\"100%\" x=\"0\" y=\"0px\"><defs /><text text-anchor=\"middle\" x=\"50%\" y=\"16px\">N</text></svg><svg width=\"100%\" x=\"0%\" y=\"48px\"><defs /><svg width=\"100%\" x=\"0\" y=\"0px\"><defs /><text text-anchor=\"middle\" x=\"50%\" y=\"16px\">pajamas</text></svg></svg><line stroke=\"black\" x1=\"50%\" x2=\"50%\" y1=\"19.2px\" y2=\"48px\" /></svg><line stroke=\"black\" x1=\"50%\" x2=\"67.8571%\" y1=\"19.2px\" y2=\"48px\" /></svg><line stroke=\"black\" x1=\"50%\" x2=\"61.1111%\" y1=\"19.2px\" y2=\"48px\" /></svg><line stroke=\"black\" x1=\"50%\" x2=\"76.9231%\" y1=\"19.2px\" y2=\"48px\" /></svg><line stroke=\"black\" x1=\"50%\" x2=\"54.6512%\" y1=\"19.2px\" y2=\"48px\" /></svg>"
          },
          "metadata": {},
          "execution_count": 16
        }
      ]
    },
    {
      "cell_type": "code",
      "source": [
        "trees[1]"
      ],
      "metadata": {
        "id": "xmvGPpFlwNgY",
        "outputId": "3363b2cb-658d-48cb-c999-be534e23fae8",
        "colab": {
          "base_uri": "https://localhost:8080/",
          "height": 333
        }
      },
      "execution_count": 17,
      "outputs": [
        {
          "output_type": "execute_result",
          "data": {
            "text/plain": [
              "Tree('S', [Tree('NP', ['I']), Tree('VP', [Tree('V', ['shot']), Tree('NP', [Tree('Det', ['an']), Tree('N', ['elephant']), Tree('PP', [Tree('P', ['in']), Tree('NP', [Tree('Det', ['my']), Tree('N', ['pajamas'])])])])])])"
            ],
            "image/svg+xml": "<svg baseProfile=\"full\" height=\"312px\" preserveAspectRatio=\"xMidYMid meet\" style=\"font-family: times, serif; font-weight: normal; font-style: normal; font-size: 16px;\" version=\"1.1\" viewBox=\"0,0,344.0,312.0\" width=\"344px\" xmlns=\"http://www.w3.org/2000/svg\" xmlns:ev=\"http://www.w3.org/2001/xml-events\" xmlns:xlink=\"http://www.w3.org/1999/xlink\"><defs /><svg width=\"100%\" x=\"0\" y=\"0px\"><defs /><text text-anchor=\"middle\" x=\"50%\" y=\"16px\">S</text></svg><svg width=\"9.30233%\" x=\"0%\" y=\"48px\"><defs /><svg width=\"100%\" x=\"0\" y=\"0px\"><defs /><text text-anchor=\"middle\" x=\"50%\" y=\"16px\">NP</text></svg><svg width=\"100%\" x=\"0%\" y=\"48px\"><defs /><svg width=\"100%\" x=\"0\" y=\"0px\"><defs /><text text-anchor=\"middle\" x=\"50%\" y=\"16px\">I</text></svg></svg><line stroke=\"black\" x1=\"50%\" x2=\"50%\" y1=\"19.2px\" y2=\"48px\" /></svg><line stroke=\"black\" x1=\"50%\" x2=\"4.65116%\" y1=\"19.2px\" y2=\"48px\" /><svg width=\"90.6977%\" x=\"9.30233%\" y=\"48px\"><defs /><svg width=\"100%\" x=\"0\" y=\"0px\"><defs /><text text-anchor=\"middle\" x=\"50%\" y=\"16px\">VP</text></svg><svg width=\"15.3846%\" x=\"0%\" y=\"48px\"><defs /><svg width=\"100%\" x=\"0\" y=\"0px\"><defs /><text text-anchor=\"middle\" x=\"50%\" y=\"16px\">V</text></svg><svg width=\"100%\" x=\"0%\" y=\"48px\"><defs /><svg width=\"100%\" x=\"0\" y=\"0px\"><defs /><text text-anchor=\"middle\" x=\"50%\" y=\"16px\">shot</text></svg></svg><line stroke=\"black\" x1=\"50%\" x2=\"50%\" y1=\"19.2px\" y2=\"48px\" /></svg><line stroke=\"black\" x1=\"50%\" x2=\"7.69231%\" y1=\"19.2px\" y2=\"48px\" /><svg width=\"84.6154%\" x=\"15.3846%\" y=\"48px\"><defs /><svg width=\"100%\" x=\"0\" y=\"0px\"><defs /><text text-anchor=\"middle\" x=\"50%\" y=\"16px\">NP</text></svg><svg width=\"15.1515%\" x=\"0%\" y=\"48px\"><defs /><svg width=\"100%\" x=\"0\" y=\"0px\"><defs /><text text-anchor=\"middle\" x=\"50%\" y=\"16px\">Det</text></svg><svg width=\"100%\" x=\"0%\" y=\"48px\"><defs /><svg width=\"100%\" x=\"0\" y=\"0px\"><defs /><text text-anchor=\"middle\" x=\"50%\" y=\"16px\">an</text></svg></svg><line stroke=\"black\" x1=\"50%\" x2=\"50%\" y1=\"19.2px\" y2=\"48px\" /></svg><line stroke=\"black\" x1=\"50%\" x2=\"7.57576%\" y1=\"19.2px\" y2=\"48px\" /><svg width=\"30.303%\" x=\"15.1515%\" y=\"48px\"><defs /><svg width=\"100%\" x=\"0\" y=\"0px\"><defs /><text text-anchor=\"middle\" x=\"50%\" y=\"16px\">N</text></svg><svg width=\"100%\" x=\"0%\" y=\"48px\"><defs /><svg width=\"100%\" x=\"0\" y=\"0px\"><defs /><text text-anchor=\"middle\" x=\"50%\" y=\"16px\">elephant</text></svg></svg><line stroke=\"black\" x1=\"50%\" x2=\"50%\" y1=\"19.2px\" y2=\"48px\" /></svg><line stroke=\"black\" x1=\"50%\" x2=\"30.303%\" y1=\"19.2px\" y2=\"48px\" /><svg width=\"54.5455%\" x=\"45.4545%\" y=\"48px\"><defs /><svg width=\"100%\" x=\"0\" y=\"0px\"><defs /><text text-anchor=\"middle\" x=\"50%\" y=\"16px\">PP</text></svg><svg width=\"22.2222%\" x=\"0%\" y=\"48px\"><defs /><svg width=\"100%\" x=\"0\" y=\"0px\"><defs /><text text-anchor=\"middle\" x=\"50%\" y=\"16px\">P</text></svg><svg width=\"100%\" x=\"0%\" y=\"48px\"><defs /><svg width=\"100%\" x=\"0\" y=\"0px\"><defs /><text text-anchor=\"middle\" x=\"50%\" y=\"16px\">in</text></svg></svg><line stroke=\"black\" x1=\"50%\" x2=\"50%\" y1=\"19.2px\" y2=\"48px\" /></svg><line stroke=\"black\" x1=\"50%\" x2=\"11.1111%\" y1=\"19.2px\" y2=\"48px\" /><svg width=\"77.7778%\" x=\"22.2222%\" y=\"48px\"><defs /><svg width=\"100%\" x=\"0\" y=\"0px\"><defs /><text text-anchor=\"middle\" x=\"50%\" y=\"16px\">NP</text></svg><svg width=\"35.7143%\" x=\"0%\" y=\"48px\"><defs /><svg width=\"100%\" x=\"0\" y=\"0px\"><defs /><text text-anchor=\"middle\" x=\"50%\" y=\"16px\">Det</text></svg><svg width=\"100%\" x=\"0%\" y=\"48px\"><defs /><svg width=\"100%\" x=\"0\" y=\"0px\"><defs /><text text-anchor=\"middle\" x=\"50%\" y=\"16px\">my</text></svg></svg><line stroke=\"black\" x1=\"50%\" x2=\"50%\" y1=\"19.2px\" y2=\"48px\" /></svg><line stroke=\"black\" x1=\"50%\" x2=\"17.8571%\" y1=\"19.2px\" y2=\"48px\" /><svg width=\"64.2857%\" x=\"35.7143%\" y=\"48px\"><defs /><svg width=\"100%\" x=\"0\" y=\"0px\"><defs /><text text-anchor=\"middle\" x=\"50%\" y=\"16px\">N</text></svg><svg width=\"100%\" x=\"0%\" y=\"48px\"><defs /><svg width=\"100%\" x=\"0\" y=\"0px\"><defs /><text text-anchor=\"middle\" x=\"50%\" y=\"16px\">pajamas</text></svg></svg><line stroke=\"black\" x1=\"50%\" x2=\"50%\" y1=\"19.2px\" y2=\"48px\" /></svg><line stroke=\"black\" x1=\"50%\" x2=\"67.8571%\" y1=\"19.2px\" y2=\"48px\" /></svg><line stroke=\"black\" x1=\"50%\" x2=\"61.1111%\" y1=\"19.2px\" y2=\"48px\" /></svg><line stroke=\"black\" x1=\"50%\" x2=\"72.7273%\" y1=\"19.2px\" y2=\"48px\" /></svg><line stroke=\"black\" x1=\"50%\" x2=\"57.6923%\" y1=\"19.2px\" y2=\"48px\" /></svg><line stroke=\"black\" x1=\"50%\" x2=\"54.6512%\" y1=\"19.2px\" y2=\"48px\" /></svg>"
          },
          "metadata": {},
          "execution_count": 17
        }
      ]
    },
    {
      "cell_type": "code",
      "source": [],
      "metadata": {
        "id": "VZXxeN43wPXz"
      },
      "execution_count": null,
      "outputs": []
    }
  ],
  "metadata": {
    "colab": {
      "provenance": [],
      "include_colab_link": true
    },
    "kernelspec": {
      "display_name": "IHLT",
      "language": "python",
      "name": "ihlt"
    },
    "language_info": {
      "codemirror_mode": {
        "name": "ipython",
        "version": 3
      },
      "file_extension": ".py",
      "mimetype": "text/x-python",
      "name": "python",
      "nbconvert_exporter": "python",
      "pygments_lexer": "ipython3",
      "version": "3.9.13"
    },
    "vscode": {
      "interpreter": {
        "hash": "0795eca24a98e58b2dcbec80c9554a91f94c5c7d4e675f06c8c2f85c434623a5"
      }
    }
  },
  "nbformat": 4,
  "nbformat_minor": 0
}